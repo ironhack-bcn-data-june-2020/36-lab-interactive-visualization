{
 "cells": [
  {
   "cell_type": "markdown",
   "metadata": {
    "toc": true
   },
   "source": [
    "<h1>Table of Contents<span class=\"tocSkip\"></span></h1>\n",
    "<div class=\"toc\"><ul class=\"toc-item\"><li><span><a href=\"#Interactive-Visualization-Lab\" data-toc-modified-id=\"Interactive-Visualization-Lab-1\"><span class=\"toc-item-num\">1&nbsp;&nbsp;</span>Interactive Visualization Lab</a></span><ul class=\"toc-item\"><li><span><a href=\"#1.-Create-an-interactive-bar-chart-showing-total-quantity-and-revenue-by-country-(excluding-United-Kingdom)-for-the-month-of-April-2011.\" data-toc-modified-id=\"1.-Create-an-interactive-bar-chart-showing-total-quantity-and-revenue-by-country-(excluding-United-Kingdom)-for-the-month-of-April-2011.-1.1\"><span class=\"toc-item-num\">1.1&nbsp;&nbsp;</span>1. Create an interactive bar chart showing total quantity and revenue by country (excluding United Kingdom) for the month of April 2011.</a></span></li><li><span><a href=\"#2.-Create-an-interactive-line-chart-showing-quantity-and-revenue-sold-to-France-between-January-1st-and-May-31st-2011.\" data-toc-modified-id=\"2.-Create-an-interactive-line-chart-showing-quantity-and-revenue-sold-to-France-between-January-1st-and-May-31st-2011.-1.2\"><span class=\"toc-item-num\">1.2&nbsp;&nbsp;</span>2. Create an interactive line chart showing quantity and revenue sold to France between January 1st and May 31st 2011.</a></span></li><li><span><a href=\"#3.-Create-an-interactive-scatter-plot-showing-the-relationship-between-average-quantity-(x-axis)-and-average-unit-price-(y-axis)-for-the-product-PARTY-BUNTING-with-the-plot-points-color-coded-by-country-(categories).\" data-toc-modified-id=\"3.-Create-an-interactive-scatter-plot-showing-the-relationship-between-average-quantity-(x-axis)-and-average-unit-price-(y-axis)-for-the-product-PARTY-BUNTING-with-the-plot-points-color-coded-by-country-(categories).-1.3\"><span class=\"toc-item-num\">1.3&nbsp;&nbsp;</span>3. Create an interactive scatter plot showing the relationship between average quantity (x-axis) and average unit price (y-axis) for the product PARTY BUNTING with the plot points color-coded by country (categories).</a></span></li><li><span><a href=\"#4.-Create-a-set-of-interactive-histograms-showing-the-distributions-of-quantity-per-invoice-for-the-following-countries:-EIRE,-Germany,-France,-and-Netherlands.\" data-toc-modified-id=\"4.-Create-a-set-of-interactive-histograms-showing-the-distributions-of-quantity-per-invoice-for-the-following-countries:-EIRE,-Germany,-France,-and-Netherlands.-1.4\"><span class=\"toc-item-num\">1.4&nbsp;&nbsp;</span>4. Create a set of interactive histograms showing the distributions of quantity per invoice for the following countries: EIRE, Germany, France, and Netherlands.</a></span></li><li><span><a href=\"#5.-Create-an-interactive-side-by-side-bar-chart-showing-the-revenue-by-country-listed-below-(bars)-for-each-of-the-products-listed-below.\" data-toc-modified-id=\"5.-Create-an-interactive-side-by-side-bar-chart-showing-the-revenue-by-country-listed-below-(bars)-for-each-of-the-products-listed-below.-1.5\"><span class=\"toc-item-num\">1.5&nbsp;&nbsp;</span>5. Create an interactive side-by-side bar chart showing the revenue by country listed below (bars) for each of the products listed below.</a></span></li><li><span><a href=\"#6.-Create-an-interactive-line-chart-showing-quantity-sold-by-day-for-the-United-Kingdom.-Add-drop-down-boxes-for-Year-and-Month-that-allow-you-to-filter-the-date-range-that-appears-in-the-chart.\" data-toc-modified-id=\"6.-Create-an-interactive-line-chart-showing-quantity-sold-by-day-for-the-United-Kingdom.-Add-drop-down-boxes-for-Year-and-Month-that-allow-you-to-filter-the-date-range-that-appears-in-the-chart.-1.6\"><span class=\"toc-item-num\">1.6&nbsp;&nbsp;</span>6. Create an interactive line chart showing quantity sold by day for the United Kingdom. Add drop-down boxes for Year and Month that allow you to filter the date range that appears in the chart.</a></span></li><li><span><a href=\"#7.-Create-an-interactive-scatter-plot-that-plots-number-of-invoices-(x-axis)-vs.-number-of-customers-(y-axis)-and-the-plot-points-represent-individual-products.-Add-two-sliders-that-control-the-x-and-y-axis-ranges.\" data-toc-modified-id=\"7.-Create-an-interactive-scatter-plot-that-plots-number-of-invoices-(x-axis)-vs.-number-of-customers-(y-axis)-and-the-plot-points-represent-individual-products.-Add-two-sliders-that-control-the-x-and-y-axis-ranges.-1.7\"><span class=\"toc-item-num\">1.7&nbsp;&nbsp;</span>7. Create an interactive scatter plot that plots number of invoices (x-axis) vs. number of customers (y-axis) and the plot points represent individual products. Add two sliders that control the x and y axis ranges.</a></span></li><li><span><a href=\"#8.-Creat-an-interactive-bar-chart-that-shows-revenue-by-product-description.-Add-a-text-field-widget-that-filters-the-results-to-show-the-product-that-contain-the-text-entered-in-their-description.\" data-toc-modified-id=\"8.-Creat-an-interactive-bar-chart-that-shows-revenue-by-product-description.-Add-a-text-field-widget-that-filters-the-results-to-show-the-product-that-contain-the-text-entered-in-their-description.-1.8\"><span class=\"toc-item-num\">1.8&nbsp;&nbsp;</span>8. Creat an interactive bar chart that shows revenue by product description. Add a text field widget that filters the results to show the product that contain the text entered in their description.</a></span></li></ul></li></ul></div>"
   ]
  },
  {
   "cell_type": "markdown",
   "metadata": {},
   "source": [
    "# Interactive Visualization Lab\n",
    "\n",
    "Complete the following set of exercises to solidify your knowledge of interactive visualization using Plotly, Cufflinks, and IPyWidgets."
   ]
  },
  {
   "cell_type": "code",
   "execution_count": 62,
   "metadata": {
    "ExecuteTime": {
     "end_time": "2019-07-27T20:57:40.523866Z",
     "start_time": "2019-07-27T20:57:39.979646Z"
    }
   },
   "outputs": [
    {
     "data": {
      "text/html": [
       "        <script type=\"text/javascript\">\n",
       "        window.PlotlyConfig = {MathJaxConfig: 'local'};\n",
       "        if (window.MathJax) {MathJax.Hub.Config({SVG: {font: \"STIX-Web\"}});}\n",
       "        if (typeof require !== 'undefined') {\n",
       "        require.undef(\"plotly\");\n",
       "        requirejs.config({\n",
       "            paths: {\n",
       "                'plotly': ['https://cdn.plot.ly/plotly-2.4.2.min']\n",
       "            }\n",
       "        });\n",
       "        require(['plotly'], function(Plotly) {\n",
       "            window._Plotly = Plotly;\n",
       "        });\n",
       "        }\n",
       "        </script>\n",
       "        "
      ]
     },
     "metadata": {},
     "output_type": "display_data"
    }
   ],
   "source": [
    "import pandas as pd\n",
    "import chart_studio.plotly as py\n",
    "import cufflinks as cf\n",
    "from ipywidgets import interact\n",
    "import plotly.express as px\n",
    "cf.go_offline()"
   ]
  },
  {
   "cell_type": "code",
   "execution_count": 2,
   "metadata": {
    "ExecuteTime": {
     "end_time": "2019-07-27T21:02:11.999453Z",
     "start_time": "2019-07-27T21:01:30.667125Z"
    }
   },
   "outputs": [],
   "source": [
    "data = pd.read_excel('../data/Online Retail.xlsx')"
   ]
  },
  {
   "cell_type": "markdown",
   "metadata": {},
   "source": [
    "## 1. Create an interactive bar chart showing total quantity and revenue by country (excluding United Kingdom) for the month of April 2011."
   ]
  },
  {
   "cell_type": "code",
   "execution_count": 4,
   "metadata": {},
   "outputs": [
    {
     "data": {
      "text/html": [
       "<div>\n",
       "<style scoped>\n",
       "    .dataframe tbody tr th:only-of-type {\n",
       "        vertical-align: middle;\n",
       "    }\n",
       "\n",
       "    .dataframe tbody tr th {\n",
       "        vertical-align: top;\n",
       "    }\n",
       "\n",
       "    .dataframe thead th {\n",
       "        text-align: right;\n",
       "    }\n",
       "</style>\n",
       "<table border=\"1\" class=\"dataframe\">\n",
       "  <thead>\n",
       "    <tr style=\"text-align: right;\">\n",
       "      <th></th>\n",
       "      <th>InvoiceNo</th>\n",
       "      <th>InvoiceDate</th>\n",
       "      <th>StockCode</th>\n",
       "      <th>Description</th>\n",
       "      <th>Quantity</th>\n",
       "      <th>UnitPrice</th>\n",
       "      <th>Revenue</th>\n",
       "      <th>CustomerID</th>\n",
       "      <th>Country</th>\n",
       "    </tr>\n",
       "  </thead>\n",
       "  <tbody>\n",
       "    <tr>\n",
       "      <th>0</th>\n",
       "      <td>536365</td>\n",
       "      <td>2010-12-01 08:26:00</td>\n",
       "      <td>85123A</td>\n",
       "      <td>CREAM HANGING HEART T-LIGHT HOLDER</td>\n",
       "      <td>6</td>\n",
       "      <td>2.55</td>\n",
       "      <td>15.3</td>\n",
       "      <td>17850</td>\n",
       "      <td>United Kingdom</td>\n",
       "    </tr>\n",
       "    <tr>\n",
       "      <th>1</th>\n",
       "      <td>536373</td>\n",
       "      <td>2010-12-01 09:02:00</td>\n",
       "      <td>85123A</td>\n",
       "      <td>CREAM HANGING HEART T-LIGHT HOLDER</td>\n",
       "      <td>6</td>\n",
       "      <td>2.55</td>\n",
       "      <td>15.3</td>\n",
       "      <td>17850</td>\n",
       "      <td>United Kingdom</td>\n",
       "    </tr>\n",
       "    <tr>\n",
       "      <th>2</th>\n",
       "      <td>536375</td>\n",
       "      <td>2010-12-01 09:32:00</td>\n",
       "      <td>85123A</td>\n",
       "      <td>CREAM HANGING HEART T-LIGHT HOLDER</td>\n",
       "      <td>6</td>\n",
       "      <td>2.55</td>\n",
       "      <td>15.3</td>\n",
       "      <td>17850</td>\n",
       "      <td>United Kingdom</td>\n",
       "    </tr>\n",
       "    <tr>\n",
       "      <th>3</th>\n",
       "      <td>536390</td>\n",
       "      <td>2010-12-01 10:19:00</td>\n",
       "      <td>85123A</td>\n",
       "      <td>CREAM HANGING HEART T-LIGHT HOLDER</td>\n",
       "      <td>64</td>\n",
       "      <td>2.55</td>\n",
       "      <td>163.2</td>\n",
       "      <td>17511</td>\n",
       "      <td>United Kingdom</td>\n",
       "    </tr>\n",
       "    <tr>\n",
       "      <th>4</th>\n",
       "      <td>536394</td>\n",
       "      <td>2010-12-01 10:39:00</td>\n",
       "      <td>85123A</td>\n",
       "      <td>CREAM HANGING HEART T-LIGHT HOLDER</td>\n",
       "      <td>32</td>\n",
       "      <td>2.55</td>\n",
       "      <td>81.6</td>\n",
       "      <td>13408</td>\n",
       "      <td>United Kingdom</td>\n",
       "    </tr>\n",
       "  </tbody>\n",
       "</table>\n",
       "</div>"
      ],
      "text/plain": [
       "   InvoiceNo         InvoiceDate StockCode  \\\n",
       "0     536365 2010-12-01 08:26:00    85123A   \n",
       "1     536373 2010-12-01 09:02:00    85123A   \n",
       "2     536375 2010-12-01 09:32:00    85123A   \n",
       "3     536390 2010-12-01 10:19:00    85123A   \n",
       "4     536394 2010-12-01 10:39:00    85123A   \n",
       "\n",
       "                          Description  Quantity  UnitPrice  Revenue  \\\n",
       "0  CREAM HANGING HEART T-LIGHT HOLDER         6       2.55     15.3   \n",
       "1  CREAM HANGING HEART T-LIGHT HOLDER         6       2.55     15.3   \n",
       "2  CREAM HANGING HEART T-LIGHT HOLDER         6       2.55     15.3   \n",
       "3  CREAM HANGING HEART T-LIGHT HOLDER        64       2.55    163.2   \n",
       "4  CREAM HANGING HEART T-LIGHT HOLDER        32       2.55     81.6   \n",
       "\n",
       "   CustomerID         Country  \n",
       "0       17850  United Kingdom  \n",
       "1       17850  United Kingdom  \n",
       "2       17850  United Kingdom  \n",
       "3       17511  United Kingdom  \n",
       "4       13408  United Kingdom  "
      ]
     },
     "execution_count": 4,
     "metadata": {},
     "output_type": "execute_result"
    }
   ],
   "source": [
    "data.head()"
   ]
  },
  {
   "cell_type": "code",
   "execution_count": 11,
   "metadata": {},
   "outputs": [
    {
     "data": {
      "application/vnd.plotly.v1+json": {
       "config": {
        "linkText": "Export to plot.ly",
        "plotlyServerURL": "https://plot.ly",
        "showLink": true
       },
       "data": [
        {
         "marker": {
          "color": "rgba(255, 153, 51, 0.6)",
          "line": {
           "color": "rgba(255, 153, 51, 1.0)",
           "width": 1
          }
         },
         "name": "Revenue",
         "orientation": "v",
         "text": "",
         "type": "bar",
         "x": [
          "EIRE",
          "France",
          "Switzerland",
          "Germany",
          "Germany",
          "Austria",
          "France",
          "Germany",
          "EIRE",
          "EIRE",
          "Portugal",
          "Switzerland",
          "Spain",
          "Switzerland",
          "Germany",
          "EIRE",
          "Spain",
          "Channel Islands",
          "Finland",
          "Sweden",
          "France",
          "Switzerland",
          "Austria",
          "Germany",
          "Germany",
          "EIRE",
          "Germany",
          "Germany",
          "France",
          "EIRE",
          "Germany",
          "Greece",
          "France",
          "Germany",
          "Germany",
          "Finland",
          "France",
          "Iceland",
          "Belgium",
          "Portugal",
          "Germany",
          "France",
          "Netherlands",
          "Belgium",
          "Germany",
          "Belgium",
          "Germany",
          "Spain",
          "Belgium",
          "France",
          "Germany",
          "France",
          "Italy",
          "France",
          "Spain",
          "Germany",
          "Sweden",
          "Netherlands",
          "Netherlands",
          "Germany",
          "Belgium",
          "France",
          "Switzerland",
          "Brazil",
          "France",
          "France",
          "Spain",
          "Germany",
          "Belgium",
          "Belgium",
          "France",
          "Belgium",
          "France",
          "Spain",
          "Japan",
          "Portugal",
          "Spain",
          "Netherlands",
          "Iceland",
          "Germany",
          "Germany",
          "Belgium",
          "France",
          "Spain",
          "Germany",
          "USA",
          "France",
          "EIRE",
          "Japan",
          "Japan",
          "Austria",
          "Iceland",
          "EIRE",
          "France",
          "Japan",
          "Brazil",
          "Germany",
          "EIRE",
          "Germany",
          "Singapore",
          "Germany",
          "EIRE",
          "Italy",
          "Japan",
          "EIRE",
          "Germany",
          "Germany",
          "Singapore",
          "Australia",
          "Germany",
          "Belgium",
          "Switzerland",
          "Germany",
          "Switzerland",
          "Finland",
          "Germany",
          "Portugal",
          "Germany",
          "Germany",
          "France",
          "Australia",
          "Germany",
          "EIRE",
          "Portugal",
          "Sweden",
          "France",
          "France",
          "Spain",
          "Sweden",
          "France",
          "Germany",
          "Sweden",
          "France",
          "France",
          "Belgium",
          "Germany",
          "France",
          "Sweden",
          "France",
          "Germany",
          "Portugal",
          "Germany",
          "Belgium",
          "Switzerland",
          "Austria",
          "France",
          "Spain",
          "Iceland",
          "Belgium",
          "EIRE",
          "Austria",
          "Austria",
          "Spain",
          "Portugal",
          "Spain",
          "Germany",
          "Italy",
          "Germany",
          "Singapore",
          "Netherlands",
          "Germany",
          "Germany",
          "Portugal",
          "Singapore",
          "EIRE",
          "EIRE",
          "Portugal",
          "Germany",
          "Portugal",
          "Germany",
          "Germany",
          "Iceland",
          "Greece",
          "EIRE",
          "France",
          "Japan",
          "EIRE",
          "Germany",
          "Switzerland",
          "EIRE",
          "Italy",
          "EIRE",
          "Singapore",
          "Brazil",
          "Singapore",
          "EIRE",
          "EIRE",
          "France",
          "Brazil",
          "USA",
          "Japan",
          "Greece",
          "Belgium",
          "Spain",
          "France",
          "Singapore",
          "Belgium",
          "EIRE",
          "Spain",
          "Brazil",
          "Germany",
          "EIRE",
          "Brazil",
          "Germany",
          "Poland",
          "Portugal",
          "Germany",
          "Germany",
          "Germany",
          "Germany",
          "EIRE",
          "EIRE",
          "Australia",
          "Germany",
          "EIRE",
          "Germany",
          "EIRE",
          "Germany",
          "France",
          "Spain",
          "EIRE",
          "EIRE",
          "Portugal",
          "France",
          "EIRE",
          "Germany",
          "Germany",
          "EIRE",
          "Greece",
          "France",
          "France",
          "Japan",
          "Australia",
          "Portugal",
          "France",
          "Brazil",
          "France",
          "Belgium",
          "EIRE",
          "Singapore",
          "Netherlands",
          "EIRE",
          "Germany",
          "Belgium",
          "France",
          "Germany",
          "Germany",
          "EIRE",
          "EIRE",
          "Sweden",
          "Germany",
          "EIRE",
          "Germany",
          "Greece",
          "Germany",
          "Poland",
          "Greece",
          "Finland",
          "Spain",
          "France",
          "France",
          "France",
          "Singapore",
          "EIRE",
          "Singapore",
          "EIRE",
          "Switzerland",
          "Germany",
          "EIRE",
          "Germany",
          "Poland",
          "Iceland",
          "Australia",
          "Iceland",
          "Germany",
          "France",
          "Sweden",
          "France",
          "Germany",
          "France",
          "France",
          "Germany",
          "Germany",
          "EIRE",
          "Singapore",
          "Italy",
          "Germany",
          "EIRE",
          "Spain",
          "Germany",
          "Germany",
          "Portugal",
          "Portugal",
          "Germany",
          "Spain",
          "Spain",
          "Germany",
          "Portugal",
          "Germany",
          "Germany",
          "France",
          "France",
          "EIRE",
          "Germany",
          "EIRE",
          "Spain",
          "Switzerland",
          "Sweden",
          "USA",
          "Austria",
          "EIRE",
          "Spain",
          "EIRE",
          "Italy",
          "Germany",
          "France",
          "Switzerland",
          "EIRE",
          "EIRE",
          "Germany",
          "Greece",
          "France",
          "Greece",
          "Japan",
          "EIRE",
          "Portugal",
          "Switzerland",
          "France",
          "Germany",
          "Germany",
          "Germany",
          "Poland",
          "Belgium",
          "Portugal",
          "Germany",
          "Germany",
          "Australia",
          "Germany",
          "EIRE",
          "Greece",
          "EIRE",
          "Germany",
          "Germany",
          "EIRE",
          "Germany",
          "Portugal",
          "Portugal",
          "EIRE",
          "Singapore",
          "EIRE",
          "EIRE",
          "Portugal",
          "EIRE",
          "Germany",
          "EIRE",
          "Singapore",
          "Portugal",
          "Portugal",
          "Belgium",
          "Spain",
          "France",
          "Belgium",
          "Germany",
          "Germany",
          "EIRE",
          "Singapore",
          "France",
          "Belgium",
          "Switzerland",
          "Spain",
          "France",
          "Germany",
          "Australia",
          "France",
          "Brazil",
          "France",
          "France",
          "Belgium",
          "France",
          "France",
          "Australia",
          "Germany",
          "Belgium",
          "France",
          "Germany",
          "Italy",
          "France",
          "Sweden",
          "Netherlands",
          "Germany",
          "Australia",
          "EIRE",
          "Sweden",
          "France",
          "Spain",
          "France",
          "Germany",
          "Germany",
          "Germany",
          "Belgium",
          "Spain",
          "Greece",
          "Portugal",
          "EIRE",
          "Germany",
          "EIRE",
          "Germany",
          "Germany",
          "Germany",
          "EIRE",
          "Sweden",
          "EIRE",
          "Portugal",
          "France",
          "Germany",
          "Switzerland",
          "Spain",
          "France",
          "Australia",
          "Portugal",
          "Belgium",
          "Germany",
          "EIRE",
          "Germany",
          "Portugal",
          "Sweden",
          "Italy",
          "Germany",
          "Australia",
          "Japan",
          "Germany",
          "EIRE",
          "Sweden",
          "France",
          "Spain",
          "EIRE",
          "EIRE",
          "Germany",
          "Belgium",
          "Singapore",
          "Germany",
          "Germany",
          "Brazil",
          "EIRE",
          "Germany",
          "Belgium",
          "Iceland",
          "France",
          "Germany",
          "EIRE",
          "Portugal",
          "France",
          "France",
          "France",
          "Germany",
          "Spain",
          "EIRE",
          "Belgium",
          "Japan",
          "EIRE",
          "Netherlands",
          "EIRE",
          "Netherlands",
          "EIRE",
          "Germany",
          "Belgium",
          "Germany",
          "Spain",
          "Germany",
          "France",
          "Sweden",
          "Netherlands",
          "Netherlands",
          "France",
          "Belgium",
          "Brazil",
          "France",
          "Spain",
          "Belgium",
          "Belgium",
          "Switzerland",
          "Switzerland",
          "Spain",
          "Belgium",
          "Switzerland",
          "Spain",
          "Spain",
          "Germany",
          "Australia",
          "EIRE",
          "Germany",
          "Japan",
          "Germany",
          "France",
          "Sweden",
          "EIRE",
          "France",
          "Germany",
          "Switzerland",
          "Germany",
          "EIRE",
          "EIRE",
          "EIRE",
          "Netherlands",
          "Italy",
          "Germany",
          "Switzerland",
          "Germany",
          "EIRE",
          "EIRE",
          "Germany",
          "Germany",
          "Germany",
          "EIRE",
          "Japan",
          "Germany",
          "Belgium",
          "Portugal",
          "Germany",
          "Germany",
          "France",
          "Switzerland",
          "Spain",
          "Belgium",
          "USA",
          "EIRE",
          "EIRE",
          "EIRE",
          "Germany",
          "Germany",
          "USA",
          "France",
          "Poland",
          "EIRE",
          "Germany",
          "Singapore",
          "EIRE",
          "EIRE",
          "EIRE",
          "Japan",
          "Japan",
          "EIRE",
          "Spain",
          "EIRE",
          "Switzerland",
          "Belgium",
          "EIRE",
          "Germany",
          "Switzerland",
          "EIRE",
          "Switzerland",
          "Belgium",
          "Switzerland",
          "Germany",
          "Singapore",
          "Portugal",
          "Switzerland",
          "Germany",
          "Belgium",
          "France",
          "Switzerland",
          "France",
          "Germany",
          "Germany",
          "Germany",
          "Germany",
          "Belgium",
          "Germany",
          "France",
          "Switzerland",
          "Switzerland",
          "Japan",
          "Japan",
          "EIRE",
          "Belgium",
          "Portugal",
          "Switzerland",
          "EIRE",
          "Spain",
          "EIRE",
          "Germany",
          "Switzerland",
          "EIRE",
          "Switzerland",
          "France",
          "EIRE",
          "Germany",
          "Germany",
          "Switzerland",
          "Germany",
          "Portugal",
          "Germany",
          "Spain",
          "Germany",
          "EIRE",
          "Poland",
          "Portugal",
          "Switzerland",
          "Switzerland",
          "Spain",
          "Greece",
          "EIRE",
          "Singapore",
          "EIRE",
          "France",
          "EIRE",
          "Japan",
          "Germany",
          "France",
          "EIRE",
          "Brazil",
          "Japan",
          "EIRE",
          "Switzerland",
          "Austria",
          "Portugal",
          "Portugal",
          "Sweden",
          "Germany",
          "Singapore",
          "Australia",
          "Germany",
          "Sweden",
          "Switzerland",
          "Switzerland",
          "France",
          "Austria",
          "Austria",
          "France",
          "EIRE",
          "France",
          "Portugal",
          "Germany",
          "EIRE",
          "Iceland",
          "EIRE",
          "Portugal",
          "France",
          "Brazil",
          "Germany",
          "Germany",
          "USA",
          "Switzerland",
          "Germany",
          "Austria",
          "Germany",
          "France",
          "Germany",
          "Germany",
          "France",
          "EIRE",
          "Japan",
          "Germany",
          "Germany",
          "Iceland",
          "France",
          "Belgium",
          "Finland",
          "Spain",
          "EIRE",
          "France",
          "France",
          "France",
          "EIRE",
          "EIRE",
          "Japan",
          "France",
          "EIRE",
          "EIRE",
          "EIRE",
          "Sweden",
          "Switzerland",
          "Spain",
          "Austria",
          "EIRE",
          "Germany",
          "Netherlands",
          "EIRE",
          "Singapore",
          "Germany",
          "EIRE",
          "France",
          "EIRE",
          "EIRE",
          "Sweden",
          "Belgium",
          "Germany",
          "Spain",
          "Finland",
          "Sweden",
          "EIRE",
          "Finland",
          "Germany",
          "Austria",
          "EIRE",
          "Germany",
          "Germany",
          "Iceland",
          "EIRE",
          "Germany",
          "Germany",
          "Germany",
          "EIRE",
          "Germany",
          "EIRE",
          "France",
          "EIRE",
          "Sweden",
          "Switzerland",
          "Germany",
          "Spain",
          "Iceland",
          "Portugal",
          "Brazil",
          "EIRE",
          "Switzerland",
          "Greece",
          "Belgium",
          "EIRE",
          "Brazil",
          "Switzerland",
          "EIRE",
          "Germany",
          "Germany",
          "Germany",
          "Austria",
          "Germany",
          "Germany",
          "Netherlands",
          "Germany",
          "Netherlands",
          "Germany",
          "Belgium",
          "Germany",
          "Italy",
          "Germany",
          "Germany",
          "Portugal",
          "France",
          "Japan",
          "EIRE",
          "EIRE",
          "Germany",
          "EIRE",
          "Belgium",
          "Spain",
          "France",
          "Germany",
          "Germany",
          "Belgium",
          "Japan",
          "France",
          "Singapore",
          "EIRE",
          "Germany",
          "EIRE",
          "France",
          "EIRE",
          "Spain",
          "EIRE",
          "Germany",
          "Belgium",
          "Germany",
          "France",
          "Switzerland",
          "Sweden",
          "France",
          "Germany",
          "Germany",
          "France",
          "Switzerland",
          "Germany",
          "Belgium",
          "Germany",
          "Switzerland",
          "Germany",
          "Singapore",
          "Japan",
          "Austria",
          "Japan",
          "Japan",
          "Japan",
          "Finland",
          "Singapore",
          "EIRE",
          "Portugal",
          "EIRE",
          "Portugal",
          "Germany",
          "EIRE",
          "Switzerland",
          "EIRE",
          "Germany",
          "Switzerland",
          "Portugal",
          "Germany",
          "Germany",
          "EIRE",
          "Channel Islands",
          "Germany",
          "Brazil",
          "Japan",
          "Germany",
          "France",
          "Portugal",
          "Switzerland",
          "Spain",
          "Germany",
          "EIRE",
          "EIRE",
          "Singapore",
          "EIRE",
          "EIRE",
          "Japan",
          "USA",
          "Singapore",
          "Belgium",
          "Spain",
          "EIRE",
          "Portugal",
          "Germany",
          "Singapore",
          "Germany",
          "France",
          "Germany",
          "Germany",
          "Portugal",
          "Germany",
          "Belgium",
          "EIRE",
          "Singapore",
          "Portugal",
          "Netherlands",
          "Portugal",
          "EIRE",
          "EIRE",
          "Spain",
          "Greece",
          "Germany",
          "Germany",
          "Italy",
          "Italy",
          "Italy",
          "Portugal",
          "Brazil",
          "France",
          "Belgium",
          "Poland",
          "Poland",
          "Germany",
          "Germany",
          "Germany",
          "Finland",
          "Spain",
          "EIRE",
          "Singapore",
          "Brazil",
          "France",
          "France",
          "France",
          "Germany",
          "Germany",
          "EIRE",
          "France",
          "Brazil",
          "Portugal",
          "Germany",
          "Germany",
          "Spain",
          "USA",
          "France",
          "Germany",
          "EIRE",
          "EIRE",
          "France",
          "Germany",
          "EIRE",
          "France",
          "Poland",
          "Portugal",
          "Germany",
          "Singapore",
          "Belgium",
          "Switzerland",
          "Finland",
          "Germany",
          "Germany",
          "Switzerland",
          "Germany",
          "Belgium",
          "Germany",
          "France",
          "Switzerland",
          "Spain",
          "Iceland",
          "Greece",
          "EIRE",
          "EIRE",
          "EIRE",
          "France",
          "France",
          "Germany",
          "France",
          "EIRE",
          "Singapore",
          "Spain",
          "France",
          "Spain",
          "Singapore",
          "EIRE",
          "Australia",
          "EIRE",
          "Germany",
          "EIRE",
          "Germany",
          "EIRE",
          "Singapore",
          "Singapore",
          "France",
          "Belgium",
          "Belgium",
          "EIRE",
          "France",
          "Germany",
          "EIRE",
          "France",
          "Japan",
          "Switzerland",
          "Germany",
          "Belgium",
          "Germany",
          "France",
          "Germany",
          "Germany",
          "Japan",
          "Singapore",
          "France",
          "France",
          "Germany",
          "Finland",
          "France",
          "Belgium",
          "Finland",
          "Greece",
          "Germany",
          "Germany",
          "Netherlands",
          "Greece",
          "France",
          "Germany",
          "Iceland",
          "Belgium",
          "France",
          "Germany",
          "France",
          "Germany",
          "Germany",
          "France",
          "Germany",
          "Switzerland",
          "France",
          "Belgium",
          "EIRE",
          "France",
          "Japan",
          "Belgium",
          "Spain",
          "USA",
          "Germany",
          "Belgium",
          "Belgium",
          "Spain",
          "France",
          "Belgium",
          "EIRE",
          "Channel Islands",
          "Portugal",
          "Brazil",
          "EIRE",
          "Japan",
          "EIRE",
          "Austria",
          "Japan",
          "France",
          "Switzerland",
          "Spain",
          "France",
          "Germany",
          "Germany",
          "Japan",
          "Portugal",
          "Germany",
          "Germany",
          "France",
          "EIRE",
          "Portugal",
          "EIRE",
          "USA",
          "Switzerland",
          "EIRE",
          "Switzerland",
          "EIRE",
          "Singapore",
          "Netherlands",
          "France",
          "France",
          "Germany",
          "Iceland",
          "France",
          "Iceland",
          "France",
          "France",
          "EIRE",
          "Finland",
          "Belgium",
          "Spain",
          "Germany",
          "EIRE",
          "France",
          "Spain",
          "Germany",
          "Germany",
          "Belgium",
          "Germany",
          "Japan",
          "EIRE",
          "Portugal",
          "Germany",
          "Spain",
          "Spain",
          "Germany",
          "Germany",
          "Spain",
          "Germany",
          "Netherlands",
          "Germany",
          "Germany",
          "Netherlands",
          "Finland",
          "Spain",
          "Germany",
          "France",
          "Germany",
          "Netherlands",
          "France",
          "Germany",
          "France",
          "Spain",
          "Germany",
          "EIRE",
          "EIRE",
          "Germany",
          "EIRE",
          "Greece",
          "Germany",
          "Germany",
          "Singapore",
          "Germany",
          "Spain",
          "EIRE",
          "France",
          "Portugal",
          "Germany",
          "EIRE",
          "Germany",
          "Italy",
          "Greece",
          "Germany",
          "Spain",
          "Iceland",
          "Germany",
          "EIRE",
          "Portugal",
          "Germany",
          "Germany",
          "Netherlands",
          "Germany",
          "Germany",
          "Australia",
          "EIRE",
          "EIRE",
          "Germany",
          "EIRE",
          "Germany",
          "EIRE",
          "Belgium",
          "EIRE",
          "France",
          "Germany",
          "Germany",
          "France",
          "EIRE",
          "Netherlands",
          "Germany",
          "Germany",
          "Germany",
          "France",
          "Switzerland",
          "Germany",
          "Spain",
          "EIRE",
          "EIRE",
          "Poland",
          "Iceland",
          "Germany",
          "Belgium",
          "EIRE",
          "Germany",
          "Belgium",
          "Germany",
          "France",
          "Sweden",
          "Belgium",
          "Germany",
          "EIRE",
          "Switzerland",
          "Germany",
          "Germany",
          "Germany",
          "EIRE",
          "EIRE",
          "EIRE",
          "Belgium",
          "Germany",
          "Poland",
          "Germany",
          "Finland",
          "EIRE",
          "France",
          "Switzerland",
          "Spain",
          "EIRE",
          "Germany",
          "Germany",
          "Germany",
          "Poland",
          "Belgium",
          "Germany",
          "France",
          "France",
          "Poland",
          "EIRE",
          "Belgium",
          "Spain",
          "Poland",
          "Portugal",
          "Germany",
          "EIRE",
          "Greece",
          "Sweden",
          "Germany",
          "Germany",
          "Germany",
          "Belgium",
          "Switzerland",
          "Germany",
          "Poland",
          "EIRE",
          "Germany",
          "USA",
          "France",
          "Spain",
          "Germany",
          "EIRE",
          "Iceland",
          "EIRE",
          "France",
          "France",
          "Germany",
          "EIRE",
          "EIRE",
          "EIRE",
          "Italy",
          "Germany",
          "Switzerland",
          "EIRE",
          "Switzerland",
          "France",
          "Belgium",
          "Poland",
          "Portugal",
          "Brazil",
          "Spain",
          "France",
          "Germany",
          "EIRE",
          "Singapore",
          "Iceland",
          "Iceland",
          "Germany",
          "Germany",
          "EIRE",
          "Germany",
          "Germany",
          "Germany",
          "Greece",
          "EIRE",
          "France",
          "Germany",
          "Belgium",
          "Belgium",
          "France",
          "EIRE",
          "EIRE",
          "Germany",
          "Germany",
          "EIRE",
          "France",
          "France",
          "France",
          "Japan",
          "EIRE",
          "Japan",
          "EIRE",
          "Singapore",
          "Finland",
          "France",
          "Spain",
          "Singapore",
          "Germany",
          "Germany",
          "Germany",
          "Germany",
          "France",
          "France",
          "Sweden",
          "EIRE",
          "Portugal",
          "EIRE",
          "Poland",
          "France",
          "EIRE",
          "Japan",
          "Japan",
          "EIRE",
          "EIRE",
          "Germany",
          "Finland",
          "Germany",
          "France",
          "Germany",
          "Belgium",
          "Austria",
          "Greece",
          "Belgium",
          "Germany",
          "Channel Islands",
          "Channel Islands",
          "Germany",
          "Spain",
          "Channel Islands",
          "Germany",
          "Belgium",
          "EIRE",
          "Germany",
          "EIRE",
          "Germany",
          "Germany",
          "Germany",
          "Spain",
          "France",
          "EIRE",
          "France",
          "Germany",
          "France",
          "EIRE",
          "USA",
          "EIRE",
          "EIRE",
          "Belgium",
          "Spain",
          "Italy",
          "Singapore",
          "Germany",
          "EIRE",
          "Germany",
          "Sweden",
          "Germany",
          "EIRE",
          "Italy",
          "Belgium",
          "Singapore",
          "Spain",
          "Switzerland",
          "EIRE",
          "Finland",
          "Singapore",
          "EIRE",
          "Finland",
          "Germany",
          "Poland",
          "Italy",
          "Greece",
          "EIRE",
          "Germany",
          "Germany",
          "Germany",
          "Germany",
          "EIRE",
          "EIRE",
          "EIRE",
          "Germany",
          "Switzerland",
          "Belgium",
          "Finland",
          "Belgium",
          "Germany",
          "EIRE",
          "France",
          "Switzerland",
          "Germany",
          "Germany",
          "Germany",
          "Germany",
          "France",
          "Germany",
          "Channel Islands",
          "Belgium",
          "France",
          "France",
          "Singapore",
          "Belgium",
          "Spain",
          "Belgium",
          "Switzerland",
          "France",
          "Germany",
          "Poland",
          "Portugal",
          "Spain",
          "EIRE",
          "EIRE",
          "EIRE",
          "Germany",
          "Belgium",
          "Spain",
          "Japan",
          "Germany",
          "Poland",
          "Portugal",
          "USA",
          "Spain",
          "France",
          "EIRE",
          "Portugal",
          "Brazil",
          "Switzerland",
          "EIRE",
          "Greece",
          "Germany",
          "EIRE",
          "Poland",
          "France",
          "Germany",
          "France",
          "Germany",
          "EIRE",
          "Belgium",
          "Iceland",
          "France",
          "Singapore",
          "Belgium",
          "Germany",
          "EIRE",
          "Japan",
          "Finland",
          "Belgium",
          "USA",
          "Spain",
          "Germany",
          "Switzerland",
          "EIRE",
          "France",
          "EIRE",
          "Germany",
          "Germany",
          "France",
          "EIRE",
          "Sweden",
          "EIRE",
          "EIRE",
          "EIRE",
          "Belgium",
          "Spain",
          "Germany",
          "Poland",
          "EIRE",
          "EIRE",
          "EIRE",
          "Belgium",
          "Portugal",
          "Finland",
          "Japan",
          "Finland",
          "Germany",
          "Germany",
          "Germany",
          "Finland",
          "Brazil",
          "Germany",
          "USA",
          "France",
          "USA",
          "Austria",
          "France",
          "EIRE",
          "Portugal",
          "Germany",
          "EIRE",
          "France",
          "EIRE",
          "EIRE",
          "Belgium",
          "Belgium",
          "Germany",
          "USA",
          "Belgium",
          "Belgium",
          "France",
          "Germany",
          "France",
          "Germany",
          "EIRE",
          "EIRE",
          "Greece",
          "Germany",
          "Germany",
          "Greece",
          "EIRE",
          "EIRE",
          "Germany",
          "EIRE",
          "EIRE",
          "Spain",
          "EIRE",
          "Portugal",
          "France",
          "EIRE",
          "Australia",
          "EIRE",
          "Portugal",
          "Germany",
          "Switzerland",
          "Spain",
          "Spain",
          "Germany",
          "EIRE",
          "EIRE",
          "USA",
          "Finland",
          "Germany",
          "EIRE",
          "Germany",
          "EIRE",
          "France",
          "EIRE",
          "France",
          "France",
          "EIRE",
          "Finland",
          "Germany",
          "Finland",
          "Germany",
          "Germany",
          "Belgium",
          "EIRE",
          "EIRE",
          "EIRE",
          "Poland",
          "France",
          "Germany",
          "Germany",
          "EIRE",
          "EIRE",
          "EIRE",
          "Portugal",
          "Portugal",
          "France",
          "EIRE",
          "EIRE",
          "Portugal",
          "Portugal",
          "EIRE",
          "EIRE",
          "Germany",
          "EIRE",
          "Greece",
          "Spain",
          "EIRE",
          "France",
          "Germany",
          "Finland",
          "France",
          "Germany",
          "Switzerland",
          "Germany",
          "USA",
          "France",
          "France",
          "EIRE",
          "Germany",
          "USA",
          "Japan",
          "Germany",
          "Singapore",
          "EIRE",
          "Australia",
          "Germany",
          "Brazil",
          "Germany",
          "USA",
          "Austria",
          "Sweden",
          "Belgium",
          "France",
          "Belgium",
          "EIRE",
          "Germany",
          "EIRE",
          "France",
          "EIRE",
          "Germany",
          "EIRE",
          "France",
          "France",
          "France",
          "Poland",
          "Singapore",
          "EIRE",
          "France",
          "Singapore",
          "Poland",
          "Singapore",
          "Japan",
          "Germany",
          "Germany",
          "Germany",
          "USA",
          "EIRE",
          "Singapore",
          "Iceland",
          "Portugal",
          "Germany",
          "EIRE",
          "Singapore",
          "Japan",
          "Belgium",
          "Portugal",
          "EIRE",
          "Singapore",
          "EIRE",
          "Germany",
          "Portugal",
          "Germany",
          "Germany",
          "Germany",
          "Portugal",
          "Germany",
          "Portugal",
          "Brazil",
          "Portugal",
          "Finland",
          "Brazil",
          "Belgium",
          "Germany",
          "France",
          "Germany",
          "Brazil",
          "EIRE",
          "France",
          "Germany",
          "Brazil",
          "Germany",
          "France",
          "Austria",
          "Germany",
          "France",
          "Brazil",
          "Spain",
          "Austria",
          "France",
          "Germany",
          "Germany",
          "Brazil",
          "Austria",
          "Germany",
          "France",
          "Germany",
          "Brazil",
          "EIRE",
          "France",
          "Spain",
          "Austria",
          "Germany",
          "Germany",
          "Germany",
          "Brazil",
          "France",
          "Germany",
          "Singapore",
          "France",
          "Germany",
          "Switzerland",
          "EIRE",
          "France",
          "Switzerland",
          "Spain",
          "EIRE",
          "EIRE",
          "Germany",
          "Spain",
          "Finland",
          "Germany",
          "Germany",
          "Germany",
          "Finland",
          "Belgium",
          "EIRE",
          "France",
          "Germany",
          "Finland",
          "Iceland",
          "Belgium",
          "France",
          "Austria",
          "EIRE",
          "Germany",
          "Finland",
          "Italy",
          "Belgium",
          "Germany",
          "Brazil",
          "France",
          "Germany",
          "Greece",
          "Germany",
          "Finland",
          "France",
          "Belgium",
          "Belgium",
          "Greece",
          "Finland",
          "Portugal",
          "Finland",
          "Italy",
          "Greece",
          "Germany",
          "Italy",
          "Greece",
          "France",
          "Germany",
          "France",
          "Spain",
          "Sweden",
          "Belgium",
          "Germany",
          "Germany",
          "Switzerland",
          "Spain",
          "Belgium",
          "Germany",
          "Germany",
          "Spain",
          "Sweden",
          "Spain",
          "Spain",
          "Germany",
          "EIRE",
          "Germany",
          "Switzerland",
          "EIRE",
          "Germany",
          "Switzerland",
          "Germany",
          "Channel Islands",
          "Germany",
          "Italy",
          "EIRE",
          "France",
          "Sweden",
          "Belgium",
          "Germany",
          "EIRE",
          "Germany",
          "Spain",
          "Germany",
          "Belgium",
          "Germany"
         ],
         "y": [
          17.7,
          26.55,
          17,
          67.6,
          54.08,
          13.52,
          6.76,
          13.52,
          15,
          17.85,
          17.85,
          14.85,
          17.85,
          39.8,
          15.9,
          45,
          25.5,
          45,
          25.5,
          25.5,
          4.25,
          25.5,
          25.5,
          14.85,
          17.85,
          112.5,
          30,
          30,
          45,
          112.5,
          30,
          15,
          30,
          30,
          7.800000000000001,
          7.800000000000001,
          102,
          15,
          15,
          19.5,
          275,
          39,
          244.8,
          17.7,
          53.1,
          17.7,
          17.7,
          17.7,
          17.7,
          17.7,
          17.7,
          35.40000000000001,
          35.40000000000001,
          35.40000000000001,
          17.7,
          35.40000000000001,
          17.7,
          122.4,
          105.6,
          23.4,
          23.4,
          23.4,
          23.4,
          23.4,
          23.4,
          23.4,
          23.4,
          23.4,
          23.4,
          23.4,
          23.4,
          23.4,
          23.4,
          23.4,
          72,
          17,
          8.5,
          79.19999999999999,
          19.8,
          19.8,
          19.8,
          19.8,
          39.59999999999999,
          19.8,
          19.8,
          9.75,
          39,
          15,
          172.8,
          172.8,
          10.08,
          23.4,
          23.4,
          23.4,
          316.8,
          17.85,
          71.4,
          15,
          53.7,
          41.6,
          20.8,
          20.8,
          20.8,
          42.5,
          8.5,
          8.5,
          17,
          49.8,
          16.6,
          16.6,
          16.6,
          16.6,
          16.6,
          16.6,
          182.6,
          10.2,
          8.5,
          10.2,
          20.4,
          33,
          49.5,
          16.5,
          16.5,
          16.5,
          16.5,
          33,
          33,
          16.5,
          16.5,
          15.3,
          30.6,
          15.3,
          15.3,
          15.3,
          15.3,
          30.6,
          30.6,
          15.3,
          13.2,
          13.2,
          13.2,
          13.2,
          26.4,
          13.2,
          13.2,
          13.2,
          13.2,
          13.2,
          26.4,
          13.2,
          13.2,
          13.2,
          13.2,
          26.4,
          13.2,
          19.5,
          20.8,
          41.6,
          20.8,
          165,
          20.8,
          19.5,
          41.6,
          17.4,
          11.6,
          14.85,
          59.40000000000001,
          14.85,
          20.8,
          15,
          15,
          15,
          15,
          15,
          10.2,
          100.8,
          10.2,
          10.2,
          10.2,
          208.8,
          20.28,
          266.4,
          49.92,
          24.96,
          61.2,
          30.6,
          15.3,
          2.95,
          20.4,
          7.649999999999999,
          52.2,
          17.4,
          17.4,
          17.4,
          14.85,
          51,
          14.85,
          14.85,
          14.85,
          17.85,
          107.1,
          17.85,
          17.85,
          17.4,
          17.4,
          17.4,
          17.4,
          17.7,
          17.7,
          35.40000000000001,
          15.9,
          15,
          21,
          10.5,
          92.5,
          10.5,
          92.5,
          23.6,
          5.95,
          14.95,
          15.8,
          17.7,
          35.40000000000001,
          11.8,
          25.5,
          25.5,
          25.5,
          17.85,
          17.85,
          17.85,
          20.8,
          145,
          49.5,
          33,
          16.5,
          16.5,
          33,
          16.5,
          22.5,
          41.6,
          330,
          20.8,
          19.5,
          19.5,
          20.8,
          62.40000000000001,
          20.8,
          17,
          17,
          34,
          12.75,
          17.7,
          17.7,
          10.2,
          20.4,
          17.4,
          17.4,
          17.4,
          10.2,
          35.7,
          17.85,
          17.85,
          51,
          17,
          51,
          17,
          17,
          34,
          17,
          34,
          39.59999999999999,
          19.8,
          19.8,
          10.2,
          10.2,
          10.2,
          10.2,
          0.85,
          10.2,
          10.2,
          0.85,
          10.2,
          39.8,
          10.2,
          72,
          40.8,
          10.2,
          10.2,
          10.2,
          10.2,
          10.2,
          12.75,
          10.2,
          20.4,
          10.2,
          10.2,
          7.800000000000001,
          3.9,
          7.800000000000001,
          15.6,
          31.2,
          10.08,
          14.85,
          30,
          17.4,
          17.4,
          15,
          15,
          15,
          60,
          39.8,
          19.9,
          19.8,
          17.88,
          39.59999999999999,
          16.5,
          16.5,
          13.8,
          13.8,
          27.6,
          15,
          15,
          39.95,
          27.84,
          6.959999999999999,
          6.959999999999999,
          6.959999999999999,
          17.7,
          17.7,
          15.9,
          30,
          76.32000000000001,
          15,
          15,
          15,
          19.8,
          20.1,
          20.1,
          14.85,
          23.6,
          23.6,
          17.4,
          15,
          19.8,
          19.8,
          29.7,
          45,
          19.9,
          30.6,
          15.9,
          15.9,
          15.9,
          6.600000000000001,
          6.600000000000001,
          6.600000000000001,
          25.2,
          30,
          20.4,
          10.2,
          10.2,
          15,
          12.5,
          12.5,
          12.5,
          17.7,
          81.6,
          31.8,
          15.9,
          15.9,
          15.9,
          16.5,
          16.5,
          16.5,
          16.5,
          16.5,
          33,
          16.5,
          33,
          16.5,
          16.5,
          16.5,
          16.5,
          16.5,
          16.5,
          33,
          33,
          33,
          16.5,
          145,
          16.5,
          49.5,
          16.5,
          16.5,
          33,
          16.5,
          15.3,
          75.60000000000001,
          30.6,
          61.2,
          22.95,
          16.95,
          15,
          15,
          15,
          15,
          15,
          15,
          15,
          15,
          15,
          15,
          15,
          3.75,
          1.25,
          12.6,
          13.2,
          13.2,
          16.5,
          49.5,
          16.5,
          16.5,
          16.5,
          16.5,
          16.5,
          16.5,
          16.5,
          33,
          16.5,
          16.5,
          207.36,
          23.4,
          25.2,
          25.2,
          2.1,
          20.4,
          15,
          15,
          15,
          11.4,
          67.5,
          15.9,
          15.9,
          19.8,
          5.04,
          5.04,
          5.04,
          17,
          17,
          6.3,
          17.4,
          17.4,
          17.4,
          1.25,
          3.3,
          30,
          12.6,
          17.7,
          15,
          207.36,
          20.25,
          165,
          12.5,
          122.4,
          17.7,
          35.40000000000001,
          17.7,
          17.7,
          17.7,
          70.80000000000001,
          2.95,
          35.40000000000001,
          122.4,
          105.6,
          23.4,
          23.4,
          46.8,
          23.4,
          23.4,
          23.4,
          13.52,
          13.52,
          13.52,
          54.08,
          13.52,
          13.52,
          40.56,
          54.08,
          17.7,
          17.7,
          17.7,
          19.8,
          59.4,
          7.800000000000001,
          7.800000000000001,
          7.800000000000001,
          19.8,
          19.8,
          19.8,
          19.8,
          19.8,
          19.8,
          19.8,
          19.8,
          139.2,
          19.8,
          39.59999999999999,
          19.8,
          17.7,
          17.7,
          17.7,
          15,
          30,
          13.5,
          17.7,
          304.8,
          76.19999999999999,
          15.9,
          47.7,
          15.9,
          31.8,
          63.6,
          15.9,
          15.9,
          15.9,
          10.15,
          51.84,
          10.2,
          10.2,
          12.6,
          12.6,
          12.6,
          10.2,
          20.4,
          10.2,
          10.2,
          13.92,
          6.959999999999999,
          6.959999999999999,
          15,
          27.84,
          92.5,
          12.6,
          12.6,
          15.6,
          31.2,
          15.6,
          13.2,
          13.2,
          13.2,
          13.2,
          13.2,
          13.2,
          13.2,
          10.2,
          39.59999999999999,
          19.8,
          19.8,
          19.8,
          19.8,
          39.59999999999999,
          19.8,
          19.8,
          19.8,
          19.8,
          19.8,
          39.59999999999999,
          19.8,
          19.8,
          19.8,
          19.8,
          19.8,
          207.36,
          183.6,
          17.7,
          15,
          23.4,
          23.4,
          19.5,
          19.5,
          15,
          15,
          20.4,
          20.4,
          20.4,
          2.95,
          17.7,
          35.40000000000001,
          15,
          15,
          15,
          15.3,
          15.3,
          15,
          12.5,
          12.5,
          35.76,
          17.88,
          15.6,
          15.6,
          15.6,
          15,
          15,
          23.8,
          11.9,
          5.95,
          11.9,
          118.8,
          15.9,
          30,
          17.4,
          19.5,
          264,
          17.7,
          17.7,
          17.7,
          17.7,
          30,
          30,
          17,
          39.59999999999999,
          13.2,
          69.6,
          25.2,
          12.6,
          16.5,
          17.7,
          30,
          15.3,
          20,
          20,
          20,
          20,
          40,
          12.75,
          38.25,
          25.5,
          51,
          12.75,
          175.2,
          51,
          25.5,
          76.5,
          25.5,
          12.75,
          25.5,
          350.4,
          25.5,
          13.5,
          13.5,
          17.7,
          17.7,
          102,
          10.2,
          10.2,
          17,
          17,
          17,
          5.04,
          10.08,
          5.04,
          5.04,
          19.5,
          39,
          10.2,
          134.4,
          15.3,
          2.55,
          7.800000000000001,
          7.800000000000001,
          7.800000000000001,
          25.2,
          12.6,
          12.6,
          15.3,
          15,
          17.7,
          20.8,
          121.68,
          12.6,
          12.6,
          19.9,
          9.95,
          19.8,
          19.8,
          16.6,
          16.6,
          33.2,
          16.6,
          270,
          33.2,
          12.6,
          12.6,
          169,
          50.40000000000001,
          12.6,
          12.6,
          15,
          17.7,
          17.7,
          17.7,
          10.2,
          10.2,
          10.2,
          20.4,
          10.2,
          0.85,
          9.95,
          9.95,
          19.9,
          63.75,
          23.6,
          17.7,
          11.8,
          61.2,
          17.7,
          17.7,
          17.7,
          17.7,
          61.2,
          61.2,
          17.7,
          15,
          27.04,
          17,
          17,
          17,
          138.24,
          10.2,
          158.4,
          70.2,
          165,
          19.5,
          19.5,
          41.6,
          41.6,
          41.6,
          19.8,
          19.8,
          3.3,
          122.4,
          17.7,
          17.7,
          17.7,
          19.9,
          39.8,
          19.9,
          19.9,
          68,
          14.85,
          19.9,
          61.2,
          3.95,
          25.92,
          10.08,
          10.5,
          21,
          10.5,
          10.5,
          10.5,
          19.8,
          39.59999999999999,
          19.8,
          19.8,
          19.8,
          19.8,
          19.8,
          19.8,
          19.8,
          19.8,
          19.8,
          19.8,
          19.8,
          19.8,
          19.8,
          19.8,
          19.8,
          10.08,
          172.8,
          10.08,
          104.4,
          417.6,
          207.36,
          5.04,
          25.92,
          13.92,
          6.959999999999999,
          6.959999999999999,
          6.959999999999999,
          6.959999999999999,
          6.959999999999999,
          6.959999999999999,
          6.959999999999999,
          6.959999999999999,
          6.959999999999999,
          6.959999999999999,
          17.7,
          17.7,
          17.7,
          35.40000000000001,
          17.7,
          15,
          101.76,
          40.8,
          40.8,
          43.8,
          32.84999999999999,
          10.95,
          15,
          22.5,
          22.5,
          45,
          22.5,
          17.7,
          102,
          17.7,
          90,
          15,
          15,
          47.7,
          15.9,
          47.7,
          202.5,
          15.9,
          15.9,
          12.7,
          17,
          8.5,
          17,
          13.5,
          81.12,
          20.8,
          20.8,
          165,
          20.8,
          15.9,
          15.9,
          15.9,
          15,
          25.2,
          14.85,
          61.2,
          40.8,
          81.6,
          15.9,
          67.5,
          75,
          15,
          23.2,
          19.9,
          15,
          15,
          15,
          30,
          15,
          266.4,
          50.40000000000001,
          25.2,
          15,
          1.25,
          2.5,
          15,
          15.3,
          23.4,
          17.85,
          17.85,
          10,
          15,
          15,
          15,
          4.2,
          5.04,
          5.04,
          5.04,
          5.04,
          5.04,
          5.04,
          112.5,
          30,
          60,
          17.88,
          17.88,
          49.8,
          16.6,
          16.6,
          149.4,
          54.08,
          5.04,
          15,
          6.8,
          6.8,
          6.8,
          6.8,
          6.8,
          20.4,
          17,
          17,
          16.5,
          18.72,
          10.2,
          12.6,
          22.5,
          15,
          12.5,
          10.2,
          20.16,
          5.04,
          19.5,
          17.7,
          27.2,
          14.85,
          14.85,
          17.85,
          17.85,
          17.85,
          17.85,
          17.85,
          34.8,
          67.5,
          31.8,
          10.08,
          5.04,
          5.04,
          5.04,
          5.04,
          13.92,
          13.92,
          120.96,
          15.6,
          37.2,
          6.72,
          10.2,
          10.2,
          7.800000000000001,
          7.800000000000001,
          207.36,
          25.92,
          5.04,
          10.08,
          5.04,
          5.04,
          5.04,
          5.04,
          5.04,
          15,
          15,
          15,
          101.76,
          15,
          23.4,
          23.4,
          11.7,
          11.7,
          11.7,
          11.7,
          1.95,
          23.4,
          23.4,
          11.7,
          11.7,
          11.7,
          1.95,
          5.04,
          19.8,
          10.2,
          429.6,
          19.9,
          19.9,
          15.3,
          40.2,
          10,
          10,
          10,
          7.95,
          10.2,
          19.9,
          15.3,
          15,
          81.36,
          15,
          158.4,
          19.8,
          79.2,
          102,
          2.95,
          17.7,
          17.7,
          70.80000000000001,
          22.5,
          19.8,
          204,
          19.8,
          19.8,
          306,
          19.8,
          19.8,
          31.2,
          16.35,
          21.8,
          16.35,
          16.35,
          16.35,
          11.9,
          41.6,
          165,
          20.8,
          20.8,
          20.8,
          17,
          17,
          17,
          1.7,
          0.85,
          15.6,
          15.6,
          15.6,
          15.6,
          106.2,
          10.2,
          14.75,
          14.75,
          17.85,
          17.7,
          15.3,
          22.5,
          234,
          22.5,
          22.5,
          22.5,
          17,
          10,
          6.8,
          6.8,
          27.2,
          7.800000000000001,
          7.800000000000001,
          10.2,
          10.2,
          10.2,
          17,
          10,
          103.68,
          7.95,
          59.8,
          102,
          12.6,
          17.4,
          1.45,
          17.4,
          10.2,
          22.5,
          15.3,
          30.6,
          17,
          17,
          34,
          15,
          51.84,
          20.4,
          20.4,
          15.3,
          2.5,
          15.3,
          30.6,
          15.3,
          10.2,
          61.2,
          10.2,
          10.2,
          10.2,
          7.800000000000001,
          17,
          8.5,
          8.5,
          17,
          8.5,
          72,
          8.5,
          8.5,
          21,
          92.5,
          10.5,
          27,
          12.5,
          59.40000000000001,
          14.85,
          5.04,
          5.04,
          5.04,
          5.04,
          5.04,
          5.04,
          10.5,
          72,
          8.5,
          17,
          17,
          8.5,
          8.5,
          17,
          22.5,
          10.2,
          10.2,
          20.4,
          17.7,
          17.7,
          17.7,
          23.4,
          13.5,
          13.5,
          13.5,
          13.5,
          15,
          17.7,
          25.2,
          25.2,
          61.2,
          34,
          12.6,
          13.5,
          266.4,
          266.4,
          15,
          15,
          17.7,
          17.7,
          35.40000000000001,
          17.7,
          19.8,
          6.8,
          6.8,
          27.2,
          19.9,
          25.5,
          13.2,
          63.2,
          39.8,
          15.3,
          30.6,
          2.55,
          15.3,
          12.5,
          12.5,
          12.5,
          12.5,
          39.6,
          39.6,
          79.2,
          10.5,
          12.5,
          14.95,
          51,
          19.8,
          15.3,
          15.3,
          19.8,
          19.8,
          25.4,
          10.5,
          17.4,
          4.35,
          1.45,
          17.4,
          12.6,
          15,
          30,
          15,
          10.2,
          10.2,
          106.2,
          14.75,
          14.75,
          14.75,
          17.7,
          35.40000000000001,
          39.6,
          19.8,
          19.8,
          9.9,
          19.8,
          34,
          27,
          40.5,
          14.85,
          15,
          15,
          30.6,
          20.28,
          10.2,
          10.2,
          13.2,
          13.2,
          121.68,
          20.28,
          15.3,
          15.3,
          15,
          15,
          75,
          50,
          15,
          15,
          14.75,
          14.75,
          14.75,
          29.5,
          14.75,
          14.75,
          29.5,
          88.5,
          14.75,
          127.5,
          14.75,
          61.2,
          15,
          61.2,
          10.2,
          1.45,
          17.4,
          30,
          90,
          34,
          19.92,
          4.98,
          2.55,
          1.25,
          15,
          30.6,
          30.6,
          16.5,
          20.4,
          20.4,
          15,
          45,
          150,
          15,
          15,
          40.68,
          30,
          15,
          15,
          7.56,
          7.56,
          17.7,
          13.5,
          13.5,
          23.4,
          14.5,
          39.6,
          19.8,
          19.9,
          39.8,
          19.9,
          19.9,
          4.68,
          18.75,
          15,
          15,
          17.7,
          35.40000000000001,
          10.4,
          35.40000000000001,
          9.899999999999999,
          9.899999999999999,
          9.899999999999999,
          9.899999999999999,
          9.899999999999999,
          30.6,
          17.7,
          12.75,
          6.3,
          3.36,
          37.44,
          25.2,
          90,
          25.5,
          63.75,
          15,
          5.04,
          5.76,
          14.85,
          10.08,
          51.84,
          20.4,
          17.4,
          4.68,
          2.34,
          2.34,
          4.68,
          2.34,
          4.68,
          15.9,
          31.8,
          17.7,
          31.8,
          15,
          15,
          10.2,
          12.7,
          35.40000000000001,
          15.9,
          15.9,
          15.9,
          11.7,
          10.08,
          9.36,
          19.8,
          19.8,
          19.8,
          15,
          15,
          10.2,
          10.2,
          10.2,
          30,
          30,
          10.2,
          20.4,
          10.2,
          12.6,
          12.6,
          10.08,
          10.2,
          10.2,
          14.85,
          14.85,
          15,
          17.88,
          35.76,
          5.96,
          15.3,
          10.5,
          49.75,
          15,
          15,
          29.7,
          29.7,
          75.60000000000001,
          15.9,
          17.7,
          59.40000000000001,
          19.8,
          59.40000000000001,
          12.6,
          10.2,
          11.8,
          61.2,
          17.7,
          25.2,
          12.6,
          25.2,
          15,
          30,
          15,
          12.75,
          2.95,
          40.8,
          17.7,
          6.3,
          6,
          15.3,
          100.8,
          15.3,
          13.9,
          15.3,
          83.7,
          41.7,
          20.85,
          34.75,
          20.85,
          71.4,
          17.4,
          15,
          2.95,
          15.9,
          15.9,
          67.5,
          15.9,
          10.2,
          15.9,
          10.2,
          10.2,
          10.2,
          19.8,
          19.8,
          26.4,
          26.4,
          10.2,
          30,
          9.899999999999999,
          5.04,
          61.2,
          10.2,
          172.8,
          12.64,
          29.7,
          15.8,
          31.6,
          15.8,
          82.80000000000001,
          15.8,
          27.65,
          3.95,
          4.95,
          13.9,
          2.1,
          10.2,
          17.4,
          17.4,
          13.95,
          8.4,
          10.2,
          10.2,
          15.3,
          15.3,
          30.6,
          15.3,
          15.3,
          15.3,
          30.6,
          30.6,
          10.2,
          30.6,
          2.52,
          14.85,
          12.6,
          19.92,
          19.92,
          15,
          13.6,
          15,
          17.7,
          81.12,
          14.75,
          14.75,
          19.8,
          17,
          12.6,
          14.85,
          14.85,
          14.85,
          29.7,
          14.85,
          14.85,
          14.85,
          14.85,
          17.7,
          25.5,
          5.76,
          7.5,
          18.72,
          18.72,
          23.4,
          23.4,
          15.6,
          0.65,
          30,
          2.1,
          10.5,
          14.04,
          4.56,
          4.56,
          9.36,
          4.68,
          12.5,
          12.5,
          10.2,
          15,
          11.9,
          20.4,
          10.5,
          10.5,
          10.5,
          19.8,
          19.8,
          17.7,
          35.40000000000001,
          17.7,
          17.7,
          17.7,
          17.7,
          35.40000000000001,
          17.7,
          17.7,
          30.6,
          20.1,
          17.7,
          17.7,
          17.7,
          15,
          30,
          40.68,
          15,
          15,
          15,
          35.40000000000001,
          19.5,
          19.5,
          19.5,
          3.25,
          19.8,
          29.7,
          24.75,
          69.6,
          15,
          15,
          15,
          15,
          15,
          30,
          30,
          1.25,
          15,
          15,
          10.08,
          0.42,
          10.08,
          23.4,
          23.4,
          23.4,
          23.4,
          23.4,
          23.4,
          23.4,
          23.4,
          23.4,
          0.42,
          22.5,
          22.5,
          22.5,
          3.75,
          19.92,
          17.4,
          17.4,
          52.2,
          17.4,
          17.4,
          17.4,
          2.9,
          18,
          18,
          18,
          18,
          18,
          18,
          18,
          72,
          18,
          18,
          18,
          15,
          19.8,
          19.8,
          19.8,
          19.8,
          19.8,
          19.8,
          19.8,
          22.5,
          17.34,
          17.34,
          17.34,
          17.34,
          17.34,
          17.4,
          33,
          16.5,
          57.75,
          16.5,
          16.5,
          33,
          41.25,
          16.5,
          33,
          16.5,
          16.5,
          49.5,
          16.5,
          16.5,
          16.5,
          33,
          16.5,
          49.5,
          41.25,
          16.5,
          16.5,
          49.5,
          33,
          41.25,
          16.5,
          16.5,
          16.5,
          16.5,
          33,
          16.5,
          33,
          41.25,
          16.5,
          16.5,
          33,
          60,
          16.95,
          16.95,
          50.84999999999999,
          89.69999999999999,
          16.95,
          50.84999999999999,
          16.95,
          89.69999999999999,
          16.95,
          16.95,
          16.95,
          18.72,
          18.72,
          9.959999999999999,
          50,
          100,
          25,
          30,
          60,
          30,
          90,
          249.6,
          30,
          60,
          30,
          30,
          30,
          120,
          30,
          30,
          30,
          49.5,
          24.96,
          24.96,
          24.96,
          24.96,
          24.96,
          24.96,
          24.96,
          24.96,
          24.96,
          24.96,
          24.96,
          24.96,
          24.96,
          24.96,
          9.959999999999999,
          19.92,
          9.959999999999999,
          19.92,
          49.92,
          49.92,
          16.6,
          33.2,
          16.6,
          16.6,
          33.2,
          16.6,
          16.6,
          16.6,
          16.6,
          16.6,
          16.6,
          33.2,
          8.5,
          20.8,
          20.8,
          16.5,
          20.8,
          179,
          20.8,
          62.40000000000001,
          179,
          41.6,
          33,
          16.5,
          33,
          16.5,
          16.5,
          33,
          16.5,
          8.5,
          8.5,
          42.5,
          8.5,
          17,
          16.5,
          25
         ]
        }
       ],
       "layout": {
        "legend": {
         "bgcolor": "#F5F6F9",
         "font": {
          "color": "#4D5663"
         }
        },
        "paper_bgcolor": "#F5F6F9",
        "plot_bgcolor": "#F5F6F9",
        "template": {
         "data": {
          "bar": [
           {
            "error_x": {
             "color": "#2a3f5f"
            },
            "error_y": {
             "color": "#2a3f5f"
            },
            "marker": {
             "line": {
              "color": "#E5ECF6",
              "width": 0.5
             },
             "pattern": {
              "fillmode": "overlay",
              "size": 10,
              "solidity": 0.2
             }
            },
            "type": "bar"
           }
          ],
          "barpolar": [
           {
            "marker": {
             "line": {
              "color": "#E5ECF6",
              "width": 0.5
             },
             "pattern": {
              "fillmode": "overlay",
              "size": 10,
              "solidity": 0.2
             }
            },
            "type": "barpolar"
           }
          ],
          "carpet": [
           {
            "aaxis": {
             "endlinecolor": "#2a3f5f",
             "gridcolor": "white",
             "linecolor": "white",
             "minorgridcolor": "white",
             "startlinecolor": "#2a3f5f"
            },
            "baxis": {
             "endlinecolor": "#2a3f5f",
             "gridcolor": "white",
             "linecolor": "white",
             "minorgridcolor": "white",
             "startlinecolor": "#2a3f5f"
            },
            "type": "carpet"
           }
          ],
          "choropleth": [
           {
            "colorbar": {
             "outlinewidth": 0,
             "ticks": ""
            },
            "type": "choropleth"
           }
          ],
          "contour": [
           {
            "colorbar": {
             "outlinewidth": 0,
             "ticks": ""
            },
            "colorscale": [
             [
              0,
              "#0d0887"
             ],
             [
              0.1111111111111111,
              "#46039f"
             ],
             [
              0.2222222222222222,
              "#7201a8"
             ],
             [
              0.3333333333333333,
              "#9c179e"
             ],
             [
              0.4444444444444444,
              "#bd3786"
             ],
             [
              0.5555555555555556,
              "#d8576b"
             ],
             [
              0.6666666666666666,
              "#ed7953"
             ],
             [
              0.7777777777777778,
              "#fb9f3a"
             ],
             [
              0.8888888888888888,
              "#fdca26"
             ],
             [
              1,
              "#f0f921"
             ]
            ],
            "type": "contour"
           }
          ],
          "contourcarpet": [
           {
            "colorbar": {
             "outlinewidth": 0,
             "ticks": ""
            },
            "type": "contourcarpet"
           }
          ],
          "heatmap": [
           {
            "colorbar": {
             "outlinewidth": 0,
             "ticks": ""
            },
            "colorscale": [
             [
              0,
              "#0d0887"
             ],
             [
              0.1111111111111111,
              "#46039f"
             ],
             [
              0.2222222222222222,
              "#7201a8"
             ],
             [
              0.3333333333333333,
              "#9c179e"
             ],
             [
              0.4444444444444444,
              "#bd3786"
             ],
             [
              0.5555555555555556,
              "#d8576b"
             ],
             [
              0.6666666666666666,
              "#ed7953"
             ],
             [
              0.7777777777777778,
              "#fb9f3a"
             ],
             [
              0.8888888888888888,
              "#fdca26"
             ],
             [
              1,
              "#f0f921"
             ]
            ],
            "type": "heatmap"
           }
          ],
          "heatmapgl": [
           {
            "colorbar": {
             "outlinewidth": 0,
             "ticks": ""
            },
            "colorscale": [
             [
              0,
              "#0d0887"
             ],
             [
              0.1111111111111111,
              "#46039f"
             ],
             [
              0.2222222222222222,
              "#7201a8"
             ],
             [
              0.3333333333333333,
              "#9c179e"
             ],
             [
              0.4444444444444444,
              "#bd3786"
             ],
             [
              0.5555555555555556,
              "#d8576b"
             ],
             [
              0.6666666666666666,
              "#ed7953"
             ],
             [
              0.7777777777777778,
              "#fb9f3a"
             ],
             [
              0.8888888888888888,
              "#fdca26"
             ],
             [
              1,
              "#f0f921"
             ]
            ],
            "type": "heatmapgl"
           }
          ],
          "histogram": [
           {
            "marker": {
             "pattern": {
              "fillmode": "overlay",
              "size": 10,
              "solidity": 0.2
             }
            },
            "type": "histogram"
           }
          ],
          "histogram2d": [
           {
            "colorbar": {
             "outlinewidth": 0,
             "ticks": ""
            },
            "colorscale": [
             [
              0,
              "#0d0887"
             ],
             [
              0.1111111111111111,
              "#46039f"
             ],
             [
              0.2222222222222222,
              "#7201a8"
             ],
             [
              0.3333333333333333,
              "#9c179e"
             ],
             [
              0.4444444444444444,
              "#bd3786"
             ],
             [
              0.5555555555555556,
              "#d8576b"
             ],
             [
              0.6666666666666666,
              "#ed7953"
             ],
             [
              0.7777777777777778,
              "#fb9f3a"
             ],
             [
              0.8888888888888888,
              "#fdca26"
             ],
             [
              1,
              "#f0f921"
             ]
            ],
            "type": "histogram2d"
           }
          ],
          "histogram2dcontour": [
           {
            "colorbar": {
             "outlinewidth": 0,
             "ticks": ""
            },
            "colorscale": [
             [
              0,
              "#0d0887"
             ],
             [
              0.1111111111111111,
              "#46039f"
             ],
             [
              0.2222222222222222,
              "#7201a8"
             ],
             [
              0.3333333333333333,
              "#9c179e"
             ],
             [
              0.4444444444444444,
              "#bd3786"
             ],
             [
              0.5555555555555556,
              "#d8576b"
             ],
             [
              0.6666666666666666,
              "#ed7953"
             ],
             [
              0.7777777777777778,
              "#fb9f3a"
             ],
             [
              0.8888888888888888,
              "#fdca26"
             ],
             [
              1,
              "#f0f921"
             ]
            ],
            "type": "histogram2dcontour"
           }
          ],
          "mesh3d": [
           {
            "colorbar": {
             "outlinewidth": 0,
             "ticks": ""
            },
            "type": "mesh3d"
           }
          ],
          "parcoords": [
           {
            "line": {
             "colorbar": {
              "outlinewidth": 0,
              "ticks": ""
             }
            },
            "type": "parcoords"
           }
          ],
          "pie": [
           {
            "automargin": true,
            "type": "pie"
           }
          ],
          "scatter": [
           {
            "marker": {
             "colorbar": {
              "outlinewidth": 0,
              "ticks": ""
             }
            },
            "type": "scatter"
           }
          ],
          "scatter3d": [
           {
            "line": {
             "colorbar": {
              "outlinewidth": 0,
              "ticks": ""
             }
            },
            "marker": {
             "colorbar": {
              "outlinewidth": 0,
              "ticks": ""
             }
            },
            "type": "scatter3d"
           }
          ],
          "scattercarpet": [
           {
            "marker": {
             "colorbar": {
              "outlinewidth": 0,
              "ticks": ""
             }
            },
            "type": "scattercarpet"
           }
          ],
          "scattergeo": [
           {
            "marker": {
             "colorbar": {
              "outlinewidth": 0,
              "ticks": ""
             }
            },
            "type": "scattergeo"
           }
          ],
          "scattergl": [
           {
            "marker": {
             "colorbar": {
              "outlinewidth": 0,
              "ticks": ""
             }
            },
            "type": "scattergl"
           }
          ],
          "scattermapbox": [
           {
            "marker": {
             "colorbar": {
              "outlinewidth": 0,
              "ticks": ""
             }
            },
            "type": "scattermapbox"
           }
          ],
          "scatterpolar": [
           {
            "marker": {
             "colorbar": {
              "outlinewidth": 0,
              "ticks": ""
             }
            },
            "type": "scatterpolar"
           }
          ],
          "scatterpolargl": [
           {
            "marker": {
             "colorbar": {
              "outlinewidth": 0,
              "ticks": ""
             }
            },
            "type": "scatterpolargl"
           }
          ],
          "scatterternary": [
           {
            "marker": {
             "colorbar": {
              "outlinewidth": 0,
              "ticks": ""
             }
            },
            "type": "scatterternary"
           }
          ],
          "surface": [
           {
            "colorbar": {
             "outlinewidth": 0,
             "ticks": ""
            },
            "colorscale": [
             [
              0,
              "#0d0887"
             ],
             [
              0.1111111111111111,
              "#46039f"
             ],
             [
              0.2222222222222222,
              "#7201a8"
             ],
             [
              0.3333333333333333,
              "#9c179e"
             ],
             [
              0.4444444444444444,
              "#bd3786"
             ],
             [
              0.5555555555555556,
              "#d8576b"
             ],
             [
              0.6666666666666666,
              "#ed7953"
             ],
             [
              0.7777777777777778,
              "#fb9f3a"
             ],
             [
              0.8888888888888888,
              "#fdca26"
             ],
             [
              1,
              "#f0f921"
             ]
            ],
            "type": "surface"
           }
          ],
          "table": [
           {
            "cells": {
             "fill": {
              "color": "#EBF0F8"
             },
             "line": {
              "color": "white"
             }
            },
            "header": {
             "fill": {
              "color": "#C8D4E3"
             },
             "line": {
              "color": "white"
             }
            },
            "type": "table"
           }
          ]
         },
         "layout": {
          "annotationdefaults": {
           "arrowcolor": "#2a3f5f",
           "arrowhead": 0,
           "arrowwidth": 1
          },
          "autotypenumbers": "strict",
          "coloraxis": {
           "colorbar": {
            "outlinewidth": 0,
            "ticks": ""
           }
          },
          "colorscale": {
           "diverging": [
            [
             0,
             "#8e0152"
            ],
            [
             0.1,
             "#c51b7d"
            ],
            [
             0.2,
             "#de77ae"
            ],
            [
             0.3,
             "#f1b6da"
            ],
            [
             0.4,
             "#fde0ef"
            ],
            [
             0.5,
             "#f7f7f7"
            ],
            [
             0.6,
             "#e6f5d0"
            ],
            [
             0.7,
             "#b8e186"
            ],
            [
             0.8,
             "#7fbc41"
            ],
            [
             0.9,
             "#4d9221"
            ],
            [
             1,
             "#276419"
            ]
           ],
           "sequential": [
            [
             0,
             "#0d0887"
            ],
            [
             0.1111111111111111,
             "#46039f"
            ],
            [
             0.2222222222222222,
             "#7201a8"
            ],
            [
             0.3333333333333333,
             "#9c179e"
            ],
            [
             0.4444444444444444,
             "#bd3786"
            ],
            [
             0.5555555555555556,
             "#d8576b"
            ],
            [
             0.6666666666666666,
             "#ed7953"
            ],
            [
             0.7777777777777778,
             "#fb9f3a"
            ],
            [
             0.8888888888888888,
             "#fdca26"
            ],
            [
             1,
             "#f0f921"
            ]
           ],
           "sequentialminus": [
            [
             0,
             "#0d0887"
            ],
            [
             0.1111111111111111,
             "#46039f"
            ],
            [
             0.2222222222222222,
             "#7201a8"
            ],
            [
             0.3333333333333333,
             "#9c179e"
            ],
            [
             0.4444444444444444,
             "#bd3786"
            ],
            [
             0.5555555555555556,
             "#d8576b"
            ],
            [
             0.6666666666666666,
             "#ed7953"
            ],
            [
             0.7777777777777778,
             "#fb9f3a"
            ],
            [
             0.8888888888888888,
             "#fdca26"
            ],
            [
             1,
             "#f0f921"
            ]
           ]
          },
          "colorway": [
           "#636efa",
           "#EF553B",
           "#00cc96",
           "#ab63fa",
           "#FFA15A",
           "#19d3f3",
           "#FF6692",
           "#B6E880",
           "#FF97FF",
           "#FECB52"
          ],
          "font": {
           "color": "#2a3f5f"
          },
          "geo": {
           "bgcolor": "white",
           "lakecolor": "white",
           "landcolor": "#E5ECF6",
           "showlakes": true,
           "showland": true,
           "subunitcolor": "white"
          },
          "hoverlabel": {
           "align": "left"
          },
          "hovermode": "closest",
          "mapbox": {
           "style": "light"
          },
          "paper_bgcolor": "white",
          "plot_bgcolor": "#E5ECF6",
          "polar": {
           "angularaxis": {
            "gridcolor": "white",
            "linecolor": "white",
            "ticks": ""
           },
           "bgcolor": "#E5ECF6",
           "radialaxis": {
            "gridcolor": "white",
            "linecolor": "white",
            "ticks": ""
           }
          },
          "scene": {
           "xaxis": {
            "backgroundcolor": "#E5ECF6",
            "gridcolor": "white",
            "gridwidth": 2,
            "linecolor": "white",
            "showbackground": true,
            "ticks": "",
            "zerolinecolor": "white"
           },
           "yaxis": {
            "backgroundcolor": "#E5ECF6",
            "gridcolor": "white",
            "gridwidth": 2,
            "linecolor": "white",
            "showbackground": true,
            "ticks": "",
            "zerolinecolor": "white"
           },
           "zaxis": {
            "backgroundcolor": "#E5ECF6",
            "gridcolor": "white",
            "gridwidth": 2,
            "linecolor": "white",
            "showbackground": true,
            "ticks": "",
            "zerolinecolor": "white"
           }
          },
          "shapedefaults": {
           "line": {
            "color": "#2a3f5f"
           }
          },
          "ternary": {
           "aaxis": {
            "gridcolor": "white",
            "linecolor": "white",
            "ticks": ""
           },
           "baxis": {
            "gridcolor": "white",
            "linecolor": "white",
            "ticks": ""
           },
           "bgcolor": "#E5ECF6",
           "caxis": {
            "gridcolor": "white",
            "linecolor": "white",
            "ticks": ""
           }
          },
          "title": {
           "x": 0.05
          },
          "xaxis": {
           "automargin": true,
           "gridcolor": "white",
           "linecolor": "white",
           "ticks": "",
           "title": {
            "standoff": 15
           },
           "zerolinecolor": "white",
           "zerolinewidth": 2
          },
          "yaxis": {
           "automargin": true,
           "gridcolor": "white",
           "linecolor": "white",
           "ticks": "",
           "title": {
            "standoff": 15
           },
           "zerolinecolor": "white",
           "zerolinewidth": 2
          }
         }
        },
        "title": {
         "font": {
          "color": "#4D5663"
         }
        },
        "xaxis": {
         "gridcolor": "#E1E5ED",
         "showgrid": true,
         "tickfont": {
          "color": "#4D5663"
         },
         "title": {
          "font": {
           "color": "#4D5663"
          },
          "text": "Country"
         },
         "zerolinecolor": "#E1E5ED"
        },
        "yaxis": {
         "gridcolor": "#E1E5ED",
         "showgrid": true,
         "tickfont": {
          "color": "#4D5663"
         },
         "title": {
          "font": {
           "color": "#4D5663"
          },
          "text": "Revenue"
         },
         "zerolinecolor": "#E1E5ED"
        }
       }
      },
      "text/html": [
       "<div>                            <div id=\"dba7ed4c-56cb-45d2-a3f3-347b8e5e814d\" class=\"plotly-graph-div\" style=\"height:525px; width:100%;\"></div>            <script type=\"text/javascript\">                require([\"plotly\"], function(Plotly) {                    window.PLOTLYENV=window.PLOTLYENV || {};\n",
       "                    window.PLOTLYENV.BASE_URL='https://plot.ly';                                    if (document.getElementById(\"dba7ed4c-56cb-45d2-a3f3-347b8e5e814d\")) {                    Plotly.newPlot(                        \"dba7ed4c-56cb-45d2-a3f3-347b8e5e814d\",                        [{\"marker\":{\"color\":\"rgba(255, 153, 51, 0.6)\",\"line\":{\"color\":\"rgba(255, 153, 51, 1.0)\",\"width\":1}},\"name\":\"Revenue\",\"orientation\":\"v\",\"text\":\"\",\"type\":\"bar\",\"x\":[\"EIRE\",\"France\",\"Switzerland\",\"Germany\",\"Germany\",\"Austria\",\"France\",\"Germany\",\"EIRE\",\"EIRE\",\"Portugal\",\"Switzerland\",\"Spain\",\"Switzerland\",\"Germany\",\"EIRE\",\"Spain\",\"Channel Islands\",\"Finland\",\"Sweden\",\"France\",\"Switzerland\",\"Austria\",\"Germany\",\"Germany\",\"EIRE\",\"Germany\",\"Germany\",\"France\",\"EIRE\",\"Germany\",\"Greece\",\"France\",\"Germany\",\"Germany\",\"Finland\",\"France\",\"Iceland\",\"Belgium\",\"Portugal\",\"Germany\",\"France\",\"Netherlands\",\"Belgium\",\"Germany\",\"Belgium\",\"Germany\",\"Spain\",\"Belgium\",\"France\",\"Germany\",\"France\",\"Italy\",\"France\",\"Spain\",\"Germany\",\"Sweden\",\"Netherlands\",\"Netherlands\",\"Germany\",\"Belgium\",\"France\",\"Switzerland\",\"Brazil\",\"France\",\"France\",\"Spain\",\"Germany\",\"Belgium\",\"Belgium\",\"France\",\"Belgium\",\"France\",\"Spain\",\"Japan\",\"Portugal\",\"Spain\",\"Netherlands\",\"Iceland\",\"Germany\",\"Germany\",\"Belgium\",\"France\",\"Spain\",\"Germany\",\"USA\",\"France\",\"EIRE\",\"Japan\",\"Japan\",\"Austria\",\"Iceland\",\"EIRE\",\"France\",\"Japan\",\"Brazil\",\"Germany\",\"EIRE\",\"Germany\",\"Singapore\",\"Germany\",\"EIRE\",\"Italy\",\"Japan\",\"EIRE\",\"Germany\",\"Germany\",\"Singapore\",\"Australia\",\"Germany\",\"Belgium\",\"Switzerland\",\"Germany\",\"Switzerland\",\"Finland\",\"Germany\",\"Portugal\",\"Germany\",\"Germany\",\"France\",\"Australia\",\"Germany\",\"EIRE\",\"Portugal\",\"Sweden\",\"France\",\"France\",\"Spain\",\"Sweden\",\"France\",\"Germany\",\"Sweden\",\"France\",\"France\",\"Belgium\",\"Germany\",\"France\",\"Sweden\",\"France\",\"Germany\",\"Portugal\",\"Germany\",\"Belgium\",\"Switzerland\",\"Austria\",\"France\",\"Spain\",\"Iceland\",\"Belgium\",\"EIRE\",\"Austria\",\"Austria\",\"Spain\",\"Portugal\",\"Spain\",\"Germany\",\"Italy\",\"Germany\",\"Singapore\",\"Netherlands\",\"Germany\",\"Germany\",\"Portugal\",\"Singapore\",\"EIRE\",\"EIRE\",\"Portugal\",\"Germany\",\"Portugal\",\"Germany\",\"Germany\",\"Iceland\",\"Greece\",\"EIRE\",\"France\",\"Japan\",\"EIRE\",\"Germany\",\"Switzerland\",\"EIRE\",\"Italy\",\"EIRE\",\"Singapore\",\"Brazil\",\"Singapore\",\"EIRE\",\"EIRE\",\"France\",\"Brazil\",\"USA\",\"Japan\",\"Greece\",\"Belgium\",\"Spain\",\"France\",\"Singapore\",\"Belgium\",\"EIRE\",\"Spain\",\"Brazil\",\"Germany\",\"EIRE\",\"Brazil\",\"Germany\",\"Poland\",\"Portugal\",\"Germany\",\"Germany\",\"Germany\",\"Germany\",\"EIRE\",\"EIRE\",\"Australia\",\"Germany\",\"EIRE\",\"Germany\",\"EIRE\",\"Germany\",\"France\",\"Spain\",\"EIRE\",\"EIRE\",\"Portugal\",\"France\",\"EIRE\",\"Germany\",\"Germany\",\"EIRE\",\"Greece\",\"France\",\"France\",\"Japan\",\"Australia\",\"Portugal\",\"France\",\"Brazil\",\"France\",\"Belgium\",\"EIRE\",\"Singapore\",\"Netherlands\",\"EIRE\",\"Germany\",\"Belgium\",\"France\",\"Germany\",\"Germany\",\"EIRE\",\"EIRE\",\"Sweden\",\"Germany\",\"EIRE\",\"Germany\",\"Greece\",\"Germany\",\"Poland\",\"Greece\",\"Finland\",\"Spain\",\"France\",\"France\",\"France\",\"Singapore\",\"EIRE\",\"Singapore\",\"EIRE\",\"Switzerland\",\"Germany\",\"EIRE\",\"Germany\",\"Poland\",\"Iceland\",\"Australia\",\"Iceland\",\"Germany\",\"France\",\"Sweden\",\"France\",\"Germany\",\"France\",\"France\",\"Germany\",\"Germany\",\"EIRE\",\"Singapore\",\"Italy\",\"Germany\",\"EIRE\",\"Spain\",\"Germany\",\"Germany\",\"Portugal\",\"Portugal\",\"Germany\",\"Spain\",\"Spain\",\"Germany\",\"Portugal\",\"Germany\",\"Germany\",\"France\",\"France\",\"EIRE\",\"Germany\",\"EIRE\",\"Spain\",\"Switzerland\",\"Sweden\",\"USA\",\"Austria\",\"EIRE\",\"Spain\",\"EIRE\",\"Italy\",\"Germany\",\"France\",\"Switzerland\",\"EIRE\",\"EIRE\",\"Germany\",\"Greece\",\"France\",\"Greece\",\"Japan\",\"EIRE\",\"Portugal\",\"Switzerland\",\"France\",\"Germany\",\"Germany\",\"Germany\",\"Poland\",\"Belgium\",\"Portugal\",\"Germany\",\"Germany\",\"Australia\",\"Germany\",\"EIRE\",\"Greece\",\"EIRE\",\"Germany\",\"Germany\",\"EIRE\",\"Germany\",\"Portugal\",\"Portugal\",\"EIRE\",\"Singapore\",\"EIRE\",\"EIRE\",\"Portugal\",\"EIRE\",\"Germany\",\"EIRE\",\"Singapore\",\"Portugal\",\"Portugal\",\"Belgium\",\"Spain\",\"France\",\"Belgium\",\"Germany\",\"Germany\",\"EIRE\",\"Singapore\",\"France\",\"Belgium\",\"Switzerland\",\"Spain\",\"France\",\"Germany\",\"Australia\",\"France\",\"Brazil\",\"France\",\"France\",\"Belgium\",\"France\",\"France\",\"Australia\",\"Germany\",\"Belgium\",\"France\",\"Germany\",\"Italy\",\"France\",\"Sweden\",\"Netherlands\",\"Germany\",\"Australia\",\"EIRE\",\"Sweden\",\"France\",\"Spain\",\"France\",\"Germany\",\"Germany\",\"Germany\",\"Belgium\",\"Spain\",\"Greece\",\"Portugal\",\"EIRE\",\"Germany\",\"EIRE\",\"Germany\",\"Germany\",\"Germany\",\"EIRE\",\"Sweden\",\"EIRE\",\"Portugal\",\"France\",\"Germany\",\"Switzerland\",\"Spain\",\"France\",\"Australia\",\"Portugal\",\"Belgium\",\"Germany\",\"EIRE\",\"Germany\",\"Portugal\",\"Sweden\",\"Italy\",\"Germany\",\"Australia\",\"Japan\",\"Germany\",\"EIRE\",\"Sweden\",\"France\",\"Spain\",\"EIRE\",\"EIRE\",\"Germany\",\"Belgium\",\"Singapore\",\"Germany\",\"Germany\",\"Brazil\",\"EIRE\",\"Germany\",\"Belgium\",\"Iceland\",\"France\",\"Germany\",\"EIRE\",\"Portugal\",\"France\",\"France\",\"France\",\"Germany\",\"Spain\",\"EIRE\",\"Belgium\",\"Japan\",\"EIRE\",\"Netherlands\",\"EIRE\",\"Netherlands\",\"EIRE\",\"Germany\",\"Belgium\",\"Germany\",\"Spain\",\"Germany\",\"France\",\"Sweden\",\"Netherlands\",\"Netherlands\",\"France\",\"Belgium\",\"Brazil\",\"France\",\"Spain\",\"Belgium\",\"Belgium\",\"Switzerland\",\"Switzerland\",\"Spain\",\"Belgium\",\"Switzerland\",\"Spain\",\"Spain\",\"Germany\",\"Australia\",\"EIRE\",\"Germany\",\"Japan\",\"Germany\",\"France\",\"Sweden\",\"EIRE\",\"France\",\"Germany\",\"Switzerland\",\"Germany\",\"EIRE\",\"EIRE\",\"EIRE\",\"Netherlands\",\"Italy\",\"Germany\",\"Switzerland\",\"Germany\",\"EIRE\",\"EIRE\",\"Germany\",\"Germany\",\"Germany\",\"EIRE\",\"Japan\",\"Germany\",\"Belgium\",\"Portugal\",\"Germany\",\"Germany\",\"France\",\"Switzerland\",\"Spain\",\"Belgium\",\"USA\",\"EIRE\",\"EIRE\",\"EIRE\",\"Germany\",\"Germany\",\"USA\",\"France\",\"Poland\",\"EIRE\",\"Germany\",\"Singapore\",\"EIRE\",\"EIRE\",\"EIRE\",\"Japan\",\"Japan\",\"EIRE\",\"Spain\",\"EIRE\",\"Switzerland\",\"Belgium\",\"EIRE\",\"Germany\",\"Switzerland\",\"EIRE\",\"Switzerland\",\"Belgium\",\"Switzerland\",\"Germany\",\"Singapore\",\"Portugal\",\"Switzerland\",\"Germany\",\"Belgium\",\"France\",\"Switzerland\",\"France\",\"Germany\",\"Germany\",\"Germany\",\"Germany\",\"Belgium\",\"Germany\",\"France\",\"Switzerland\",\"Switzerland\",\"Japan\",\"Japan\",\"EIRE\",\"Belgium\",\"Portugal\",\"Switzerland\",\"EIRE\",\"Spain\",\"EIRE\",\"Germany\",\"Switzerland\",\"EIRE\",\"Switzerland\",\"France\",\"EIRE\",\"Germany\",\"Germany\",\"Switzerland\",\"Germany\",\"Portugal\",\"Germany\",\"Spain\",\"Germany\",\"EIRE\",\"Poland\",\"Portugal\",\"Switzerland\",\"Switzerland\",\"Spain\",\"Greece\",\"EIRE\",\"Singapore\",\"EIRE\",\"France\",\"EIRE\",\"Japan\",\"Germany\",\"France\",\"EIRE\",\"Brazil\",\"Japan\",\"EIRE\",\"Switzerland\",\"Austria\",\"Portugal\",\"Portugal\",\"Sweden\",\"Germany\",\"Singapore\",\"Australia\",\"Germany\",\"Sweden\",\"Switzerland\",\"Switzerland\",\"France\",\"Austria\",\"Austria\",\"France\",\"EIRE\",\"France\",\"Portugal\",\"Germany\",\"EIRE\",\"Iceland\",\"EIRE\",\"Portugal\",\"France\",\"Brazil\",\"Germany\",\"Germany\",\"USA\",\"Switzerland\",\"Germany\",\"Austria\",\"Germany\",\"France\",\"Germany\",\"Germany\",\"France\",\"EIRE\",\"Japan\",\"Germany\",\"Germany\",\"Iceland\",\"France\",\"Belgium\",\"Finland\",\"Spain\",\"EIRE\",\"France\",\"France\",\"France\",\"EIRE\",\"EIRE\",\"Japan\",\"France\",\"EIRE\",\"EIRE\",\"EIRE\",\"Sweden\",\"Switzerland\",\"Spain\",\"Austria\",\"EIRE\",\"Germany\",\"Netherlands\",\"EIRE\",\"Singapore\",\"Germany\",\"EIRE\",\"France\",\"EIRE\",\"EIRE\",\"Sweden\",\"Belgium\",\"Germany\",\"Spain\",\"Finland\",\"Sweden\",\"EIRE\",\"Finland\",\"Germany\",\"Austria\",\"EIRE\",\"Germany\",\"Germany\",\"Iceland\",\"EIRE\",\"Germany\",\"Germany\",\"Germany\",\"EIRE\",\"Germany\",\"EIRE\",\"France\",\"EIRE\",\"Sweden\",\"Switzerland\",\"Germany\",\"Spain\",\"Iceland\",\"Portugal\",\"Brazil\",\"EIRE\",\"Switzerland\",\"Greece\",\"Belgium\",\"EIRE\",\"Brazil\",\"Switzerland\",\"EIRE\",\"Germany\",\"Germany\",\"Germany\",\"Austria\",\"Germany\",\"Germany\",\"Netherlands\",\"Germany\",\"Netherlands\",\"Germany\",\"Belgium\",\"Germany\",\"Italy\",\"Germany\",\"Germany\",\"Portugal\",\"France\",\"Japan\",\"EIRE\",\"EIRE\",\"Germany\",\"EIRE\",\"Belgium\",\"Spain\",\"France\",\"Germany\",\"Germany\",\"Belgium\",\"Japan\",\"France\",\"Singapore\",\"EIRE\",\"Germany\",\"EIRE\",\"France\",\"EIRE\",\"Spain\",\"EIRE\",\"Germany\",\"Belgium\",\"Germany\",\"France\",\"Switzerland\",\"Sweden\",\"France\",\"Germany\",\"Germany\",\"France\",\"Switzerland\",\"Germany\",\"Belgium\",\"Germany\",\"Switzerland\",\"Germany\",\"Singapore\",\"Japan\",\"Austria\",\"Japan\",\"Japan\",\"Japan\",\"Finland\",\"Singapore\",\"EIRE\",\"Portugal\",\"EIRE\",\"Portugal\",\"Germany\",\"EIRE\",\"Switzerland\",\"EIRE\",\"Germany\",\"Switzerland\",\"Portugal\",\"Germany\",\"Germany\",\"EIRE\",\"Channel Islands\",\"Germany\",\"Brazil\",\"Japan\",\"Germany\",\"France\",\"Portugal\",\"Switzerland\",\"Spain\",\"Germany\",\"EIRE\",\"EIRE\",\"Singapore\",\"EIRE\",\"EIRE\",\"Japan\",\"USA\",\"Singapore\",\"Belgium\",\"Spain\",\"EIRE\",\"Portugal\",\"Germany\",\"Singapore\",\"Germany\",\"France\",\"Germany\",\"Germany\",\"Portugal\",\"Germany\",\"Belgium\",\"EIRE\",\"Singapore\",\"Portugal\",\"Netherlands\",\"Portugal\",\"EIRE\",\"EIRE\",\"Spain\",\"Greece\",\"Germany\",\"Germany\",\"Italy\",\"Italy\",\"Italy\",\"Portugal\",\"Brazil\",\"France\",\"Belgium\",\"Poland\",\"Poland\",\"Germany\",\"Germany\",\"Germany\",\"Finland\",\"Spain\",\"EIRE\",\"Singapore\",\"Brazil\",\"France\",\"France\",\"France\",\"Germany\",\"Germany\",\"EIRE\",\"France\",\"Brazil\",\"Portugal\",\"Germany\",\"Germany\",\"Spain\",\"USA\",\"France\",\"Germany\",\"EIRE\",\"EIRE\",\"France\",\"Germany\",\"EIRE\",\"France\",\"Poland\",\"Portugal\",\"Germany\",\"Singapore\",\"Belgium\",\"Switzerland\",\"Finland\",\"Germany\",\"Germany\",\"Switzerland\",\"Germany\",\"Belgium\",\"Germany\",\"France\",\"Switzerland\",\"Spain\",\"Iceland\",\"Greece\",\"EIRE\",\"EIRE\",\"EIRE\",\"France\",\"France\",\"Germany\",\"France\",\"EIRE\",\"Singapore\",\"Spain\",\"France\",\"Spain\",\"Singapore\",\"EIRE\",\"Australia\",\"EIRE\",\"Germany\",\"EIRE\",\"Germany\",\"EIRE\",\"Singapore\",\"Singapore\",\"France\",\"Belgium\",\"Belgium\",\"EIRE\",\"France\",\"Germany\",\"EIRE\",\"France\",\"Japan\",\"Switzerland\",\"Germany\",\"Belgium\",\"Germany\",\"France\",\"Germany\",\"Germany\",\"Japan\",\"Singapore\",\"France\",\"France\",\"Germany\",\"Finland\",\"France\",\"Belgium\",\"Finland\",\"Greece\",\"Germany\",\"Germany\",\"Netherlands\",\"Greece\",\"France\",\"Germany\",\"Iceland\",\"Belgium\",\"France\",\"Germany\",\"France\",\"Germany\",\"Germany\",\"France\",\"Germany\",\"Switzerland\",\"France\",\"Belgium\",\"EIRE\",\"France\",\"Japan\",\"Belgium\",\"Spain\",\"USA\",\"Germany\",\"Belgium\",\"Belgium\",\"Spain\",\"France\",\"Belgium\",\"EIRE\",\"Channel Islands\",\"Portugal\",\"Brazil\",\"EIRE\",\"Japan\",\"EIRE\",\"Austria\",\"Japan\",\"France\",\"Switzerland\",\"Spain\",\"France\",\"Germany\",\"Germany\",\"Japan\",\"Portugal\",\"Germany\",\"Germany\",\"France\",\"EIRE\",\"Portugal\",\"EIRE\",\"USA\",\"Switzerland\",\"EIRE\",\"Switzerland\",\"EIRE\",\"Singapore\",\"Netherlands\",\"France\",\"France\",\"Germany\",\"Iceland\",\"France\",\"Iceland\",\"France\",\"France\",\"EIRE\",\"Finland\",\"Belgium\",\"Spain\",\"Germany\",\"EIRE\",\"France\",\"Spain\",\"Germany\",\"Germany\",\"Belgium\",\"Germany\",\"Japan\",\"EIRE\",\"Portugal\",\"Germany\",\"Spain\",\"Spain\",\"Germany\",\"Germany\",\"Spain\",\"Germany\",\"Netherlands\",\"Germany\",\"Germany\",\"Netherlands\",\"Finland\",\"Spain\",\"Germany\",\"France\",\"Germany\",\"Netherlands\",\"France\",\"Germany\",\"France\",\"Spain\",\"Germany\",\"EIRE\",\"EIRE\",\"Germany\",\"EIRE\",\"Greece\",\"Germany\",\"Germany\",\"Singapore\",\"Germany\",\"Spain\",\"EIRE\",\"France\",\"Portugal\",\"Germany\",\"EIRE\",\"Germany\",\"Italy\",\"Greece\",\"Germany\",\"Spain\",\"Iceland\",\"Germany\",\"EIRE\",\"Portugal\",\"Germany\",\"Germany\",\"Netherlands\",\"Germany\",\"Germany\",\"Australia\",\"EIRE\",\"EIRE\",\"Germany\",\"EIRE\",\"Germany\",\"EIRE\",\"Belgium\",\"EIRE\",\"France\",\"Germany\",\"Germany\",\"France\",\"EIRE\",\"Netherlands\",\"Germany\",\"Germany\",\"Germany\",\"France\",\"Switzerland\",\"Germany\",\"Spain\",\"EIRE\",\"EIRE\",\"Poland\",\"Iceland\",\"Germany\",\"Belgium\",\"EIRE\",\"Germany\",\"Belgium\",\"Germany\",\"France\",\"Sweden\",\"Belgium\",\"Germany\",\"EIRE\",\"Switzerland\",\"Germany\",\"Germany\",\"Germany\",\"EIRE\",\"EIRE\",\"EIRE\",\"Belgium\",\"Germany\",\"Poland\",\"Germany\",\"Finland\",\"EIRE\",\"France\",\"Switzerland\",\"Spain\",\"EIRE\",\"Germany\",\"Germany\",\"Germany\",\"Poland\",\"Belgium\",\"Germany\",\"France\",\"France\",\"Poland\",\"EIRE\",\"Belgium\",\"Spain\",\"Poland\",\"Portugal\",\"Germany\",\"EIRE\",\"Greece\",\"Sweden\",\"Germany\",\"Germany\",\"Germany\",\"Belgium\",\"Switzerland\",\"Germany\",\"Poland\",\"EIRE\",\"Germany\",\"USA\",\"France\",\"Spain\",\"Germany\",\"EIRE\",\"Iceland\",\"EIRE\",\"France\",\"France\",\"Germany\",\"EIRE\",\"EIRE\",\"EIRE\",\"Italy\",\"Germany\",\"Switzerland\",\"EIRE\",\"Switzerland\",\"France\",\"Belgium\",\"Poland\",\"Portugal\",\"Brazil\",\"Spain\",\"France\",\"Germany\",\"EIRE\",\"Singapore\",\"Iceland\",\"Iceland\",\"Germany\",\"Germany\",\"EIRE\",\"Germany\",\"Germany\",\"Germany\",\"Greece\",\"EIRE\",\"France\",\"Germany\",\"Belgium\",\"Belgium\",\"France\",\"EIRE\",\"EIRE\",\"Germany\",\"Germany\",\"EIRE\",\"France\",\"France\",\"France\",\"Japan\",\"EIRE\",\"Japan\",\"EIRE\",\"Singapore\",\"Finland\",\"France\",\"Spain\",\"Singapore\",\"Germany\",\"Germany\",\"Germany\",\"Germany\",\"France\",\"France\",\"Sweden\",\"EIRE\",\"Portugal\",\"EIRE\",\"Poland\",\"France\",\"EIRE\",\"Japan\",\"Japan\",\"EIRE\",\"EIRE\",\"Germany\",\"Finland\",\"Germany\",\"France\",\"Germany\",\"Belgium\",\"Austria\",\"Greece\",\"Belgium\",\"Germany\",\"Channel Islands\",\"Channel Islands\",\"Germany\",\"Spain\",\"Channel Islands\",\"Germany\",\"Belgium\",\"EIRE\",\"Germany\",\"EIRE\",\"Germany\",\"Germany\",\"Germany\",\"Spain\",\"France\",\"EIRE\",\"France\",\"Germany\",\"France\",\"EIRE\",\"USA\",\"EIRE\",\"EIRE\",\"Belgium\",\"Spain\",\"Italy\",\"Singapore\",\"Germany\",\"EIRE\",\"Germany\",\"Sweden\",\"Germany\",\"EIRE\",\"Italy\",\"Belgium\",\"Singapore\",\"Spain\",\"Switzerland\",\"EIRE\",\"Finland\",\"Singapore\",\"EIRE\",\"Finland\",\"Germany\",\"Poland\",\"Italy\",\"Greece\",\"EIRE\",\"Germany\",\"Germany\",\"Germany\",\"Germany\",\"EIRE\",\"EIRE\",\"EIRE\",\"Germany\",\"Switzerland\",\"Belgium\",\"Finland\",\"Belgium\",\"Germany\",\"EIRE\",\"France\",\"Switzerland\",\"Germany\",\"Germany\",\"Germany\",\"Germany\",\"France\",\"Germany\",\"Channel Islands\",\"Belgium\",\"France\",\"France\",\"Singapore\",\"Belgium\",\"Spain\",\"Belgium\",\"Switzerland\",\"France\",\"Germany\",\"Poland\",\"Portugal\",\"Spain\",\"EIRE\",\"EIRE\",\"EIRE\",\"Germany\",\"Belgium\",\"Spain\",\"Japan\",\"Germany\",\"Poland\",\"Portugal\",\"USA\",\"Spain\",\"France\",\"EIRE\",\"Portugal\",\"Brazil\",\"Switzerland\",\"EIRE\",\"Greece\",\"Germany\",\"EIRE\",\"Poland\",\"France\",\"Germany\",\"France\",\"Germany\",\"EIRE\",\"Belgium\",\"Iceland\",\"France\",\"Singapore\",\"Belgium\",\"Germany\",\"EIRE\",\"Japan\",\"Finland\",\"Belgium\",\"USA\",\"Spain\",\"Germany\",\"Switzerland\",\"EIRE\",\"France\",\"EIRE\",\"Germany\",\"Germany\",\"France\",\"EIRE\",\"Sweden\",\"EIRE\",\"EIRE\",\"EIRE\",\"Belgium\",\"Spain\",\"Germany\",\"Poland\",\"EIRE\",\"EIRE\",\"EIRE\",\"Belgium\",\"Portugal\",\"Finland\",\"Japan\",\"Finland\",\"Germany\",\"Germany\",\"Germany\",\"Finland\",\"Brazil\",\"Germany\",\"USA\",\"France\",\"USA\",\"Austria\",\"France\",\"EIRE\",\"Portugal\",\"Germany\",\"EIRE\",\"France\",\"EIRE\",\"EIRE\",\"Belgium\",\"Belgium\",\"Germany\",\"USA\",\"Belgium\",\"Belgium\",\"France\",\"Germany\",\"France\",\"Germany\",\"EIRE\",\"EIRE\",\"Greece\",\"Germany\",\"Germany\",\"Greece\",\"EIRE\",\"EIRE\",\"Germany\",\"EIRE\",\"EIRE\",\"Spain\",\"EIRE\",\"Portugal\",\"France\",\"EIRE\",\"Australia\",\"EIRE\",\"Portugal\",\"Germany\",\"Switzerland\",\"Spain\",\"Spain\",\"Germany\",\"EIRE\",\"EIRE\",\"USA\",\"Finland\",\"Germany\",\"EIRE\",\"Germany\",\"EIRE\",\"France\",\"EIRE\",\"France\",\"France\",\"EIRE\",\"Finland\",\"Germany\",\"Finland\",\"Germany\",\"Germany\",\"Belgium\",\"EIRE\",\"EIRE\",\"EIRE\",\"Poland\",\"France\",\"Germany\",\"Germany\",\"EIRE\",\"EIRE\",\"EIRE\",\"Portugal\",\"Portugal\",\"France\",\"EIRE\",\"EIRE\",\"Portugal\",\"Portugal\",\"EIRE\",\"EIRE\",\"Germany\",\"EIRE\",\"Greece\",\"Spain\",\"EIRE\",\"France\",\"Germany\",\"Finland\",\"France\",\"Germany\",\"Switzerland\",\"Germany\",\"USA\",\"France\",\"France\",\"EIRE\",\"Germany\",\"USA\",\"Japan\",\"Germany\",\"Singapore\",\"EIRE\",\"Australia\",\"Germany\",\"Brazil\",\"Germany\",\"USA\",\"Austria\",\"Sweden\",\"Belgium\",\"France\",\"Belgium\",\"EIRE\",\"Germany\",\"EIRE\",\"France\",\"EIRE\",\"Germany\",\"EIRE\",\"France\",\"France\",\"France\",\"Poland\",\"Singapore\",\"EIRE\",\"France\",\"Singapore\",\"Poland\",\"Singapore\",\"Japan\",\"Germany\",\"Germany\",\"Germany\",\"USA\",\"EIRE\",\"Singapore\",\"Iceland\",\"Portugal\",\"Germany\",\"EIRE\",\"Singapore\",\"Japan\",\"Belgium\",\"Portugal\",\"EIRE\",\"Singapore\",\"EIRE\",\"Germany\",\"Portugal\",\"Germany\",\"Germany\",\"Germany\",\"Portugal\",\"Germany\",\"Portugal\",\"Brazil\",\"Portugal\",\"Finland\",\"Brazil\",\"Belgium\",\"Germany\",\"France\",\"Germany\",\"Brazil\",\"EIRE\",\"France\",\"Germany\",\"Brazil\",\"Germany\",\"France\",\"Austria\",\"Germany\",\"France\",\"Brazil\",\"Spain\",\"Austria\",\"France\",\"Germany\",\"Germany\",\"Brazil\",\"Austria\",\"Germany\",\"France\",\"Germany\",\"Brazil\",\"EIRE\",\"France\",\"Spain\",\"Austria\",\"Germany\",\"Germany\",\"Germany\",\"Brazil\",\"France\",\"Germany\",\"Singapore\",\"France\",\"Germany\",\"Switzerland\",\"EIRE\",\"France\",\"Switzerland\",\"Spain\",\"EIRE\",\"EIRE\",\"Germany\",\"Spain\",\"Finland\",\"Germany\",\"Germany\",\"Germany\",\"Finland\",\"Belgium\",\"EIRE\",\"France\",\"Germany\",\"Finland\",\"Iceland\",\"Belgium\",\"France\",\"Austria\",\"EIRE\",\"Germany\",\"Finland\",\"Italy\",\"Belgium\",\"Germany\",\"Brazil\",\"France\",\"Germany\",\"Greece\",\"Germany\",\"Finland\",\"France\",\"Belgium\",\"Belgium\",\"Greece\",\"Finland\",\"Portugal\",\"Finland\",\"Italy\",\"Greece\",\"Germany\",\"Italy\",\"Greece\",\"France\",\"Germany\",\"France\",\"Spain\",\"Sweden\",\"Belgium\",\"Germany\",\"Germany\",\"Switzerland\",\"Spain\",\"Belgium\",\"Germany\",\"Germany\",\"Spain\",\"Sweden\",\"Spain\",\"Spain\",\"Germany\",\"EIRE\",\"Germany\",\"Switzerland\",\"EIRE\",\"Germany\",\"Switzerland\",\"Germany\",\"Channel Islands\",\"Germany\",\"Italy\",\"EIRE\",\"France\",\"Sweden\",\"Belgium\",\"Germany\",\"EIRE\",\"Germany\",\"Spain\",\"Germany\",\"Belgium\",\"Germany\"],\"y\":[17.7,26.55,17.0,67.6,54.08,13.52,6.76,13.52,15.0,17.85,17.85,14.85,17.85,39.8,15.9,45.0,25.5,45.0,25.5,25.5,4.25,25.5,25.5,14.85,17.85,112.5,30.0,30.0,45.0,112.5,30.0,15.0,30.0,30.0,7.800000000000001,7.800000000000001,102.0,15.0,15.0,19.5,275.0,39.0,244.8,17.7,53.1,17.7,17.7,17.7,17.7,17.7,17.7,35.40000000000001,35.40000000000001,35.40000000000001,17.7,35.40000000000001,17.7,122.4,105.6,23.4,23.4,23.4,23.4,23.4,23.4,23.4,23.4,23.4,23.4,23.4,23.4,23.4,23.4,23.4,72.0,17.0,8.5,79.19999999999999,19.8,19.8,19.8,19.8,39.59999999999999,19.8,19.8,9.75,39.0,15.0,172.8,172.8,10.08,23.4,23.4,23.4,316.8,17.85,71.4,15.0,53.7,41.6,20.8,20.8,20.8,42.5,8.5,8.5,17.0,49.8,16.6,16.6,16.6,16.6,16.6,16.6,182.6,10.2,8.5,10.2,20.4,33.0,49.5,16.5,16.5,16.5,16.5,33.0,33.0,16.5,16.5,15.3,30.6,15.3,15.3,15.3,15.3,30.6,30.6,15.3,13.2,13.2,13.2,13.2,26.4,13.2,13.2,13.2,13.2,13.2,26.4,13.2,13.2,13.2,13.2,26.4,13.2,19.5,20.8,41.6,20.8,165.0,20.8,19.5,41.6,17.4,11.6,14.85,59.40000000000001,14.85,20.8,15.0,15.0,15.0,15.0,15.0,10.2,100.8,10.2,10.2,10.2,208.8,20.28,266.4,49.92,24.96,61.2,30.6,15.3,2.95,20.4,7.649999999999999,52.2,17.4,17.4,17.4,14.85,51.0,14.85,14.85,14.85,17.85,107.1,17.85,17.85,17.4,17.4,17.4,17.4,17.7,17.7,35.40000000000001,15.9,15.0,21.0,10.5,92.5,10.5,92.5,23.6,5.95,14.95,15.8,17.7,35.40000000000001,11.8,25.5,25.5,25.5,17.85,17.85,17.85,20.8,145.0,49.5,33.0,16.5,16.5,33.0,16.5,22.5,41.6,330.0,20.8,19.5,19.5,20.8,62.40000000000001,20.8,17.0,17.0,34.0,12.75,17.7,17.7,10.2,20.4,17.4,17.4,17.4,10.2,35.7,17.85,17.85,51.0,17.0,51.0,17.0,17.0,34.0,17.0,34.0,39.59999999999999,19.8,19.8,10.2,10.2,10.2,10.2,0.85,10.2,10.2,0.85,10.2,39.8,10.2,72.0,40.8,10.2,10.2,10.2,10.2,10.2,12.75,10.2,20.4,10.2,10.2,7.800000000000001,3.9,7.800000000000001,15.6,31.2,10.08,14.85,30.0,17.4,17.4,15.0,15.0,15.0,60.0,39.8,19.9,19.8,17.88,39.59999999999999,16.5,16.5,13.8,13.8,27.6,15.0,15.0,39.95,27.84,6.959999999999999,6.959999999999999,6.959999999999999,17.7,17.7,15.9,30.0,76.32000000000001,15.0,15.0,15.0,19.8,20.1,20.1,14.85,23.6,23.6,17.4,15.0,19.8,19.8,29.7,45.0,19.9,30.6,15.9,15.9,15.9,6.600000000000001,6.600000000000001,6.600000000000001,25.2,30.0,20.4,10.2,10.2,15.0,12.5,12.5,12.5,17.7,81.6,31.8,15.9,15.9,15.9,16.5,16.5,16.5,16.5,16.5,33.0,16.5,33.0,16.5,16.5,16.5,16.5,16.5,16.5,33.0,33.0,33.0,16.5,145.0,16.5,49.5,16.5,16.5,33.0,16.5,15.3,75.60000000000001,30.6,61.2,22.95,16.95,15.0,15.0,15.0,15.0,15.0,15.0,15.0,15.0,15.0,15.0,15.0,3.75,1.25,12.6,13.2,13.2,16.5,49.5,16.5,16.5,16.5,16.5,16.5,16.5,16.5,33.0,16.5,16.5,207.36,23.4,25.2,25.2,2.1,20.4,15.0,15.0,15.0,11.4,67.5,15.9,15.9,19.8,5.04,5.04,5.04,17.0,17.0,6.3,17.4,17.4,17.4,1.25,3.3,30.0,12.6,17.7,15.0,207.36,20.25,165.0,12.5,122.4,17.7,35.40000000000001,17.7,17.7,17.7,70.80000000000001,2.95,35.40000000000001,122.4,105.6,23.4,23.4,46.8,23.4,23.4,23.4,13.52,13.52,13.52,54.08,13.52,13.52,40.56,54.08,17.7,17.7,17.7,19.8,59.4,7.800000000000001,7.800000000000001,7.800000000000001,19.8,19.8,19.8,19.8,19.8,19.8,19.8,19.8,139.2,19.8,39.59999999999999,19.8,17.7,17.7,17.7,15.0,30.0,13.5,17.7,304.8,76.19999999999999,15.9,47.7,15.9,31.8,63.6,15.9,15.9,15.9,10.15,51.84,10.2,10.2,12.6,12.6,12.6,10.2,20.4,10.2,10.2,13.92,6.959999999999999,6.959999999999999,15.0,27.84,92.5,12.6,12.6,15.6,31.2,15.6,13.2,13.2,13.2,13.2,13.2,13.2,13.2,10.2,39.59999999999999,19.8,19.8,19.8,19.8,39.59999999999999,19.8,19.8,19.8,19.8,19.8,39.59999999999999,19.8,19.8,19.8,19.8,19.8,207.36,183.6,17.7,15.0,23.4,23.4,19.5,19.5,15.0,15.0,20.4,20.4,20.4,2.95,17.7,35.40000000000001,15.0,15.0,15.0,15.3,15.3,15.0,12.5,12.5,35.76,17.88,15.6,15.6,15.6,15.0,15.0,23.8,11.9,5.95,11.9,118.8,15.9,30.0,17.4,19.5,264.0,17.7,17.7,17.7,17.7,30.0,30.0,17.0,39.59999999999999,13.2,69.6,25.2,12.6,16.5,17.7,30.0,15.3,20.0,20.0,20.0,20.0,40.0,12.75,38.25,25.5,51.0,12.75,175.2,51.0,25.5,76.5,25.5,12.75,25.5,350.4,25.5,13.5,13.5,17.7,17.7,102.0,10.2,10.2,17.0,17.0,17.0,5.04,10.08,5.04,5.04,19.5,39.0,10.2,134.4,15.3,2.55,7.800000000000001,7.800000000000001,7.800000000000001,25.2,12.6,12.6,15.3,15.0,17.7,20.8,121.68,12.6,12.6,19.9,9.95,19.8,19.8,16.6,16.6,33.2,16.6,270.0,33.2,12.6,12.6,169.0,50.40000000000001,12.6,12.6,15.0,17.7,17.7,17.7,10.2,10.2,10.2,20.4,10.2,0.85,9.95,9.95,19.9,63.75,23.6,17.7,11.8,61.2,17.7,17.7,17.7,17.7,61.2,61.2,17.7,15.0,27.04,17.0,17.0,17.0,138.24,10.2,158.4,70.2,165.0,19.5,19.5,41.6,41.6,41.6,19.8,19.8,3.3,122.4,17.7,17.7,17.7,19.9,39.8,19.9,19.9,68.0,14.85,19.9,61.2,3.95,25.92,10.08,10.5,21.0,10.5,10.5,10.5,19.8,39.59999999999999,19.8,19.8,19.8,19.8,19.8,19.8,19.8,19.8,19.8,19.8,19.8,19.8,19.8,19.8,19.8,10.08,172.8,10.08,104.4,417.6,207.36,5.04,25.92,13.92,6.959999999999999,6.959999999999999,6.959999999999999,6.959999999999999,6.959999999999999,6.959999999999999,6.959999999999999,6.959999999999999,6.959999999999999,6.959999999999999,17.7,17.7,17.7,35.40000000000001,17.7,15.0,101.76,40.8,40.8,43.8,32.84999999999999,10.95,15.0,22.5,22.5,45.0,22.5,17.7,102.0,17.7,90.0,15.0,15.0,47.7,15.9,47.7,202.5,15.9,15.9,12.7,17.0,8.5,17.0,13.5,81.12,20.8,20.8,165.0,20.8,15.9,15.9,15.9,15.0,25.2,14.85,61.2,40.8,81.6,15.9,67.5,75.0,15.0,23.2,19.9,15.0,15.0,15.0,30.0,15.0,266.4,50.40000000000001,25.2,15.0,1.25,2.5,15.0,15.3,23.4,17.85,17.85,10.0,15.0,15.0,15.0,4.2,5.04,5.04,5.04,5.04,5.04,5.04,112.5,30.0,60.0,17.88,17.88,49.8,16.6,16.6,149.4,54.08,5.04,15.0,6.8,6.8,6.8,6.8,6.8,20.4,17.0,17.0,16.5,18.72,10.2,12.6,22.5,15.0,12.5,10.2,20.16,5.04,19.5,17.7,27.2,14.85,14.85,17.85,17.85,17.85,17.85,17.85,34.8,67.5,31.8,10.08,5.04,5.04,5.04,5.04,13.92,13.92,120.96,15.6,37.2,6.72,10.2,10.2,7.800000000000001,7.800000000000001,207.36,25.92,5.04,10.08,5.04,5.04,5.04,5.04,5.04,15.0,15.0,15.0,101.76,15.0,23.4,23.4,11.7,11.7,11.7,11.7,1.95,23.4,23.4,11.7,11.7,11.7,1.95,5.04,19.8,10.2,429.6,19.9,19.9,15.3,40.2,10.0,10.0,10.0,7.95,10.2,19.9,15.3,15.0,81.36,15.0,158.4,19.8,79.2,102.0,2.95,17.7,17.7,70.80000000000001,22.5,19.8,204.0,19.8,19.8,306.0,19.8,19.8,31.2,16.35,21.8,16.35,16.35,16.35,11.9,41.6,165.0,20.8,20.8,20.8,17.0,17.0,17.0,1.7,0.85,15.6,15.6,15.6,15.6,106.2,10.2,14.75,14.75,17.85,17.7,15.3,22.5,234.0,22.5,22.5,22.5,17.0,10.0,6.8,6.8,27.2,7.800000000000001,7.800000000000001,10.2,10.2,10.2,17.0,10.0,103.68,7.95,59.8,102.0,12.6,17.4,1.45,17.4,10.2,22.5,15.3,30.6,17.0,17.0,34.0,15.0,51.84,20.4,20.4,15.3,2.5,15.3,30.6,15.3,10.2,61.2,10.2,10.2,10.2,7.800000000000001,17.0,8.5,8.5,17.0,8.5,72.0,8.5,8.5,21.0,92.5,10.5,27.0,12.5,59.40000000000001,14.85,5.04,5.04,5.04,5.04,5.04,5.04,10.5,72.0,8.5,17.0,17.0,8.5,8.5,17.0,22.5,10.2,10.2,20.4,17.7,17.7,17.7,23.4,13.5,13.5,13.5,13.5,15.0,17.7,25.2,25.2,61.2,34.0,12.6,13.5,266.4,266.4,15.0,15.0,17.7,17.7,35.40000000000001,17.7,19.8,6.8,6.8,27.2,19.9,25.5,13.2,63.2,39.8,15.3,30.6,2.55,15.3,12.5,12.5,12.5,12.5,39.6,39.6,79.2,10.5,12.5,14.95,51.0,19.8,15.3,15.3,19.8,19.8,25.4,10.5,17.4,4.35,1.45,17.4,12.6,15.0,30.0,15.0,10.2,10.2,106.2,14.75,14.75,14.75,17.7,35.40000000000001,39.6,19.8,19.8,9.9,19.8,34.0,27.0,40.5,14.85,15.0,15.0,30.6,20.28,10.2,10.2,13.2,13.2,121.68,20.28,15.3,15.3,15.0,15.0,75.0,50.0,15.0,15.0,14.75,14.75,14.75,29.5,14.75,14.75,29.5,88.5,14.75,127.5,14.75,61.2,15.0,61.2,10.2,1.45,17.4,30.0,90.0,34.0,19.92,4.98,2.55,1.25,15.0,30.6,30.6,16.5,20.4,20.4,15.0,45.0,150.0,15.0,15.0,40.68,30.0,15.0,15.0,7.56,7.56,17.7,13.5,13.5,23.4,14.5,39.6,19.8,19.9,39.8,19.9,19.9,4.68,18.75,15.0,15.0,17.7,35.40000000000001,10.4,35.40000000000001,9.899999999999999,9.899999999999999,9.899999999999999,9.899999999999999,9.899999999999999,30.6,17.7,12.75,6.3,3.36,37.44,25.2,90.0,25.5,63.75,15.0,5.04,5.76,14.85,10.08,51.84,20.4,17.4,4.68,2.34,2.34,4.68,2.34,4.68,15.9,31.8,17.7,31.8,15.0,15.0,10.2,12.7,35.40000000000001,15.9,15.9,15.9,11.7,10.08,9.36,19.8,19.8,19.8,15.0,15.0,10.2,10.2,10.2,30.0,30.0,10.2,20.4,10.2,12.6,12.6,10.08,10.2,10.2,14.85,14.85,15.0,17.88,35.76,5.96,15.3,10.5,49.75,15.0,15.0,29.7,29.7,75.60000000000001,15.9,17.7,59.40000000000001,19.8,59.40000000000001,12.6,10.2,11.8,61.2,17.7,25.2,12.6,25.2,15.0,30.0,15.0,12.75,2.95,40.8,17.7,6.3,6.0,15.3,100.8,15.3,13.9,15.3,83.7,41.7,20.85,34.75,20.85,71.4,17.4,15.0,2.95,15.9,15.9,67.5,15.9,10.2,15.9,10.2,10.2,10.2,19.8,19.8,26.4,26.4,10.2,30.0,9.899999999999999,5.04,61.2,10.2,172.8,12.64,29.7,15.8,31.6,15.8,82.80000000000001,15.8,27.65,3.95,4.95,13.9,2.1,10.2,17.4,17.4,13.95,8.4,10.2,10.2,15.3,15.3,30.6,15.3,15.3,15.3,30.6,30.6,10.2,30.6,2.52,14.85,12.6,19.92,19.92,15.0,13.6,15.0,17.7,81.12,14.75,14.75,19.8,17.0,12.6,14.85,14.85,14.85,29.7,14.85,14.85,14.85,14.85,17.7,25.5,5.76,7.5,18.72,18.72,23.4,23.4,15.6,0.65,30.0,2.1,10.5,14.04,4.56,4.56,9.36,4.68,12.5,12.5,10.2,15.0,11.9,20.4,10.5,10.5,10.5,19.8,19.8,17.7,35.40000000000001,17.7,17.7,17.7,17.7,35.40000000000001,17.7,17.7,30.6,20.1,17.7,17.7,17.7,15.0,30.0,40.68,15.0,15.0,15.0,35.40000000000001,19.5,19.5,19.5,3.25,19.8,29.7,24.75,69.6,15.0,15.0,15.0,15.0,15.0,30.0,30.0,1.25,15.0,15.0,10.08,0.42,10.08,23.4,23.4,23.4,23.4,23.4,23.4,23.4,23.4,23.4,0.42,22.5,22.5,22.5,3.75,19.92,17.4,17.4,52.2,17.4,17.4,17.4,2.9,18.0,18.0,18.0,18.0,18.0,18.0,18.0,72.0,18.0,18.0,18.0,15.0,19.8,19.8,19.8,19.8,19.8,19.8,19.8,22.5,17.34,17.34,17.34,17.34,17.34,17.4,33.0,16.5,57.75,16.5,16.5,33.0,41.25,16.5,33.0,16.5,16.5,49.5,16.5,16.5,16.5,33.0,16.5,49.5,41.25,16.5,16.5,49.5,33.0,41.25,16.5,16.5,16.5,16.5,33.0,16.5,33.0,41.25,16.5,16.5,33.0,60.0,16.95,16.95,50.84999999999999,89.69999999999999,16.95,50.84999999999999,16.95,89.69999999999999,16.95,16.95,16.95,18.72,18.72,9.959999999999999,50.0,100.0,25.0,30.0,60.0,30.0,90.0,249.6,30.0,60.0,30.0,30.0,30.0,120.0,30.0,30.0,30.0,49.5,24.96,24.96,24.96,24.96,24.96,24.96,24.96,24.96,24.96,24.96,24.96,24.96,24.96,24.96,9.959999999999999,19.92,9.959999999999999,19.92,49.92,49.92,16.6,33.2,16.6,16.6,33.2,16.6,16.6,16.6,16.6,16.6,16.6,33.2,8.5,20.8,20.8,16.5,20.8,179.0,20.8,62.40000000000001,179.0,41.6,33.0,16.5,33.0,16.5,16.5,33.0,16.5,8.5,8.5,42.5,8.5,17.0,16.5,25.0]}],                        {\"legend\":{\"bgcolor\":\"#F5F6F9\",\"font\":{\"color\":\"#4D5663\"}},\"paper_bgcolor\":\"#F5F6F9\",\"plot_bgcolor\":\"#F5F6F9\",\"template\":{\"data\":{\"bar\":[{\"error_x\":{\"color\":\"#2a3f5f\"},\"error_y\":{\"color\":\"#2a3f5f\"},\"marker\":{\"line\":{\"color\":\"#E5ECF6\",\"width\":0.5},\"pattern\":{\"fillmode\":\"overlay\",\"size\":10,\"solidity\":0.2}},\"type\":\"bar\"}],\"barpolar\":[{\"marker\":{\"line\":{\"color\":\"#E5ECF6\",\"width\":0.5},\"pattern\":{\"fillmode\":\"overlay\",\"size\":10,\"solidity\":0.2}},\"type\":\"barpolar\"}],\"carpet\":[{\"aaxis\":{\"endlinecolor\":\"#2a3f5f\",\"gridcolor\":\"white\",\"linecolor\":\"white\",\"minorgridcolor\":\"white\",\"startlinecolor\":\"#2a3f5f\"},\"baxis\":{\"endlinecolor\":\"#2a3f5f\",\"gridcolor\":\"white\",\"linecolor\":\"white\",\"minorgridcolor\":\"white\",\"startlinecolor\":\"#2a3f5f\"},\"type\":\"carpet\"}],\"choropleth\":[{\"colorbar\":{\"outlinewidth\":0,\"ticks\":\"\"},\"type\":\"choropleth\"}],\"contour\":[{\"colorbar\":{\"outlinewidth\":0,\"ticks\":\"\"},\"colorscale\":[[0.0,\"#0d0887\"],[0.1111111111111111,\"#46039f\"],[0.2222222222222222,\"#7201a8\"],[0.3333333333333333,\"#9c179e\"],[0.4444444444444444,\"#bd3786\"],[0.5555555555555556,\"#d8576b\"],[0.6666666666666666,\"#ed7953\"],[0.7777777777777778,\"#fb9f3a\"],[0.8888888888888888,\"#fdca26\"],[1.0,\"#f0f921\"]],\"type\":\"contour\"}],\"contourcarpet\":[{\"colorbar\":{\"outlinewidth\":0,\"ticks\":\"\"},\"type\":\"contourcarpet\"}],\"heatmap\":[{\"colorbar\":{\"outlinewidth\":0,\"ticks\":\"\"},\"colorscale\":[[0.0,\"#0d0887\"],[0.1111111111111111,\"#46039f\"],[0.2222222222222222,\"#7201a8\"],[0.3333333333333333,\"#9c179e\"],[0.4444444444444444,\"#bd3786\"],[0.5555555555555556,\"#d8576b\"],[0.6666666666666666,\"#ed7953\"],[0.7777777777777778,\"#fb9f3a\"],[0.8888888888888888,\"#fdca26\"],[1.0,\"#f0f921\"]],\"type\":\"heatmap\"}],\"heatmapgl\":[{\"colorbar\":{\"outlinewidth\":0,\"ticks\":\"\"},\"colorscale\":[[0.0,\"#0d0887\"],[0.1111111111111111,\"#46039f\"],[0.2222222222222222,\"#7201a8\"],[0.3333333333333333,\"#9c179e\"],[0.4444444444444444,\"#bd3786\"],[0.5555555555555556,\"#d8576b\"],[0.6666666666666666,\"#ed7953\"],[0.7777777777777778,\"#fb9f3a\"],[0.8888888888888888,\"#fdca26\"],[1.0,\"#f0f921\"]],\"type\":\"heatmapgl\"}],\"histogram\":[{\"marker\":{\"pattern\":{\"fillmode\":\"overlay\",\"size\":10,\"solidity\":0.2}},\"type\":\"histogram\"}],\"histogram2d\":[{\"colorbar\":{\"outlinewidth\":0,\"ticks\":\"\"},\"colorscale\":[[0.0,\"#0d0887\"],[0.1111111111111111,\"#46039f\"],[0.2222222222222222,\"#7201a8\"],[0.3333333333333333,\"#9c179e\"],[0.4444444444444444,\"#bd3786\"],[0.5555555555555556,\"#d8576b\"],[0.6666666666666666,\"#ed7953\"],[0.7777777777777778,\"#fb9f3a\"],[0.8888888888888888,\"#fdca26\"],[1.0,\"#f0f921\"]],\"type\":\"histogram2d\"}],\"histogram2dcontour\":[{\"colorbar\":{\"outlinewidth\":0,\"ticks\":\"\"},\"colorscale\":[[0.0,\"#0d0887\"],[0.1111111111111111,\"#46039f\"],[0.2222222222222222,\"#7201a8\"],[0.3333333333333333,\"#9c179e\"],[0.4444444444444444,\"#bd3786\"],[0.5555555555555556,\"#d8576b\"],[0.6666666666666666,\"#ed7953\"],[0.7777777777777778,\"#fb9f3a\"],[0.8888888888888888,\"#fdca26\"],[1.0,\"#f0f921\"]],\"type\":\"histogram2dcontour\"}],\"mesh3d\":[{\"colorbar\":{\"outlinewidth\":0,\"ticks\":\"\"},\"type\":\"mesh3d\"}],\"parcoords\":[{\"line\":{\"colorbar\":{\"outlinewidth\":0,\"ticks\":\"\"}},\"type\":\"parcoords\"}],\"pie\":[{\"automargin\":true,\"type\":\"pie\"}],\"scatter\":[{\"marker\":{\"colorbar\":{\"outlinewidth\":0,\"ticks\":\"\"}},\"type\":\"scatter\"}],\"scatter3d\":[{\"line\":{\"colorbar\":{\"outlinewidth\":0,\"ticks\":\"\"}},\"marker\":{\"colorbar\":{\"outlinewidth\":0,\"ticks\":\"\"}},\"type\":\"scatter3d\"}],\"scattercarpet\":[{\"marker\":{\"colorbar\":{\"outlinewidth\":0,\"ticks\":\"\"}},\"type\":\"scattercarpet\"}],\"scattergeo\":[{\"marker\":{\"colorbar\":{\"outlinewidth\":0,\"ticks\":\"\"}},\"type\":\"scattergeo\"}],\"scattergl\":[{\"marker\":{\"colorbar\":{\"outlinewidth\":0,\"ticks\":\"\"}},\"type\":\"scattergl\"}],\"scattermapbox\":[{\"marker\":{\"colorbar\":{\"outlinewidth\":0,\"ticks\":\"\"}},\"type\":\"scattermapbox\"}],\"scatterpolar\":[{\"marker\":{\"colorbar\":{\"outlinewidth\":0,\"ticks\":\"\"}},\"type\":\"scatterpolar\"}],\"scatterpolargl\":[{\"marker\":{\"colorbar\":{\"outlinewidth\":0,\"ticks\":\"\"}},\"type\":\"scatterpolargl\"}],\"scatterternary\":[{\"marker\":{\"colorbar\":{\"outlinewidth\":0,\"ticks\":\"\"}},\"type\":\"scatterternary\"}],\"surface\":[{\"colorbar\":{\"outlinewidth\":0,\"ticks\":\"\"},\"colorscale\":[[0.0,\"#0d0887\"],[0.1111111111111111,\"#46039f\"],[0.2222222222222222,\"#7201a8\"],[0.3333333333333333,\"#9c179e\"],[0.4444444444444444,\"#bd3786\"],[0.5555555555555556,\"#d8576b\"],[0.6666666666666666,\"#ed7953\"],[0.7777777777777778,\"#fb9f3a\"],[0.8888888888888888,\"#fdca26\"],[1.0,\"#f0f921\"]],\"type\":\"surface\"}],\"table\":[{\"cells\":{\"fill\":{\"color\":\"#EBF0F8\"},\"line\":{\"color\":\"white\"}},\"header\":{\"fill\":{\"color\":\"#C8D4E3\"},\"line\":{\"color\":\"white\"}},\"type\":\"table\"}]},\"layout\":{\"annotationdefaults\":{\"arrowcolor\":\"#2a3f5f\",\"arrowhead\":0,\"arrowwidth\":1},\"autotypenumbers\":\"strict\",\"coloraxis\":{\"colorbar\":{\"outlinewidth\":0,\"ticks\":\"\"}},\"colorscale\":{\"diverging\":[[0,\"#8e0152\"],[0.1,\"#c51b7d\"],[0.2,\"#de77ae\"],[0.3,\"#f1b6da\"],[0.4,\"#fde0ef\"],[0.5,\"#f7f7f7\"],[0.6,\"#e6f5d0\"],[0.7,\"#b8e186\"],[0.8,\"#7fbc41\"],[0.9,\"#4d9221\"],[1,\"#276419\"]],\"sequential\":[[0.0,\"#0d0887\"],[0.1111111111111111,\"#46039f\"],[0.2222222222222222,\"#7201a8\"],[0.3333333333333333,\"#9c179e\"],[0.4444444444444444,\"#bd3786\"],[0.5555555555555556,\"#d8576b\"],[0.6666666666666666,\"#ed7953\"],[0.7777777777777778,\"#fb9f3a\"],[0.8888888888888888,\"#fdca26\"],[1.0,\"#f0f921\"]],\"sequentialminus\":[[0.0,\"#0d0887\"],[0.1111111111111111,\"#46039f\"],[0.2222222222222222,\"#7201a8\"],[0.3333333333333333,\"#9c179e\"],[0.4444444444444444,\"#bd3786\"],[0.5555555555555556,\"#d8576b\"],[0.6666666666666666,\"#ed7953\"],[0.7777777777777778,\"#fb9f3a\"],[0.8888888888888888,\"#fdca26\"],[1.0,\"#f0f921\"]]},\"colorway\":[\"#636efa\",\"#EF553B\",\"#00cc96\",\"#ab63fa\",\"#FFA15A\",\"#19d3f3\",\"#FF6692\",\"#B6E880\",\"#FF97FF\",\"#FECB52\"],\"font\":{\"color\":\"#2a3f5f\"},\"geo\":{\"bgcolor\":\"white\",\"lakecolor\":\"white\",\"landcolor\":\"#E5ECF6\",\"showlakes\":true,\"showland\":true,\"subunitcolor\":\"white\"},\"hoverlabel\":{\"align\":\"left\"},\"hovermode\":\"closest\",\"mapbox\":{\"style\":\"light\"},\"paper_bgcolor\":\"white\",\"plot_bgcolor\":\"#E5ECF6\",\"polar\":{\"angularaxis\":{\"gridcolor\":\"white\",\"linecolor\":\"white\",\"ticks\":\"\"},\"bgcolor\":\"#E5ECF6\",\"radialaxis\":{\"gridcolor\":\"white\",\"linecolor\":\"white\",\"ticks\":\"\"}},\"scene\":{\"xaxis\":{\"backgroundcolor\":\"#E5ECF6\",\"gridcolor\":\"white\",\"gridwidth\":2,\"linecolor\":\"white\",\"showbackground\":true,\"ticks\":\"\",\"zerolinecolor\":\"white\"},\"yaxis\":{\"backgroundcolor\":\"#E5ECF6\",\"gridcolor\":\"white\",\"gridwidth\":2,\"linecolor\":\"white\",\"showbackground\":true,\"ticks\":\"\",\"zerolinecolor\":\"white\"},\"zaxis\":{\"backgroundcolor\":\"#E5ECF6\",\"gridcolor\":\"white\",\"gridwidth\":2,\"linecolor\":\"white\",\"showbackground\":true,\"ticks\":\"\",\"zerolinecolor\":\"white\"}},\"shapedefaults\":{\"line\":{\"color\":\"#2a3f5f\"}},\"ternary\":{\"aaxis\":{\"gridcolor\":\"white\",\"linecolor\":\"white\",\"ticks\":\"\"},\"baxis\":{\"gridcolor\":\"white\",\"linecolor\":\"white\",\"ticks\":\"\"},\"bgcolor\":\"#E5ECF6\",\"caxis\":{\"gridcolor\":\"white\",\"linecolor\":\"white\",\"ticks\":\"\"}},\"title\":{\"x\":0.05},\"xaxis\":{\"automargin\":true,\"gridcolor\":\"white\",\"linecolor\":\"white\",\"ticks\":\"\",\"title\":{\"standoff\":15},\"zerolinecolor\":\"white\",\"zerolinewidth\":2},\"yaxis\":{\"automargin\":true,\"gridcolor\":\"white\",\"linecolor\":\"white\",\"ticks\":\"\",\"title\":{\"standoff\":15},\"zerolinecolor\":\"white\",\"zerolinewidth\":2}}},\"title\":{\"font\":{\"color\":\"#4D5663\"}},\"xaxis\":{\"gridcolor\":\"#E1E5ED\",\"showgrid\":true,\"tickfont\":{\"color\":\"#4D5663\"},\"title\":{\"font\":{\"color\":\"#4D5663\"},\"text\":\"Country\"},\"zerolinecolor\":\"#E1E5ED\"},\"yaxis\":{\"gridcolor\":\"#E1E5ED\",\"showgrid\":true,\"tickfont\":{\"color\":\"#4D5663\"},\"title\":{\"font\":{\"color\":\"#4D5663\"},\"text\":\"Revenue\"},\"zerolinecolor\":\"#E1E5ED\"}},                        {\"showLink\": true, \"linkText\": \"Export to plot.ly\", \"plotlyServerURL\": \"https://plot.ly\", \"responsive\": true}                    ).then(function(){\n",
       "                            \n",
       "var gd = document.getElementById('dba7ed4c-56cb-45d2-a3f3-347b8e5e814d');\n",
       "var x = new MutationObserver(function (mutations, observer) {{\n",
       "        var display = window.getComputedStyle(gd).display;\n",
       "        if (!display || display === 'none') {{\n",
       "            console.log([gd, 'removed!']);\n",
       "            Plotly.purge(gd);\n",
       "            observer.disconnect();\n",
       "        }}\n",
       "}});\n",
       "\n",
       "// Listen for the removal of the full notebook cells\n",
       "var notebookContainer = gd.closest('#notebook-container');\n",
       "if (notebookContainer) {{\n",
       "    x.observe(notebookContainer, {childList: true});\n",
       "}}\n",
       "\n",
       "// Listen for the clearing of the current output cell\n",
       "var outputEl = gd.closest('.output');\n",
       "if (outputEl) {{\n",
       "    x.observe(outputEl, {childList: true});\n",
       "}}\n",
       "\n",
       "                        })                };                });            </script>        </div>"
      ]
     },
     "metadata": {},
     "output_type": "display_data"
    }
   ],
   "source": [
    "data[(data[\"Country\"]!=\"United Kingdom\") \n",
    "     & (data[\"InvoiceDate\"].dt.year==2011) \n",
    "     & (data[\"InvoiceDate\"].dt.month==4)].iplot(kind ='bar', \n",
    "                                                x='Country', \n",
    "                                                y='Revenue', \n",
    "                                                xTitle= 'Country', \n",
    "                                                yTitle= 'Revenue')"
   ]
  },
  {
   "cell_type": "markdown",
   "metadata": {},
   "source": [
    "## 2. Create an interactive line chart showing quantity and revenue sold to France between January 1st and May 31st 2011."
   ]
  },
  {
   "cell_type": "code",
   "execution_count": 14,
   "metadata": {},
   "outputs": [
    {
     "data": {
      "application/vnd.plotly.v1+json": {
       "config": {
        "linkText": "Export to plot.ly",
        "plotlyServerURL": "https://plot.ly",
        "showLink": true
       },
       "data": [
        {
         "line": {
          "color": "rgba(255, 153, 51, 1.0)",
          "dash": "solid",
          "shape": "linear",
          "width": 1.3
         },
         "mode": "lines",
         "name": "Revenue",
         "text": "",
         "type": "scatter",
         "x": [
          "2011-01-05 12:42:00",
          "2011-01-05 14:48:00",
          "2011-01-06 14:26:00",
          "2011-01-06 16:12:00",
          "2011-01-07 12:07:00",
          "2011-01-07 13:13:00",
          "2011-01-09 12:46:00",
          "2011-01-10 13:22:00",
          "2011-01-11 07:57:00",
          "2011-01-11 11:48:00",
          "2011-01-11 13:31:00",
          "2011-01-11 15:00:00",
          "2011-01-12 09:43:00",
          "2011-01-12 14:13:00",
          "2011-01-12 15:00:00",
          "2011-01-14 09:13:00",
          "2011-01-14 09:20:00",
          "2011-01-14 10:42:00",
          "2011-01-17 15:17:00",
          "2011-01-19 11:51:00",
          "2011-01-20 10:47:00",
          "2011-01-20 10:48:00",
          "2011-01-23 15:17:00",
          "2011-01-24 15:32:00",
          "2011-01-28 09:20:00",
          "2011-01-28 10:45:00",
          "2011-01-28 13:37:00",
          "2011-01-31 09:57:00",
          "2011-01-31 15:36:00",
          "2011-02-01 14:58:00",
          "2011-02-02 09:06:00",
          "2011-02-02 15:22:00",
          "2011-02-04 11:45:00",
          "2011-02-08 13:28:00",
          "2011-02-09 10:11:00",
          "2011-02-10 15:38:00",
          "2011-02-15 14:17:00",
          "2011-02-16 11:45:00",
          "2011-02-17 10:08:00",
          "2011-02-18 10:53:00",
          "2011-02-18 15:23:00",
          "2011-02-21 08:38:00",
          "2011-02-21 14:58:00",
          "2011-02-23 16:44:00",
          "2011-02-23 16:45:00",
          "2011-02-27 11:58:00",
          "2011-02-28 11:43:00",
          "2011-02-28 11:58:00",
          "2011-02-28 14:42:00",
          "2011-02-28 14:45:00",
          "2011-03-01 10:31:00",
          "2011-03-01 12:26:00",
          "2011-03-03 12:06:00",
          "2011-03-03 12:20:00",
          "2011-03-04 09:08:00",
          "2011-03-11 12:00:00",
          "2011-03-13 14:55:00",
          "2011-03-14 11:38:00",
          "2011-03-15 16:39:00",
          "2011-03-16 14:37:00",
          "2011-03-16 15:17:00",
          "2011-03-20 15:58:00",
          "2011-03-21 12:42:00",
          "2011-03-21 12:44:00",
          "2011-03-22 11:28:00",
          "2011-03-23 12:06:00",
          "2011-03-23 13:33:00",
          "2011-03-23 13:39:00",
          "2011-03-23 14:55:00",
          "2011-03-25 10:19:00",
          "2011-03-27 13:07:00",
          "2011-03-28 10:15:00",
          "2011-03-31 10:27:00",
          "2011-03-31 10:29:00",
          "2011-03-31 13:40:00",
          "2011-04-01 09:19:00",
          "2011-04-01 11:10:00",
          "2011-04-04 11:18:00",
          "2011-04-07 13:07:00",
          "2011-04-14 14:15:00",
          "2011-04-17 11:21:00",
          "2011-04-17 15:33:00",
          "2011-04-20 09:20:00",
          "2011-04-21 08:54:00",
          "2011-04-21 10:16:00",
          "2011-04-26 15:52:00",
          "2011-04-28 11:45:00",
          "2011-05-03 08:40:00",
          "2011-05-03 09:33:00",
          "2011-05-03 09:34:00",
          "2011-05-03 12:02:00",
          "2011-05-03 12:03:00",
          "2011-05-05 09:29:00",
          "2011-05-08 16:10:00",
          "2011-05-09 09:47:00",
          "2011-05-09 15:12:00",
          "2011-05-10 12:55:00",
          "2011-05-11 13:20:00",
          "2011-05-11 15:07:00",
          "2011-05-12 11:50:00",
          "2011-05-13 09:24:00",
          "2011-05-13 13:15:00",
          "2011-05-13 15:48:00",
          "2011-05-15 13:45:00",
          "2011-05-16 09:10:00",
          "2011-05-16 12:04:00",
          "2011-05-17 09:28:00",
          "2011-05-18 09:09:00",
          "2011-05-18 10:34:00",
          "2011-05-18 12:18:00",
          "2011-05-19 12:10:00",
          "2011-05-19 12:29:00",
          "2011-05-20 11:34:00",
          "2011-05-22 13:01:00",
          "2011-05-22 14:33:00",
          "2011-05-23 09:48:00",
          "2011-05-24 09:25:00",
          "2011-05-25 10:08:00",
          "2011-05-25 12:44:00",
          "2011-05-25 12:54:00",
          "2011-05-26 14:53:00",
          "2011-05-26 17:16:00",
          "2011-05-27 13:49:00",
          "2011-05-31 13:32:00"
         ],
         "y": [
          502.07,
          763.11,
          283.77,
          425.25,
          676.16,
          298.93,
          114,
          1112.06,
          144,
          835.1999999999999,
          216.54,
          136.9,
          102.94999999999999,
          338.7,
          793.98,
          774.22,
          225.9,
          592.31,
          642.14,
          698.75,
          581.55,
          827.13,
          406.5,
          190.2,
          182.45,
          365.58,
          405.8,
          3174.43,
          363.54,
          456.84999999999997,
          454.89,
          132.5,
          1128.73,
          165.85999999999999,
          401.02,
          285.56,
          219.6,
          829.66,
          214,
          878.3,
          6.3,
          603.42,
          125.4,
          308,
          95.76,
          92.6,
          335.43,
          612.86,
          182.72,
          158.5,
          316.2,
          722.06,
          480.76000000000005,
          20.4,
          281.25,
          676.8499999999999,
          307.28999999999996,
          425.40000000000003,
          511.53999999999996,
          129.70999999999998,
          115.09,
          298.02,
          201.24,
          4.63,
          469.98,
          160.5,
          733.88,
          378,
          402.9,
          303.91,
          128.05,
          1028.3,
          1937.06,
          413.4,
          3243.13,
          138.75,
          252,
          513.55,
          312.2,
          615.2,
          509.57,
          84.65,
          469.20000000000005,
          73.5,
          579.05,
          160.54000000000002,
          191.10000000000002,
          528.88,
          620.84,
          24.9,
          162.48000000000002,
          336.24,
          200,
          984.4300000000001,
          295.5,
          205.4,
          453.09999999999997,
          1637.43,
          1381.3,
          278.53000000000003,
          459.98,
          89.25,
          397.28000000000003,
          133.4,
          550.74,
          121.88,
          739.62,
          335.01,
          332.20000000000005,
          76.32000000000001,
          561.66,
          316.85,
          956.4,
          615.21,
          169.5,
          385.96,
          357.34,
          231.12,
          390.96,
          514.74,
          196.5,
          362,
          367.09,
          404.84000000000003
         ]
        },
        {
         "line": {
          "color": "rgba(55, 128, 191, 1.0)",
          "dash": "solid",
          "shape": "linear",
          "width": 1.3
         },
         "mode": "lines",
         "name": "Quantity",
         "text": "",
         "type": "scatter",
         "x": [
          "2011-01-05 12:42:00",
          "2011-01-05 14:48:00",
          "2011-01-06 14:26:00",
          "2011-01-06 16:12:00",
          "2011-01-07 12:07:00",
          "2011-01-07 13:13:00",
          "2011-01-09 12:46:00",
          "2011-01-10 13:22:00",
          "2011-01-11 07:57:00",
          "2011-01-11 11:48:00",
          "2011-01-11 13:31:00",
          "2011-01-11 15:00:00",
          "2011-01-12 09:43:00",
          "2011-01-12 14:13:00",
          "2011-01-12 15:00:00",
          "2011-01-14 09:13:00",
          "2011-01-14 09:20:00",
          "2011-01-14 10:42:00",
          "2011-01-17 15:17:00",
          "2011-01-19 11:51:00",
          "2011-01-20 10:47:00",
          "2011-01-20 10:48:00",
          "2011-01-23 15:17:00",
          "2011-01-24 15:32:00",
          "2011-01-28 09:20:00",
          "2011-01-28 10:45:00",
          "2011-01-28 13:37:00",
          "2011-01-31 09:57:00",
          "2011-01-31 15:36:00",
          "2011-02-01 14:58:00",
          "2011-02-02 09:06:00",
          "2011-02-02 15:22:00",
          "2011-02-04 11:45:00",
          "2011-02-08 13:28:00",
          "2011-02-09 10:11:00",
          "2011-02-10 15:38:00",
          "2011-02-15 14:17:00",
          "2011-02-16 11:45:00",
          "2011-02-17 10:08:00",
          "2011-02-18 10:53:00",
          "2011-02-18 15:23:00",
          "2011-02-21 08:38:00",
          "2011-02-21 14:58:00",
          "2011-02-23 16:44:00",
          "2011-02-23 16:45:00",
          "2011-02-27 11:58:00",
          "2011-02-28 11:43:00",
          "2011-02-28 11:58:00",
          "2011-02-28 14:42:00",
          "2011-02-28 14:45:00",
          "2011-03-01 10:31:00",
          "2011-03-01 12:26:00",
          "2011-03-03 12:06:00",
          "2011-03-03 12:20:00",
          "2011-03-04 09:08:00",
          "2011-03-11 12:00:00",
          "2011-03-13 14:55:00",
          "2011-03-14 11:38:00",
          "2011-03-15 16:39:00",
          "2011-03-16 14:37:00",
          "2011-03-16 15:17:00",
          "2011-03-20 15:58:00",
          "2011-03-21 12:42:00",
          "2011-03-21 12:44:00",
          "2011-03-22 11:28:00",
          "2011-03-23 12:06:00",
          "2011-03-23 13:33:00",
          "2011-03-23 13:39:00",
          "2011-03-23 14:55:00",
          "2011-03-25 10:19:00",
          "2011-03-27 13:07:00",
          "2011-03-28 10:15:00",
          "2011-03-31 10:27:00",
          "2011-03-31 10:29:00",
          "2011-03-31 13:40:00",
          "2011-04-01 09:19:00",
          "2011-04-01 11:10:00",
          "2011-04-04 11:18:00",
          "2011-04-07 13:07:00",
          "2011-04-14 14:15:00",
          "2011-04-17 11:21:00",
          "2011-04-17 15:33:00",
          "2011-04-20 09:20:00",
          "2011-04-21 08:54:00",
          "2011-04-21 10:16:00",
          "2011-04-26 15:52:00",
          "2011-04-28 11:45:00",
          "2011-05-03 08:40:00",
          "2011-05-03 09:33:00",
          "2011-05-03 09:34:00",
          "2011-05-03 12:02:00",
          "2011-05-03 12:03:00",
          "2011-05-05 09:29:00",
          "2011-05-08 16:10:00",
          "2011-05-09 09:47:00",
          "2011-05-09 15:12:00",
          "2011-05-10 12:55:00",
          "2011-05-11 13:20:00",
          "2011-05-11 15:07:00",
          "2011-05-12 11:50:00",
          "2011-05-13 09:24:00",
          "2011-05-13 13:15:00",
          "2011-05-13 15:48:00",
          "2011-05-15 13:45:00",
          "2011-05-16 09:10:00",
          "2011-05-16 12:04:00",
          "2011-05-17 09:28:00",
          "2011-05-18 09:09:00",
          "2011-05-18 10:34:00",
          "2011-05-18 12:18:00",
          "2011-05-19 12:10:00",
          "2011-05-19 12:29:00",
          "2011-05-20 11:34:00",
          "2011-05-22 13:01:00",
          "2011-05-22 14:33:00",
          "2011-05-23 09:48:00",
          "2011-05-24 09:25:00",
          "2011-05-25 10:08:00",
          "2011-05-25 12:44:00",
          "2011-05-25 12:54:00",
          "2011-05-26 14:53:00",
          "2011-05-26 17:16:00",
          "2011-05-27 13:49:00",
          "2011-05-31 13:32:00"
         ],
         "y": [
          359,
          369,
          261,
          177,
          488,
          103,
          78,
          628,
          168,
          576,
          120,
          114,
          43,
          131,
          498,
          543,
          78,
          440,
          263,
          383,
          211,
          491,
          120,
          84,
          59,
          406,
          102,
          1617,
          202,
          197,
          159,
          206,
          611,
          214,
          298,
          452,
          96,
          772,
          114,
          748,
          15,
          256,
          77,
          264,
          96,
          70,
          213,
          310,
          72,
          54,
          245,
          329,
          314,
          24,
          123,
          323,
          183,
          184,
          314,
          97,
          62,
          422,
          85,
          5,
          198,
          136,
          713,
          242,
          130,
          261,
          59,
          842,
          946,
          132,
          2271,
          88,
          240,
          293,
          236,
          284,
          375,
          25,
          196,
          23,
          275,
          84,
          146,
          368,
          350,
          6,
          120,
          192,
          98,
          773,
          162,
          332,
          458,
          859,
          734,
          105,
          202,
          33,
          267,
          140,
          220,
          58,
          476,
          103,
          152,
          72,
          434,
          126,
          464,
          229,
          62,
          304,
          208,
          180,
          180,
          374,
          86,
          424,
          155,
          200
         ]
        }
       ],
       "layout": {
        "legend": {
         "bgcolor": "#F5F6F9",
         "font": {
          "color": "#4D5663"
         }
        },
        "paper_bgcolor": "#F5F6F9",
        "plot_bgcolor": "#F5F6F9",
        "template": {
         "data": {
          "bar": [
           {
            "error_x": {
             "color": "#2a3f5f"
            },
            "error_y": {
             "color": "#2a3f5f"
            },
            "marker": {
             "line": {
              "color": "#E5ECF6",
              "width": 0.5
             },
             "pattern": {
              "fillmode": "overlay",
              "size": 10,
              "solidity": 0.2
             }
            },
            "type": "bar"
           }
          ],
          "barpolar": [
           {
            "marker": {
             "line": {
              "color": "#E5ECF6",
              "width": 0.5
             },
             "pattern": {
              "fillmode": "overlay",
              "size": 10,
              "solidity": 0.2
             }
            },
            "type": "barpolar"
           }
          ],
          "carpet": [
           {
            "aaxis": {
             "endlinecolor": "#2a3f5f",
             "gridcolor": "white",
             "linecolor": "white",
             "minorgridcolor": "white",
             "startlinecolor": "#2a3f5f"
            },
            "baxis": {
             "endlinecolor": "#2a3f5f",
             "gridcolor": "white",
             "linecolor": "white",
             "minorgridcolor": "white",
             "startlinecolor": "#2a3f5f"
            },
            "type": "carpet"
           }
          ],
          "choropleth": [
           {
            "colorbar": {
             "outlinewidth": 0,
             "ticks": ""
            },
            "type": "choropleth"
           }
          ],
          "contour": [
           {
            "colorbar": {
             "outlinewidth": 0,
             "ticks": ""
            },
            "colorscale": [
             [
              0,
              "#0d0887"
             ],
             [
              0.1111111111111111,
              "#46039f"
             ],
             [
              0.2222222222222222,
              "#7201a8"
             ],
             [
              0.3333333333333333,
              "#9c179e"
             ],
             [
              0.4444444444444444,
              "#bd3786"
             ],
             [
              0.5555555555555556,
              "#d8576b"
             ],
             [
              0.6666666666666666,
              "#ed7953"
             ],
             [
              0.7777777777777778,
              "#fb9f3a"
             ],
             [
              0.8888888888888888,
              "#fdca26"
             ],
             [
              1,
              "#f0f921"
             ]
            ],
            "type": "contour"
           }
          ],
          "contourcarpet": [
           {
            "colorbar": {
             "outlinewidth": 0,
             "ticks": ""
            },
            "type": "contourcarpet"
           }
          ],
          "heatmap": [
           {
            "colorbar": {
             "outlinewidth": 0,
             "ticks": ""
            },
            "colorscale": [
             [
              0,
              "#0d0887"
             ],
             [
              0.1111111111111111,
              "#46039f"
             ],
             [
              0.2222222222222222,
              "#7201a8"
             ],
             [
              0.3333333333333333,
              "#9c179e"
             ],
             [
              0.4444444444444444,
              "#bd3786"
             ],
             [
              0.5555555555555556,
              "#d8576b"
             ],
             [
              0.6666666666666666,
              "#ed7953"
             ],
             [
              0.7777777777777778,
              "#fb9f3a"
             ],
             [
              0.8888888888888888,
              "#fdca26"
             ],
             [
              1,
              "#f0f921"
             ]
            ],
            "type": "heatmap"
           }
          ],
          "heatmapgl": [
           {
            "colorbar": {
             "outlinewidth": 0,
             "ticks": ""
            },
            "colorscale": [
             [
              0,
              "#0d0887"
             ],
             [
              0.1111111111111111,
              "#46039f"
             ],
             [
              0.2222222222222222,
              "#7201a8"
             ],
             [
              0.3333333333333333,
              "#9c179e"
             ],
             [
              0.4444444444444444,
              "#bd3786"
             ],
             [
              0.5555555555555556,
              "#d8576b"
             ],
             [
              0.6666666666666666,
              "#ed7953"
             ],
             [
              0.7777777777777778,
              "#fb9f3a"
             ],
             [
              0.8888888888888888,
              "#fdca26"
             ],
             [
              1,
              "#f0f921"
             ]
            ],
            "type": "heatmapgl"
           }
          ],
          "histogram": [
           {
            "marker": {
             "pattern": {
              "fillmode": "overlay",
              "size": 10,
              "solidity": 0.2
             }
            },
            "type": "histogram"
           }
          ],
          "histogram2d": [
           {
            "colorbar": {
             "outlinewidth": 0,
             "ticks": ""
            },
            "colorscale": [
             [
              0,
              "#0d0887"
             ],
             [
              0.1111111111111111,
              "#46039f"
             ],
             [
              0.2222222222222222,
              "#7201a8"
             ],
             [
              0.3333333333333333,
              "#9c179e"
             ],
             [
              0.4444444444444444,
              "#bd3786"
             ],
             [
              0.5555555555555556,
              "#d8576b"
             ],
             [
              0.6666666666666666,
              "#ed7953"
             ],
             [
              0.7777777777777778,
              "#fb9f3a"
             ],
             [
              0.8888888888888888,
              "#fdca26"
             ],
             [
              1,
              "#f0f921"
             ]
            ],
            "type": "histogram2d"
           }
          ],
          "histogram2dcontour": [
           {
            "colorbar": {
             "outlinewidth": 0,
             "ticks": ""
            },
            "colorscale": [
             [
              0,
              "#0d0887"
             ],
             [
              0.1111111111111111,
              "#46039f"
             ],
             [
              0.2222222222222222,
              "#7201a8"
             ],
             [
              0.3333333333333333,
              "#9c179e"
             ],
             [
              0.4444444444444444,
              "#bd3786"
             ],
             [
              0.5555555555555556,
              "#d8576b"
             ],
             [
              0.6666666666666666,
              "#ed7953"
             ],
             [
              0.7777777777777778,
              "#fb9f3a"
             ],
             [
              0.8888888888888888,
              "#fdca26"
             ],
             [
              1,
              "#f0f921"
             ]
            ],
            "type": "histogram2dcontour"
           }
          ],
          "mesh3d": [
           {
            "colorbar": {
             "outlinewidth": 0,
             "ticks": ""
            },
            "type": "mesh3d"
           }
          ],
          "parcoords": [
           {
            "line": {
             "colorbar": {
              "outlinewidth": 0,
              "ticks": ""
             }
            },
            "type": "parcoords"
           }
          ],
          "pie": [
           {
            "automargin": true,
            "type": "pie"
           }
          ],
          "scatter": [
           {
            "marker": {
             "colorbar": {
              "outlinewidth": 0,
              "ticks": ""
             }
            },
            "type": "scatter"
           }
          ],
          "scatter3d": [
           {
            "line": {
             "colorbar": {
              "outlinewidth": 0,
              "ticks": ""
             }
            },
            "marker": {
             "colorbar": {
              "outlinewidth": 0,
              "ticks": ""
             }
            },
            "type": "scatter3d"
           }
          ],
          "scattercarpet": [
           {
            "marker": {
             "colorbar": {
              "outlinewidth": 0,
              "ticks": ""
             }
            },
            "type": "scattercarpet"
           }
          ],
          "scattergeo": [
           {
            "marker": {
             "colorbar": {
              "outlinewidth": 0,
              "ticks": ""
             }
            },
            "type": "scattergeo"
           }
          ],
          "scattergl": [
           {
            "marker": {
             "colorbar": {
              "outlinewidth": 0,
              "ticks": ""
             }
            },
            "type": "scattergl"
           }
          ],
          "scattermapbox": [
           {
            "marker": {
             "colorbar": {
              "outlinewidth": 0,
              "ticks": ""
             }
            },
            "type": "scattermapbox"
           }
          ],
          "scatterpolar": [
           {
            "marker": {
             "colorbar": {
              "outlinewidth": 0,
              "ticks": ""
             }
            },
            "type": "scatterpolar"
           }
          ],
          "scatterpolargl": [
           {
            "marker": {
             "colorbar": {
              "outlinewidth": 0,
              "ticks": ""
             }
            },
            "type": "scatterpolargl"
           }
          ],
          "scatterternary": [
           {
            "marker": {
             "colorbar": {
              "outlinewidth": 0,
              "ticks": ""
             }
            },
            "type": "scatterternary"
           }
          ],
          "surface": [
           {
            "colorbar": {
             "outlinewidth": 0,
             "ticks": ""
            },
            "colorscale": [
             [
              0,
              "#0d0887"
             ],
             [
              0.1111111111111111,
              "#46039f"
             ],
             [
              0.2222222222222222,
              "#7201a8"
             ],
             [
              0.3333333333333333,
              "#9c179e"
             ],
             [
              0.4444444444444444,
              "#bd3786"
             ],
             [
              0.5555555555555556,
              "#d8576b"
             ],
             [
              0.6666666666666666,
              "#ed7953"
             ],
             [
              0.7777777777777778,
              "#fb9f3a"
             ],
             [
              0.8888888888888888,
              "#fdca26"
             ],
             [
              1,
              "#f0f921"
             ]
            ],
            "type": "surface"
           }
          ],
          "table": [
           {
            "cells": {
             "fill": {
              "color": "#EBF0F8"
             },
             "line": {
              "color": "white"
             }
            },
            "header": {
             "fill": {
              "color": "#C8D4E3"
             },
             "line": {
              "color": "white"
             }
            },
            "type": "table"
           }
          ]
         },
         "layout": {
          "annotationdefaults": {
           "arrowcolor": "#2a3f5f",
           "arrowhead": 0,
           "arrowwidth": 1
          },
          "autotypenumbers": "strict",
          "coloraxis": {
           "colorbar": {
            "outlinewidth": 0,
            "ticks": ""
           }
          },
          "colorscale": {
           "diverging": [
            [
             0,
             "#8e0152"
            ],
            [
             0.1,
             "#c51b7d"
            ],
            [
             0.2,
             "#de77ae"
            ],
            [
             0.3,
             "#f1b6da"
            ],
            [
             0.4,
             "#fde0ef"
            ],
            [
             0.5,
             "#f7f7f7"
            ],
            [
             0.6,
             "#e6f5d0"
            ],
            [
             0.7,
             "#b8e186"
            ],
            [
             0.8,
             "#7fbc41"
            ],
            [
             0.9,
             "#4d9221"
            ],
            [
             1,
             "#276419"
            ]
           ],
           "sequential": [
            [
             0,
             "#0d0887"
            ],
            [
             0.1111111111111111,
             "#46039f"
            ],
            [
             0.2222222222222222,
             "#7201a8"
            ],
            [
             0.3333333333333333,
             "#9c179e"
            ],
            [
             0.4444444444444444,
             "#bd3786"
            ],
            [
             0.5555555555555556,
             "#d8576b"
            ],
            [
             0.6666666666666666,
             "#ed7953"
            ],
            [
             0.7777777777777778,
             "#fb9f3a"
            ],
            [
             0.8888888888888888,
             "#fdca26"
            ],
            [
             1,
             "#f0f921"
            ]
           ],
           "sequentialminus": [
            [
             0,
             "#0d0887"
            ],
            [
             0.1111111111111111,
             "#46039f"
            ],
            [
             0.2222222222222222,
             "#7201a8"
            ],
            [
             0.3333333333333333,
             "#9c179e"
            ],
            [
             0.4444444444444444,
             "#bd3786"
            ],
            [
             0.5555555555555556,
             "#d8576b"
            ],
            [
             0.6666666666666666,
             "#ed7953"
            ],
            [
             0.7777777777777778,
             "#fb9f3a"
            ],
            [
             0.8888888888888888,
             "#fdca26"
            ],
            [
             1,
             "#f0f921"
            ]
           ]
          },
          "colorway": [
           "#636efa",
           "#EF553B",
           "#00cc96",
           "#ab63fa",
           "#FFA15A",
           "#19d3f3",
           "#FF6692",
           "#B6E880",
           "#FF97FF",
           "#FECB52"
          ],
          "font": {
           "color": "#2a3f5f"
          },
          "geo": {
           "bgcolor": "white",
           "lakecolor": "white",
           "landcolor": "#E5ECF6",
           "showlakes": true,
           "showland": true,
           "subunitcolor": "white"
          },
          "hoverlabel": {
           "align": "left"
          },
          "hovermode": "closest",
          "mapbox": {
           "style": "light"
          },
          "paper_bgcolor": "white",
          "plot_bgcolor": "#E5ECF6",
          "polar": {
           "angularaxis": {
            "gridcolor": "white",
            "linecolor": "white",
            "ticks": ""
           },
           "bgcolor": "#E5ECF6",
           "radialaxis": {
            "gridcolor": "white",
            "linecolor": "white",
            "ticks": ""
           }
          },
          "scene": {
           "xaxis": {
            "backgroundcolor": "#E5ECF6",
            "gridcolor": "white",
            "gridwidth": 2,
            "linecolor": "white",
            "showbackground": true,
            "ticks": "",
            "zerolinecolor": "white"
           },
           "yaxis": {
            "backgroundcolor": "#E5ECF6",
            "gridcolor": "white",
            "gridwidth": 2,
            "linecolor": "white",
            "showbackground": true,
            "ticks": "",
            "zerolinecolor": "white"
           },
           "zaxis": {
            "backgroundcolor": "#E5ECF6",
            "gridcolor": "white",
            "gridwidth": 2,
            "linecolor": "white",
            "showbackground": true,
            "ticks": "",
            "zerolinecolor": "white"
           }
          },
          "shapedefaults": {
           "line": {
            "color": "#2a3f5f"
           }
          },
          "ternary": {
           "aaxis": {
            "gridcolor": "white",
            "linecolor": "white",
            "ticks": ""
           },
           "baxis": {
            "gridcolor": "white",
            "linecolor": "white",
            "ticks": ""
           },
           "bgcolor": "#E5ECF6",
           "caxis": {
            "gridcolor": "white",
            "linecolor": "white",
            "ticks": ""
           }
          },
          "title": {
           "x": 0.05
          },
          "xaxis": {
           "automargin": true,
           "gridcolor": "white",
           "linecolor": "white",
           "ticks": "",
           "title": {
            "standoff": 15
           },
           "zerolinecolor": "white",
           "zerolinewidth": 2
          },
          "yaxis": {
           "automargin": true,
           "gridcolor": "white",
           "linecolor": "white",
           "ticks": "",
           "title": {
            "standoff": 15
           },
           "zerolinecolor": "white",
           "zerolinewidth": 2
          }
         }
        },
        "title": {
         "font": {
          "color": "#4D5663"
         }
        },
        "xaxis": {
         "gridcolor": "#E1E5ED",
         "showgrid": true,
         "tickfont": {
          "color": "#4D5663"
         },
         "title": {
          "font": {
           "color": "#4D5663"
          },
          "text": ""
         },
         "zerolinecolor": "#E1E5ED"
        },
        "yaxis": {
         "gridcolor": "#E1E5ED",
         "showgrid": true,
         "tickfont": {
          "color": "#4D5663"
         },
         "title": {
          "font": {
           "color": "#4D5663"
          },
          "text": ""
         },
         "zerolinecolor": "#E1E5ED"
        }
       }
      },
      "text/html": [
       "<div>                            <div id=\"dd40dbe6-0f2a-4c6e-8ab7-60e18f3ed6f7\" class=\"plotly-graph-div\" style=\"height:525px; width:100%;\"></div>            <script type=\"text/javascript\">                require([\"plotly\"], function(Plotly) {                    window.PLOTLYENV=window.PLOTLYENV || {};\n",
       "                    window.PLOTLYENV.BASE_URL='https://plot.ly';                                    if (document.getElementById(\"dd40dbe6-0f2a-4c6e-8ab7-60e18f3ed6f7\")) {                    Plotly.newPlot(                        \"dd40dbe6-0f2a-4c6e-8ab7-60e18f3ed6f7\",                        [{\"line\":{\"color\":\"rgba(255, 153, 51, 1.0)\",\"dash\":\"solid\",\"shape\":\"linear\",\"width\":1.3},\"mode\":\"lines\",\"name\":\"Revenue\",\"text\":\"\",\"type\":\"scatter\",\"x\":[\"2011-01-05 12:42:00\",\"2011-01-05 14:48:00\",\"2011-01-06 14:26:00\",\"2011-01-06 16:12:00\",\"2011-01-07 12:07:00\",\"2011-01-07 13:13:00\",\"2011-01-09 12:46:00\",\"2011-01-10 13:22:00\",\"2011-01-11 07:57:00\",\"2011-01-11 11:48:00\",\"2011-01-11 13:31:00\",\"2011-01-11 15:00:00\",\"2011-01-12 09:43:00\",\"2011-01-12 14:13:00\",\"2011-01-12 15:00:00\",\"2011-01-14 09:13:00\",\"2011-01-14 09:20:00\",\"2011-01-14 10:42:00\",\"2011-01-17 15:17:00\",\"2011-01-19 11:51:00\",\"2011-01-20 10:47:00\",\"2011-01-20 10:48:00\",\"2011-01-23 15:17:00\",\"2011-01-24 15:32:00\",\"2011-01-28 09:20:00\",\"2011-01-28 10:45:00\",\"2011-01-28 13:37:00\",\"2011-01-31 09:57:00\",\"2011-01-31 15:36:00\",\"2011-02-01 14:58:00\",\"2011-02-02 09:06:00\",\"2011-02-02 15:22:00\",\"2011-02-04 11:45:00\",\"2011-02-08 13:28:00\",\"2011-02-09 10:11:00\",\"2011-02-10 15:38:00\",\"2011-02-15 14:17:00\",\"2011-02-16 11:45:00\",\"2011-02-17 10:08:00\",\"2011-02-18 10:53:00\",\"2011-02-18 15:23:00\",\"2011-02-21 08:38:00\",\"2011-02-21 14:58:00\",\"2011-02-23 16:44:00\",\"2011-02-23 16:45:00\",\"2011-02-27 11:58:00\",\"2011-02-28 11:43:00\",\"2011-02-28 11:58:00\",\"2011-02-28 14:42:00\",\"2011-02-28 14:45:00\",\"2011-03-01 10:31:00\",\"2011-03-01 12:26:00\",\"2011-03-03 12:06:00\",\"2011-03-03 12:20:00\",\"2011-03-04 09:08:00\",\"2011-03-11 12:00:00\",\"2011-03-13 14:55:00\",\"2011-03-14 11:38:00\",\"2011-03-15 16:39:00\",\"2011-03-16 14:37:00\",\"2011-03-16 15:17:00\",\"2011-03-20 15:58:00\",\"2011-03-21 12:42:00\",\"2011-03-21 12:44:00\",\"2011-03-22 11:28:00\",\"2011-03-23 12:06:00\",\"2011-03-23 13:33:00\",\"2011-03-23 13:39:00\",\"2011-03-23 14:55:00\",\"2011-03-25 10:19:00\",\"2011-03-27 13:07:00\",\"2011-03-28 10:15:00\",\"2011-03-31 10:27:00\",\"2011-03-31 10:29:00\",\"2011-03-31 13:40:00\",\"2011-04-01 09:19:00\",\"2011-04-01 11:10:00\",\"2011-04-04 11:18:00\",\"2011-04-07 13:07:00\",\"2011-04-14 14:15:00\",\"2011-04-17 11:21:00\",\"2011-04-17 15:33:00\",\"2011-04-20 09:20:00\",\"2011-04-21 08:54:00\",\"2011-04-21 10:16:00\",\"2011-04-26 15:52:00\",\"2011-04-28 11:45:00\",\"2011-05-03 08:40:00\",\"2011-05-03 09:33:00\",\"2011-05-03 09:34:00\",\"2011-05-03 12:02:00\",\"2011-05-03 12:03:00\",\"2011-05-05 09:29:00\",\"2011-05-08 16:10:00\",\"2011-05-09 09:47:00\",\"2011-05-09 15:12:00\",\"2011-05-10 12:55:00\",\"2011-05-11 13:20:00\",\"2011-05-11 15:07:00\",\"2011-05-12 11:50:00\",\"2011-05-13 09:24:00\",\"2011-05-13 13:15:00\",\"2011-05-13 15:48:00\",\"2011-05-15 13:45:00\",\"2011-05-16 09:10:00\",\"2011-05-16 12:04:00\",\"2011-05-17 09:28:00\",\"2011-05-18 09:09:00\",\"2011-05-18 10:34:00\",\"2011-05-18 12:18:00\",\"2011-05-19 12:10:00\",\"2011-05-19 12:29:00\",\"2011-05-20 11:34:00\",\"2011-05-22 13:01:00\",\"2011-05-22 14:33:00\",\"2011-05-23 09:48:00\",\"2011-05-24 09:25:00\",\"2011-05-25 10:08:00\",\"2011-05-25 12:44:00\",\"2011-05-25 12:54:00\",\"2011-05-26 14:53:00\",\"2011-05-26 17:16:00\",\"2011-05-27 13:49:00\",\"2011-05-31 13:32:00\"],\"y\":[502.07,763.11,283.77,425.25,676.16,298.93,114.0,1112.06,144.0,835.1999999999999,216.54,136.9,102.94999999999999,338.7,793.98,774.22,225.9,592.31,642.14,698.75,581.55,827.13,406.5,190.2,182.45,365.58,405.8,3174.43,363.54,456.84999999999997,454.89,132.5,1128.73,165.85999999999999,401.02,285.56,219.6,829.66,214.0,878.3,6.3,603.42,125.4,308.0,95.76,92.6,335.43,612.86,182.72,158.5,316.2,722.06,480.76000000000005,20.4,281.25,676.8499999999999,307.28999999999996,425.40000000000003,511.53999999999996,129.70999999999998,115.09,298.02,201.24,4.63,469.98,160.5,733.88,378.0,402.9,303.91,128.05,1028.3,1937.06,413.4,3243.13,138.75,252.0,513.55,312.2,615.2,509.57,84.65,469.20000000000005,73.5,579.05,160.54000000000002,191.10000000000002,528.88,620.84,24.9,162.48000000000002,336.24,200.0,984.4300000000001,295.5,205.4,453.09999999999997,1637.43,1381.3,278.53000000000003,459.98,89.25,397.28000000000003,133.4,550.74,121.88,739.62,335.01,332.20000000000005,76.32000000000001,561.66,316.85,956.4,615.21,169.5,385.96,357.34,231.12,390.96,514.74,196.5,362.0,367.09,404.84000000000003]},{\"line\":{\"color\":\"rgba(55, 128, 191, 1.0)\",\"dash\":\"solid\",\"shape\":\"linear\",\"width\":1.3},\"mode\":\"lines\",\"name\":\"Quantity\",\"text\":\"\",\"type\":\"scatter\",\"x\":[\"2011-01-05 12:42:00\",\"2011-01-05 14:48:00\",\"2011-01-06 14:26:00\",\"2011-01-06 16:12:00\",\"2011-01-07 12:07:00\",\"2011-01-07 13:13:00\",\"2011-01-09 12:46:00\",\"2011-01-10 13:22:00\",\"2011-01-11 07:57:00\",\"2011-01-11 11:48:00\",\"2011-01-11 13:31:00\",\"2011-01-11 15:00:00\",\"2011-01-12 09:43:00\",\"2011-01-12 14:13:00\",\"2011-01-12 15:00:00\",\"2011-01-14 09:13:00\",\"2011-01-14 09:20:00\",\"2011-01-14 10:42:00\",\"2011-01-17 15:17:00\",\"2011-01-19 11:51:00\",\"2011-01-20 10:47:00\",\"2011-01-20 10:48:00\",\"2011-01-23 15:17:00\",\"2011-01-24 15:32:00\",\"2011-01-28 09:20:00\",\"2011-01-28 10:45:00\",\"2011-01-28 13:37:00\",\"2011-01-31 09:57:00\",\"2011-01-31 15:36:00\",\"2011-02-01 14:58:00\",\"2011-02-02 09:06:00\",\"2011-02-02 15:22:00\",\"2011-02-04 11:45:00\",\"2011-02-08 13:28:00\",\"2011-02-09 10:11:00\",\"2011-02-10 15:38:00\",\"2011-02-15 14:17:00\",\"2011-02-16 11:45:00\",\"2011-02-17 10:08:00\",\"2011-02-18 10:53:00\",\"2011-02-18 15:23:00\",\"2011-02-21 08:38:00\",\"2011-02-21 14:58:00\",\"2011-02-23 16:44:00\",\"2011-02-23 16:45:00\",\"2011-02-27 11:58:00\",\"2011-02-28 11:43:00\",\"2011-02-28 11:58:00\",\"2011-02-28 14:42:00\",\"2011-02-28 14:45:00\",\"2011-03-01 10:31:00\",\"2011-03-01 12:26:00\",\"2011-03-03 12:06:00\",\"2011-03-03 12:20:00\",\"2011-03-04 09:08:00\",\"2011-03-11 12:00:00\",\"2011-03-13 14:55:00\",\"2011-03-14 11:38:00\",\"2011-03-15 16:39:00\",\"2011-03-16 14:37:00\",\"2011-03-16 15:17:00\",\"2011-03-20 15:58:00\",\"2011-03-21 12:42:00\",\"2011-03-21 12:44:00\",\"2011-03-22 11:28:00\",\"2011-03-23 12:06:00\",\"2011-03-23 13:33:00\",\"2011-03-23 13:39:00\",\"2011-03-23 14:55:00\",\"2011-03-25 10:19:00\",\"2011-03-27 13:07:00\",\"2011-03-28 10:15:00\",\"2011-03-31 10:27:00\",\"2011-03-31 10:29:00\",\"2011-03-31 13:40:00\",\"2011-04-01 09:19:00\",\"2011-04-01 11:10:00\",\"2011-04-04 11:18:00\",\"2011-04-07 13:07:00\",\"2011-04-14 14:15:00\",\"2011-04-17 11:21:00\",\"2011-04-17 15:33:00\",\"2011-04-20 09:20:00\",\"2011-04-21 08:54:00\",\"2011-04-21 10:16:00\",\"2011-04-26 15:52:00\",\"2011-04-28 11:45:00\",\"2011-05-03 08:40:00\",\"2011-05-03 09:33:00\",\"2011-05-03 09:34:00\",\"2011-05-03 12:02:00\",\"2011-05-03 12:03:00\",\"2011-05-05 09:29:00\",\"2011-05-08 16:10:00\",\"2011-05-09 09:47:00\",\"2011-05-09 15:12:00\",\"2011-05-10 12:55:00\",\"2011-05-11 13:20:00\",\"2011-05-11 15:07:00\",\"2011-05-12 11:50:00\",\"2011-05-13 09:24:00\",\"2011-05-13 13:15:00\",\"2011-05-13 15:48:00\",\"2011-05-15 13:45:00\",\"2011-05-16 09:10:00\",\"2011-05-16 12:04:00\",\"2011-05-17 09:28:00\",\"2011-05-18 09:09:00\",\"2011-05-18 10:34:00\",\"2011-05-18 12:18:00\",\"2011-05-19 12:10:00\",\"2011-05-19 12:29:00\",\"2011-05-20 11:34:00\",\"2011-05-22 13:01:00\",\"2011-05-22 14:33:00\",\"2011-05-23 09:48:00\",\"2011-05-24 09:25:00\",\"2011-05-25 10:08:00\",\"2011-05-25 12:44:00\",\"2011-05-25 12:54:00\",\"2011-05-26 14:53:00\",\"2011-05-26 17:16:00\",\"2011-05-27 13:49:00\",\"2011-05-31 13:32:00\"],\"y\":[359,369,261,177,488,103,78,628,168,576,120,114,43,131,498,543,78,440,263,383,211,491,120,84,59,406,102,1617,202,197,159,206,611,214,298,452,96,772,114,748,15,256,77,264,96,70,213,310,72,54,245,329,314,24,123,323,183,184,314,97,62,422,85,5,198,136,713,242,130,261,59,842,946,132,2271,88,240,293,236,284,375,25,196,23,275,84,146,368,350,6,120,192,98,773,162,332,458,859,734,105,202,33,267,140,220,58,476,103,152,72,434,126,464,229,62,304,208,180,180,374,86,424,155,200]}],                        {\"legend\":{\"bgcolor\":\"#F5F6F9\",\"font\":{\"color\":\"#4D5663\"}},\"paper_bgcolor\":\"#F5F6F9\",\"plot_bgcolor\":\"#F5F6F9\",\"template\":{\"data\":{\"bar\":[{\"error_x\":{\"color\":\"#2a3f5f\"},\"error_y\":{\"color\":\"#2a3f5f\"},\"marker\":{\"line\":{\"color\":\"#E5ECF6\",\"width\":0.5},\"pattern\":{\"fillmode\":\"overlay\",\"size\":10,\"solidity\":0.2}},\"type\":\"bar\"}],\"barpolar\":[{\"marker\":{\"line\":{\"color\":\"#E5ECF6\",\"width\":0.5},\"pattern\":{\"fillmode\":\"overlay\",\"size\":10,\"solidity\":0.2}},\"type\":\"barpolar\"}],\"carpet\":[{\"aaxis\":{\"endlinecolor\":\"#2a3f5f\",\"gridcolor\":\"white\",\"linecolor\":\"white\",\"minorgridcolor\":\"white\",\"startlinecolor\":\"#2a3f5f\"},\"baxis\":{\"endlinecolor\":\"#2a3f5f\",\"gridcolor\":\"white\",\"linecolor\":\"white\",\"minorgridcolor\":\"white\",\"startlinecolor\":\"#2a3f5f\"},\"type\":\"carpet\"}],\"choropleth\":[{\"colorbar\":{\"outlinewidth\":0,\"ticks\":\"\"},\"type\":\"choropleth\"}],\"contour\":[{\"colorbar\":{\"outlinewidth\":0,\"ticks\":\"\"},\"colorscale\":[[0.0,\"#0d0887\"],[0.1111111111111111,\"#46039f\"],[0.2222222222222222,\"#7201a8\"],[0.3333333333333333,\"#9c179e\"],[0.4444444444444444,\"#bd3786\"],[0.5555555555555556,\"#d8576b\"],[0.6666666666666666,\"#ed7953\"],[0.7777777777777778,\"#fb9f3a\"],[0.8888888888888888,\"#fdca26\"],[1.0,\"#f0f921\"]],\"type\":\"contour\"}],\"contourcarpet\":[{\"colorbar\":{\"outlinewidth\":0,\"ticks\":\"\"},\"type\":\"contourcarpet\"}],\"heatmap\":[{\"colorbar\":{\"outlinewidth\":0,\"ticks\":\"\"},\"colorscale\":[[0.0,\"#0d0887\"],[0.1111111111111111,\"#46039f\"],[0.2222222222222222,\"#7201a8\"],[0.3333333333333333,\"#9c179e\"],[0.4444444444444444,\"#bd3786\"],[0.5555555555555556,\"#d8576b\"],[0.6666666666666666,\"#ed7953\"],[0.7777777777777778,\"#fb9f3a\"],[0.8888888888888888,\"#fdca26\"],[1.0,\"#f0f921\"]],\"type\":\"heatmap\"}],\"heatmapgl\":[{\"colorbar\":{\"outlinewidth\":0,\"ticks\":\"\"},\"colorscale\":[[0.0,\"#0d0887\"],[0.1111111111111111,\"#46039f\"],[0.2222222222222222,\"#7201a8\"],[0.3333333333333333,\"#9c179e\"],[0.4444444444444444,\"#bd3786\"],[0.5555555555555556,\"#d8576b\"],[0.6666666666666666,\"#ed7953\"],[0.7777777777777778,\"#fb9f3a\"],[0.8888888888888888,\"#fdca26\"],[1.0,\"#f0f921\"]],\"type\":\"heatmapgl\"}],\"histogram\":[{\"marker\":{\"pattern\":{\"fillmode\":\"overlay\",\"size\":10,\"solidity\":0.2}},\"type\":\"histogram\"}],\"histogram2d\":[{\"colorbar\":{\"outlinewidth\":0,\"ticks\":\"\"},\"colorscale\":[[0.0,\"#0d0887\"],[0.1111111111111111,\"#46039f\"],[0.2222222222222222,\"#7201a8\"],[0.3333333333333333,\"#9c179e\"],[0.4444444444444444,\"#bd3786\"],[0.5555555555555556,\"#d8576b\"],[0.6666666666666666,\"#ed7953\"],[0.7777777777777778,\"#fb9f3a\"],[0.8888888888888888,\"#fdca26\"],[1.0,\"#f0f921\"]],\"type\":\"histogram2d\"}],\"histogram2dcontour\":[{\"colorbar\":{\"outlinewidth\":0,\"ticks\":\"\"},\"colorscale\":[[0.0,\"#0d0887\"],[0.1111111111111111,\"#46039f\"],[0.2222222222222222,\"#7201a8\"],[0.3333333333333333,\"#9c179e\"],[0.4444444444444444,\"#bd3786\"],[0.5555555555555556,\"#d8576b\"],[0.6666666666666666,\"#ed7953\"],[0.7777777777777778,\"#fb9f3a\"],[0.8888888888888888,\"#fdca26\"],[1.0,\"#f0f921\"]],\"type\":\"histogram2dcontour\"}],\"mesh3d\":[{\"colorbar\":{\"outlinewidth\":0,\"ticks\":\"\"},\"type\":\"mesh3d\"}],\"parcoords\":[{\"line\":{\"colorbar\":{\"outlinewidth\":0,\"ticks\":\"\"}},\"type\":\"parcoords\"}],\"pie\":[{\"automargin\":true,\"type\":\"pie\"}],\"scatter\":[{\"marker\":{\"colorbar\":{\"outlinewidth\":0,\"ticks\":\"\"}},\"type\":\"scatter\"}],\"scatter3d\":[{\"line\":{\"colorbar\":{\"outlinewidth\":0,\"ticks\":\"\"}},\"marker\":{\"colorbar\":{\"outlinewidth\":0,\"ticks\":\"\"}},\"type\":\"scatter3d\"}],\"scattercarpet\":[{\"marker\":{\"colorbar\":{\"outlinewidth\":0,\"ticks\":\"\"}},\"type\":\"scattercarpet\"}],\"scattergeo\":[{\"marker\":{\"colorbar\":{\"outlinewidth\":0,\"ticks\":\"\"}},\"type\":\"scattergeo\"}],\"scattergl\":[{\"marker\":{\"colorbar\":{\"outlinewidth\":0,\"ticks\":\"\"}},\"type\":\"scattergl\"}],\"scattermapbox\":[{\"marker\":{\"colorbar\":{\"outlinewidth\":0,\"ticks\":\"\"}},\"type\":\"scattermapbox\"}],\"scatterpolar\":[{\"marker\":{\"colorbar\":{\"outlinewidth\":0,\"ticks\":\"\"}},\"type\":\"scatterpolar\"}],\"scatterpolargl\":[{\"marker\":{\"colorbar\":{\"outlinewidth\":0,\"ticks\":\"\"}},\"type\":\"scatterpolargl\"}],\"scatterternary\":[{\"marker\":{\"colorbar\":{\"outlinewidth\":0,\"ticks\":\"\"}},\"type\":\"scatterternary\"}],\"surface\":[{\"colorbar\":{\"outlinewidth\":0,\"ticks\":\"\"},\"colorscale\":[[0.0,\"#0d0887\"],[0.1111111111111111,\"#46039f\"],[0.2222222222222222,\"#7201a8\"],[0.3333333333333333,\"#9c179e\"],[0.4444444444444444,\"#bd3786\"],[0.5555555555555556,\"#d8576b\"],[0.6666666666666666,\"#ed7953\"],[0.7777777777777778,\"#fb9f3a\"],[0.8888888888888888,\"#fdca26\"],[1.0,\"#f0f921\"]],\"type\":\"surface\"}],\"table\":[{\"cells\":{\"fill\":{\"color\":\"#EBF0F8\"},\"line\":{\"color\":\"white\"}},\"header\":{\"fill\":{\"color\":\"#C8D4E3\"},\"line\":{\"color\":\"white\"}},\"type\":\"table\"}]},\"layout\":{\"annotationdefaults\":{\"arrowcolor\":\"#2a3f5f\",\"arrowhead\":0,\"arrowwidth\":1},\"autotypenumbers\":\"strict\",\"coloraxis\":{\"colorbar\":{\"outlinewidth\":0,\"ticks\":\"\"}},\"colorscale\":{\"diverging\":[[0,\"#8e0152\"],[0.1,\"#c51b7d\"],[0.2,\"#de77ae\"],[0.3,\"#f1b6da\"],[0.4,\"#fde0ef\"],[0.5,\"#f7f7f7\"],[0.6,\"#e6f5d0\"],[0.7,\"#b8e186\"],[0.8,\"#7fbc41\"],[0.9,\"#4d9221\"],[1,\"#276419\"]],\"sequential\":[[0.0,\"#0d0887\"],[0.1111111111111111,\"#46039f\"],[0.2222222222222222,\"#7201a8\"],[0.3333333333333333,\"#9c179e\"],[0.4444444444444444,\"#bd3786\"],[0.5555555555555556,\"#d8576b\"],[0.6666666666666666,\"#ed7953\"],[0.7777777777777778,\"#fb9f3a\"],[0.8888888888888888,\"#fdca26\"],[1.0,\"#f0f921\"]],\"sequentialminus\":[[0.0,\"#0d0887\"],[0.1111111111111111,\"#46039f\"],[0.2222222222222222,\"#7201a8\"],[0.3333333333333333,\"#9c179e\"],[0.4444444444444444,\"#bd3786\"],[0.5555555555555556,\"#d8576b\"],[0.6666666666666666,\"#ed7953\"],[0.7777777777777778,\"#fb9f3a\"],[0.8888888888888888,\"#fdca26\"],[1.0,\"#f0f921\"]]},\"colorway\":[\"#636efa\",\"#EF553B\",\"#00cc96\",\"#ab63fa\",\"#FFA15A\",\"#19d3f3\",\"#FF6692\",\"#B6E880\",\"#FF97FF\",\"#FECB52\"],\"font\":{\"color\":\"#2a3f5f\"},\"geo\":{\"bgcolor\":\"white\",\"lakecolor\":\"white\",\"landcolor\":\"#E5ECF6\",\"showlakes\":true,\"showland\":true,\"subunitcolor\":\"white\"},\"hoverlabel\":{\"align\":\"left\"},\"hovermode\":\"closest\",\"mapbox\":{\"style\":\"light\"},\"paper_bgcolor\":\"white\",\"plot_bgcolor\":\"#E5ECF6\",\"polar\":{\"angularaxis\":{\"gridcolor\":\"white\",\"linecolor\":\"white\",\"ticks\":\"\"},\"bgcolor\":\"#E5ECF6\",\"radialaxis\":{\"gridcolor\":\"white\",\"linecolor\":\"white\",\"ticks\":\"\"}},\"scene\":{\"xaxis\":{\"backgroundcolor\":\"#E5ECF6\",\"gridcolor\":\"white\",\"gridwidth\":2,\"linecolor\":\"white\",\"showbackground\":true,\"ticks\":\"\",\"zerolinecolor\":\"white\"},\"yaxis\":{\"backgroundcolor\":\"#E5ECF6\",\"gridcolor\":\"white\",\"gridwidth\":2,\"linecolor\":\"white\",\"showbackground\":true,\"ticks\":\"\",\"zerolinecolor\":\"white\"},\"zaxis\":{\"backgroundcolor\":\"#E5ECF6\",\"gridcolor\":\"white\",\"gridwidth\":2,\"linecolor\":\"white\",\"showbackground\":true,\"ticks\":\"\",\"zerolinecolor\":\"white\"}},\"shapedefaults\":{\"line\":{\"color\":\"#2a3f5f\"}},\"ternary\":{\"aaxis\":{\"gridcolor\":\"white\",\"linecolor\":\"white\",\"ticks\":\"\"},\"baxis\":{\"gridcolor\":\"white\",\"linecolor\":\"white\",\"ticks\":\"\"},\"bgcolor\":\"#E5ECF6\",\"caxis\":{\"gridcolor\":\"white\",\"linecolor\":\"white\",\"ticks\":\"\"}},\"title\":{\"x\":0.05},\"xaxis\":{\"automargin\":true,\"gridcolor\":\"white\",\"linecolor\":\"white\",\"ticks\":\"\",\"title\":{\"standoff\":15},\"zerolinecolor\":\"white\",\"zerolinewidth\":2},\"yaxis\":{\"automargin\":true,\"gridcolor\":\"white\",\"linecolor\":\"white\",\"ticks\":\"\",\"title\":{\"standoff\":15},\"zerolinecolor\":\"white\",\"zerolinewidth\":2}}},\"title\":{\"font\":{\"color\":\"#4D5663\"}},\"xaxis\":{\"gridcolor\":\"#E1E5ED\",\"showgrid\":true,\"tickfont\":{\"color\":\"#4D5663\"},\"title\":{\"font\":{\"color\":\"#4D5663\"},\"text\":\"\"},\"zerolinecolor\":\"#E1E5ED\"},\"yaxis\":{\"gridcolor\":\"#E1E5ED\",\"showgrid\":true,\"tickfont\":{\"color\":\"#4D5663\"},\"title\":{\"font\":{\"color\":\"#4D5663\"},\"text\":\"\"},\"zerolinecolor\":\"#E1E5ED\"}},                        {\"showLink\": true, \"linkText\": \"Export to plot.ly\", \"plotlyServerURL\": \"https://plot.ly\", \"responsive\": true}                    ).then(function(){\n",
       "                            \n",
       "var gd = document.getElementById('dd40dbe6-0f2a-4c6e-8ab7-60e18f3ed6f7');\n",
       "var x = new MutationObserver(function (mutations, observer) {{\n",
       "        var display = window.getComputedStyle(gd).display;\n",
       "        if (!display || display === 'none') {{\n",
       "            console.log([gd, 'removed!']);\n",
       "            Plotly.purge(gd);\n",
       "            observer.disconnect();\n",
       "        }}\n",
       "}});\n",
       "\n",
       "// Listen for the removal of the full notebook cells\n",
       "var notebookContainer = gd.closest('#notebook-container');\n",
       "if (notebookContainer) {{\n",
       "    x.observe(notebookContainer, {childList: true});\n",
       "}}\n",
       "\n",
       "// Listen for the clearing of the current output cell\n",
       "var outputEl = gd.closest('.output');\n",
       "if (outputEl) {{\n",
       "    x.observe(outputEl, {childList: true});\n",
       "}}\n",
       "\n",
       "                        })                };                });            </script>        </div>"
      ]
     },
     "metadata": {},
     "output_type": "display_data"
    }
   ],
   "source": [
    "data[(data['InvoiceDate'].dt.year == 2011) & \n",
    "     (data['InvoiceDate'].dt.month < 6) & \n",
    "     (data['InvoiceDate'].dt.month >= 1) & \n",
    "     (data['Country']=='France')].groupby('InvoiceDate')[['Quantity', 'Revenue']].sum().reset_index().iplot(kind='line',\n",
    "                                                                                                            x='InvoiceDate', \n",
    "                                                                                                            y=['Revenue', 'Quantity'])\n"
   ]
  },
  {
   "cell_type": "markdown",
   "metadata": {},
   "source": [
    "## 3. Create an interactive scatter plot showing the relationship between average quantity (x-axis) and average unit price (y-axis) for the product PARTY BUNTING with the plot points color-coded by country (categories)."
   ]
  },
  {
   "cell_type": "code",
   "execution_count": 19,
   "metadata": {},
   "outputs": [],
   "source": [
    "data_scatter=data[data.Description==\"PARTY BUNTING\"].groupby('Country')[['Quantity','UnitPrice']].mean()"
   ]
  },
  {
   "cell_type": "code",
   "execution_count": 22,
   "metadata": {},
   "outputs": [
    {
     "data": {
      "text/html": [
       "<div>\n",
       "<style scoped>\n",
       "    .dataframe tbody tr th:only-of-type {\n",
       "        vertical-align: middle;\n",
       "    }\n",
       "\n",
       "    .dataframe tbody tr th {\n",
       "        vertical-align: top;\n",
       "    }\n",
       "\n",
       "    .dataframe thead th {\n",
       "        text-align: right;\n",
       "    }\n",
       "</style>\n",
       "<table border=\"1\" class=\"dataframe\">\n",
       "  <thead>\n",
       "    <tr style=\"text-align: right;\">\n",
       "      <th></th>\n",
       "      <th>Quantity</th>\n",
       "      <th>UnitPrice</th>\n",
       "    </tr>\n",
       "    <tr>\n",
       "      <th>Country</th>\n",
       "      <th></th>\n",
       "      <th></th>\n",
       "    </tr>\n",
       "  </thead>\n",
       "  <tbody>\n",
       "    <tr>\n",
       "      <th>Australia</th>\n",
       "      <td>33.125000</td>\n",
       "      <td>4.712500</td>\n",
       "    </tr>\n",
       "    <tr>\n",
       "      <th>Austria</th>\n",
       "      <td>8.000000</td>\n",
       "      <td>4.950000</td>\n",
       "    </tr>\n",
       "    <tr>\n",
       "      <th>Belgium</th>\n",
       "      <td>4.000000</td>\n",
       "      <td>4.950000</td>\n",
       "    </tr>\n",
       "    <tr>\n",
       "      <th>Channel Islands</th>\n",
       "      <td>13.333333</td>\n",
       "      <td>4.950000</td>\n",
       "    </tr>\n",
       "    <tr>\n",
       "      <th>Cyprus</th>\n",
       "      <td>2.333333</td>\n",
       "      <td>4.750000</td>\n",
       "    </tr>\n",
       "    <tr>\n",
       "      <th>Denmark</th>\n",
       "      <td>12.000000</td>\n",
       "      <td>4.950000</td>\n",
       "    </tr>\n",
       "    <tr>\n",
       "      <th>EIRE</th>\n",
       "      <td>21.210526</td>\n",
       "      <td>4.739474</td>\n",
       "    </tr>\n",
       "    <tr>\n",
       "      <th>Finland</th>\n",
       "      <td>6.000000</td>\n",
       "      <td>4.950000</td>\n",
       "    </tr>\n",
       "    <tr>\n",
       "      <th>France</th>\n",
       "      <td>5.727273</td>\n",
       "      <td>4.922727</td>\n",
       "    </tr>\n",
       "    <tr>\n",
       "      <th>Germany</th>\n",
       "      <td>6.800000</td>\n",
       "      <td>4.890000</td>\n",
       "    </tr>\n",
       "    <tr>\n",
       "      <th>Israel</th>\n",
       "      <td>1.000000</td>\n",
       "      <td>4.950000</td>\n",
       "    </tr>\n",
       "    <tr>\n",
       "      <th>Japan</th>\n",
       "      <td>56.666667</td>\n",
       "      <td>4.183333</td>\n",
       "    </tr>\n",
       "    <tr>\n",
       "      <th>Lebanon</th>\n",
       "      <td>15.000000</td>\n",
       "      <td>4.650000</td>\n",
       "    </tr>\n",
       "    <tr>\n",
       "      <th>Netherlands</th>\n",
       "      <td>50.000000</td>\n",
       "      <td>4.150000</td>\n",
       "    </tr>\n",
       "    <tr>\n",
       "      <th>Norway</th>\n",
       "      <td>6.000000</td>\n",
       "      <td>4.950000</td>\n",
       "    </tr>\n",
       "    <tr>\n",
       "      <th>Singapore</th>\n",
       "      <td>8.000000</td>\n",
       "      <td>4.950000</td>\n",
       "    </tr>\n",
       "    <tr>\n",
       "      <th>South Africa</th>\n",
       "      <td>4.000000</td>\n",
       "      <td>4.950000</td>\n",
       "    </tr>\n",
       "    <tr>\n",
       "      <th>Spain</th>\n",
       "      <td>4.750000</td>\n",
       "      <td>4.837500</td>\n",
       "    </tr>\n",
       "    <tr>\n",
       "      <th>Switzerland</th>\n",
       "      <td>17.200000</td>\n",
       "      <td>4.790000</td>\n",
       "    </tr>\n",
       "    <tr>\n",
       "      <th>United Kingdom</th>\n",
       "      <td>10.705432</td>\n",
       "      <td>4.880926</td>\n",
       "    </tr>\n",
       "  </tbody>\n",
       "</table>\n",
       "</div>"
      ],
      "text/plain": [
       "                  Quantity  UnitPrice\n",
       "Country                              \n",
       "Australia        33.125000   4.712500\n",
       "Austria           8.000000   4.950000\n",
       "Belgium           4.000000   4.950000\n",
       "Channel Islands  13.333333   4.950000\n",
       "Cyprus            2.333333   4.750000\n",
       "Denmark          12.000000   4.950000\n",
       "EIRE             21.210526   4.739474\n",
       "Finland           6.000000   4.950000\n",
       "France            5.727273   4.922727\n",
       "Germany           6.800000   4.890000\n",
       "Israel            1.000000   4.950000\n",
       "Japan            56.666667   4.183333\n",
       "Lebanon          15.000000   4.650000\n",
       "Netherlands      50.000000   4.150000\n",
       "Norway            6.000000   4.950000\n",
       "Singapore         8.000000   4.950000\n",
       "South Africa      4.000000   4.950000\n",
       "Spain             4.750000   4.837500\n",
       "Switzerland      17.200000   4.790000\n",
       "United Kingdom   10.705432   4.880926"
      ]
     },
     "execution_count": 22,
     "metadata": {},
     "output_type": "execute_result"
    }
   ],
   "source": [
    "data_scatter"
   ]
  },
  {
   "cell_type": "code",
   "execution_count": 29,
   "metadata": {},
   "outputs": [],
   "source": [
    "data_scatter=data_scatter.reset_index()"
   ]
  },
  {
   "cell_type": "code",
   "execution_count": 30,
   "metadata": {},
   "outputs": [
    {
     "data": {
      "text/html": [
       "<div>\n",
       "<style scoped>\n",
       "    .dataframe tbody tr th:only-of-type {\n",
       "        vertical-align: middle;\n",
       "    }\n",
       "\n",
       "    .dataframe tbody tr th {\n",
       "        vertical-align: top;\n",
       "    }\n",
       "\n",
       "    .dataframe thead th {\n",
       "        text-align: right;\n",
       "    }\n",
       "</style>\n",
       "<table border=\"1\" class=\"dataframe\">\n",
       "  <thead>\n",
       "    <tr style=\"text-align: right;\">\n",
       "      <th></th>\n",
       "      <th>Country</th>\n",
       "      <th>Quantity</th>\n",
       "      <th>UnitPrice</th>\n",
       "    </tr>\n",
       "  </thead>\n",
       "  <tbody>\n",
       "    <tr>\n",
       "      <th>0</th>\n",
       "      <td>Australia</td>\n",
       "      <td>33.125000</td>\n",
       "      <td>4.712500</td>\n",
       "    </tr>\n",
       "    <tr>\n",
       "      <th>1</th>\n",
       "      <td>Austria</td>\n",
       "      <td>8.000000</td>\n",
       "      <td>4.950000</td>\n",
       "    </tr>\n",
       "    <tr>\n",
       "      <th>2</th>\n",
       "      <td>Belgium</td>\n",
       "      <td>4.000000</td>\n",
       "      <td>4.950000</td>\n",
       "    </tr>\n",
       "    <tr>\n",
       "      <th>3</th>\n",
       "      <td>Channel Islands</td>\n",
       "      <td>13.333333</td>\n",
       "      <td>4.950000</td>\n",
       "    </tr>\n",
       "    <tr>\n",
       "      <th>4</th>\n",
       "      <td>Cyprus</td>\n",
       "      <td>2.333333</td>\n",
       "      <td>4.750000</td>\n",
       "    </tr>\n",
       "    <tr>\n",
       "      <th>5</th>\n",
       "      <td>Denmark</td>\n",
       "      <td>12.000000</td>\n",
       "      <td>4.950000</td>\n",
       "    </tr>\n",
       "    <tr>\n",
       "      <th>6</th>\n",
       "      <td>EIRE</td>\n",
       "      <td>21.210526</td>\n",
       "      <td>4.739474</td>\n",
       "    </tr>\n",
       "    <tr>\n",
       "      <th>7</th>\n",
       "      <td>Finland</td>\n",
       "      <td>6.000000</td>\n",
       "      <td>4.950000</td>\n",
       "    </tr>\n",
       "    <tr>\n",
       "      <th>8</th>\n",
       "      <td>France</td>\n",
       "      <td>5.727273</td>\n",
       "      <td>4.922727</td>\n",
       "    </tr>\n",
       "    <tr>\n",
       "      <th>9</th>\n",
       "      <td>Germany</td>\n",
       "      <td>6.800000</td>\n",
       "      <td>4.890000</td>\n",
       "    </tr>\n",
       "    <tr>\n",
       "      <th>10</th>\n",
       "      <td>Israel</td>\n",
       "      <td>1.000000</td>\n",
       "      <td>4.950000</td>\n",
       "    </tr>\n",
       "    <tr>\n",
       "      <th>11</th>\n",
       "      <td>Japan</td>\n",
       "      <td>56.666667</td>\n",
       "      <td>4.183333</td>\n",
       "    </tr>\n",
       "    <tr>\n",
       "      <th>12</th>\n",
       "      <td>Lebanon</td>\n",
       "      <td>15.000000</td>\n",
       "      <td>4.650000</td>\n",
       "    </tr>\n",
       "    <tr>\n",
       "      <th>13</th>\n",
       "      <td>Netherlands</td>\n",
       "      <td>50.000000</td>\n",
       "      <td>4.150000</td>\n",
       "    </tr>\n",
       "    <tr>\n",
       "      <th>14</th>\n",
       "      <td>Norway</td>\n",
       "      <td>6.000000</td>\n",
       "      <td>4.950000</td>\n",
       "    </tr>\n",
       "    <tr>\n",
       "      <th>15</th>\n",
       "      <td>Singapore</td>\n",
       "      <td>8.000000</td>\n",
       "      <td>4.950000</td>\n",
       "    </tr>\n",
       "    <tr>\n",
       "      <th>16</th>\n",
       "      <td>South Africa</td>\n",
       "      <td>4.000000</td>\n",
       "      <td>4.950000</td>\n",
       "    </tr>\n",
       "    <tr>\n",
       "      <th>17</th>\n",
       "      <td>Spain</td>\n",
       "      <td>4.750000</td>\n",
       "      <td>4.837500</td>\n",
       "    </tr>\n",
       "    <tr>\n",
       "      <th>18</th>\n",
       "      <td>Switzerland</td>\n",
       "      <td>17.200000</td>\n",
       "      <td>4.790000</td>\n",
       "    </tr>\n",
       "    <tr>\n",
       "      <th>19</th>\n",
       "      <td>United Kingdom</td>\n",
       "      <td>10.705432</td>\n",
       "      <td>4.880926</td>\n",
       "    </tr>\n",
       "  </tbody>\n",
       "</table>\n",
       "</div>"
      ],
      "text/plain": [
       "            Country   Quantity  UnitPrice\n",
       "0         Australia  33.125000   4.712500\n",
       "1           Austria   8.000000   4.950000\n",
       "2           Belgium   4.000000   4.950000\n",
       "3   Channel Islands  13.333333   4.950000\n",
       "4            Cyprus   2.333333   4.750000\n",
       "5           Denmark  12.000000   4.950000\n",
       "6              EIRE  21.210526   4.739474\n",
       "7           Finland   6.000000   4.950000\n",
       "8            France   5.727273   4.922727\n",
       "9           Germany   6.800000   4.890000\n",
       "10           Israel   1.000000   4.950000\n",
       "11            Japan  56.666667   4.183333\n",
       "12          Lebanon  15.000000   4.650000\n",
       "13      Netherlands  50.000000   4.150000\n",
       "14           Norway   6.000000   4.950000\n",
       "15        Singapore   8.000000   4.950000\n",
       "16     South Africa   4.000000   4.950000\n",
       "17            Spain   4.750000   4.837500\n",
       "18      Switzerland  17.200000   4.790000\n",
       "19   United Kingdom  10.705432   4.880926"
      ]
     },
     "execution_count": 30,
     "metadata": {},
     "output_type": "execute_result"
    }
   ],
   "source": [
    "data_scatter"
   ]
  },
  {
   "cell_type": "code",
   "execution_count": 40,
   "metadata": {},
   "outputs": [
    {
     "data": {
      "application/vnd.plotly.v1+json": {
       "config": {
        "linkText": "Export to plot.ly",
        "plotlyServerURL": "https://plot.ly",
        "showLink": true
       },
       "data": [
        {
         "marker": {
          "color": "rgba(255, 153, 51, 1.0)",
          "line": {
           "width": 1.3
          },
          "opacity": 0.8,
          "size": 12,
          "symbol": "circle"
         },
         "mode": "markers",
         "name": "Australia",
         "textfont": {
          "color": "#4D5663"
         },
         "type": "scatter",
         "x": [
          33.125
         ],
         "y": [
          4.7125
         ]
        },
        {
         "marker": {
          "color": "rgba(55, 128, 191, 1.0)",
          "line": {
           "width": 1.3
          },
          "opacity": 0.8,
          "size": 12,
          "symbol": "circle"
         },
         "mode": "markers",
         "name": "Austria",
         "textfont": {
          "color": "#4D5663"
         },
         "type": "scatter",
         "x": [
          8
         ],
         "y": [
          4.95
         ]
        },
        {
         "marker": {
          "color": "rgba(50, 171, 96, 1.0)",
          "line": {
           "width": 1.3
          },
          "opacity": 0.8,
          "size": 12,
          "symbol": "circle"
         },
         "mode": "markers",
         "name": "Belgium",
         "textfont": {
          "color": "#4D5663"
         },
         "type": "scatter",
         "x": [
          4
         ],
         "y": [
          4.95
         ]
        },
        {
         "marker": {
          "color": "rgba(128, 0, 128, 1.0)",
          "line": {
           "width": 1.3
          },
          "opacity": 0.8,
          "size": 12,
          "symbol": "circle"
         },
         "mode": "markers",
         "name": "Channel Islands",
         "textfont": {
          "color": "#4D5663"
         },
         "type": "scatter",
         "x": [
          13.333333333333334
         ],
         "y": [
          4.95
         ]
        },
        {
         "marker": {
          "color": "rgba(219, 64, 82, 1.0)",
          "line": {
           "width": 1.3
          },
          "opacity": 0.8,
          "size": 12,
          "symbol": "circle"
         },
         "mode": "markers",
         "name": "Cyprus",
         "textfont": {
          "color": "#4D5663"
         },
         "type": "scatter",
         "x": [
          2.3333333333333335
         ],
         "y": [
          4.75
         ]
        },
        {
         "marker": {
          "color": "rgba(0, 128, 128, 1.0)",
          "line": {
           "width": 1.3
          },
          "opacity": 0.8,
          "size": 12,
          "symbol": "circle"
         },
         "mode": "markers",
         "name": "Denmark",
         "textfont": {
          "color": "#4D5663"
         },
         "type": "scatter",
         "x": [
          12
         ],
         "y": [
          4.95
         ]
        },
        {
         "marker": {
          "color": "rgba(255, 255, 51, 1.0)",
          "line": {
           "width": 1.3
          },
          "opacity": 0.8,
          "size": 12,
          "symbol": "circle"
         },
         "mode": "markers",
         "name": "EIRE",
         "textfont": {
          "color": "#4D5663"
         },
         "type": "scatter",
         "x": [
          21.210526315789473
         ],
         "y": [
          4.739473684210527
         ]
        },
        {
         "marker": {
          "color": "rgba(128, 128, 0, 1.0)",
          "line": {
           "width": 1.3
          },
          "opacity": 0.8,
          "size": 12,
          "symbol": "circle"
         },
         "mode": "markers",
         "name": "Finland",
         "textfont": {
          "color": "#4D5663"
         },
         "type": "scatter",
         "x": [
          6
         ],
         "y": [
          4.95
         ]
        },
        {
         "marker": {
          "color": "rgba(251, 128, 114, 1.0)",
          "line": {
           "width": 1.3
          },
          "opacity": 0.8,
          "size": 12,
          "symbol": "circle"
         },
         "mode": "markers",
         "name": "France",
         "textfont": {
          "color": "#4D5663"
         },
         "type": "scatter",
         "x": [
          5.7272727272727275
         ],
         "y": [
          4.922727272727273
         ]
        },
        {
         "marker": {
          "color": "rgba(128, 177, 211, 1.0)",
          "line": {
           "width": 1.3
          },
          "opacity": 0.8,
          "size": 12,
          "symbol": "circle"
         },
         "mode": "markers",
         "name": "Germany",
         "textfont": {
          "color": "#4D5663"
         },
         "type": "scatter",
         "x": [
          6.8
         ],
         "y": [
          4.890000000000001
         ]
        },
        {
         "marker": {
          "color": "rgba(128, 177, 211, 0.8999999999999999)",
          "line": {
           "width": 1.3
          },
          "opacity": 0.8,
          "size": 12,
          "symbol": "circle"
         },
         "mode": "markers",
         "name": "Israel",
         "textfont": {
          "color": "#4D5663"
         },
         "type": "scatter",
         "x": [
          1
         ],
         "y": [
          4.95
         ]
        },
        {
         "marker": {
          "color": "rgba(255, 153, 51, 0.8999999999999999)",
          "line": {
           "width": 1.3
          },
          "opacity": 0.8,
          "size": 12,
          "symbol": "circle"
         },
         "mode": "markers",
         "name": "Japan",
         "textfont": {
          "color": "#4D5663"
         },
         "type": "scatter",
         "x": [
          56.666666666666664
         ],
         "y": [
          4.183333333333334
         ]
        },
        {
         "marker": {
          "color": "rgba(55, 128, 191, 0.8999999999999999)",
          "line": {
           "width": 1.3
          },
          "opacity": 0.8,
          "size": 12,
          "symbol": "circle"
         },
         "mode": "markers",
         "name": "Lebanon",
         "textfont": {
          "color": "#4D5663"
         },
         "type": "scatter",
         "x": [
          15
         ],
         "y": [
          4.65
         ]
        },
        {
         "marker": {
          "color": "rgba(50, 171, 96, 0.8999999999999999)",
          "line": {
           "width": 1.3
          },
          "opacity": 0.8,
          "size": 12,
          "symbol": "circle"
         },
         "mode": "markers",
         "name": "Netherlands",
         "textfont": {
          "color": "#4D5663"
         },
         "type": "scatter",
         "x": [
          50
         ],
         "y": [
          4.15
         ]
        },
        {
         "marker": {
          "color": "rgba(128, 0, 128, 0.8999999999999999)",
          "line": {
           "width": 1.3
          },
          "opacity": 0.8,
          "size": 12,
          "symbol": "circle"
         },
         "mode": "markers",
         "name": "Norway",
         "textfont": {
          "color": "#4D5663"
         },
         "type": "scatter",
         "x": [
          6
         ],
         "y": [
          4.95
         ]
        },
        {
         "marker": {
          "color": "rgba(219, 64, 82, 0.8999999999999999)",
          "line": {
           "width": 1.3
          },
          "opacity": 0.8,
          "size": 12,
          "symbol": "circle"
         },
         "mode": "markers",
         "name": "Singapore",
         "textfont": {
          "color": "#4D5663"
         },
         "type": "scatter",
         "x": [
          8
         ],
         "y": [
          4.95
         ]
        },
        {
         "marker": {
          "color": "rgba(0, 128, 128, 0.8999999999999999)",
          "line": {
           "width": 1.3
          },
          "opacity": 0.8,
          "size": 12,
          "symbol": "circle"
         },
         "mode": "markers",
         "name": "South Africa",
         "textfont": {
          "color": "#4D5663"
         },
         "type": "scatter",
         "x": [
          4
         ],
         "y": [
          4.95
         ]
        },
        {
         "marker": {
          "color": "rgba(255, 255, 51, 0.8999999999999999)",
          "line": {
           "width": 1.3
          },
          "opacity": 0.8,
          "size": 12,
          "symbol": "circle"
         },
         "mode": "markers",
         "name": "Spain",
         "textfont": {
          "color": "#4D5663"
         },
         "type": "scatter",
         "x": [
          4.75
         ],
         "y": [
          4.8375
         ]
        },
        {
         "marker": {
          "color": "rgba(128, 128, 0, 0.8999999999999999)",
          "line": {
           "width": 1.3
          },
          "opacity": 0.8,
          "size": 12,
          "symbol": "circle"
         },
         "mode": "markers",
         "name": "Switzerland",
         "textfont": {
          "color": "#4D5663"
         },
         "type": "scatter",
         "x": [
          17.2
         ],
         "y": [
          4.790000000000001
         ]
        },
        {
         "marker": {
          "color": "rgba(251, 128, 114, 0.8999999999999999)",
          "line": {
           "width": 1.3
          },
          "opacity": 0.8,
          "size": 12,
          "symbol": "circle"
         },
         "mode": "markers",
         "name": "United Kingdom",
         "textfont": {
          "color": "#4D5663"
         },
         "type": "scatter",
         "x": [
          10.705432287681713
         ],
         "y": [
          4.880925784238714
         ]
        }
       ],
       "layout": {
        "legend": {
         "bgcolor": "#F5F6F9",
         "font": {
          "color": "#4D5663"
         }
        },
        "paper_bgcolor": "#F5F6F9",
        "plot_bgcolor": "#F5F6F9",
        "template": {
         "data": {
          "bar": [
           {
            "error_x": {
             "color": "#2a3f5f"
            },
            "error_y": {
             "color": "#2a3f5f"
            },
            "marker": {
             "line": {
              "color": "#E5ECF6",
              "width": 0.5
             },
             "pattern": {
              "fillmode": "overlay",
              "size": 10,
              "solidity": 0.2
             }
            },
            "type": "bar"
           }
          ],
          "barpolar": [
           {
            "marker": {
             "line": {
              "color": "#E5ECF6",
              "width": 0.5
             },
             "pattern": {
              "fillmode": "overlay",
              "size": 10,
              "solidity": 0.2
             }
            },
            "type": "barpolar"
           }
          ],
          "carpet": [
           {
            "aaxis": {
             "endlinecolor": "#2a3f5f",
             "gridcolor": "white",
             "linecolor": "white",
             "minorgridcolor": "white",
             "startlinecolor": "#2a3f5f"
            },
            "baxis": {
             "endlinecolor": "#2a3f5f",
             "gridcolor": "white",
             "linecolor": "white",
             "minorgridcolor": "white",
             "startlinecolor": "#2a3f5f"
            },
            "type": "carpet"
           }
          ],
          "choropleth": [
           {
            "colorbar": {
             "outlinewidth": 0,
             "ticks": ""
            },
            "type": "choropleth"
           }
          ],
          "contour": [
           {
            "colorbar": {
             "outlinewidth": 0,
             "ticks": ""
            },
            "colorscale": [
             [
              0,
              "#0d0887"
             ],
             [
              0.1111111111111111,
              "#46039f"
             ],
             [
              0.2222222222222222,
              "#7201a8"
             ],
             [
              0.3333333333333333,
              "#9c179e"
             ],
             [
              0.4444444444444444,
              "#bd3786"
             ],
             [
              0.5555555555555556,
              "#d8576b"
             ],
             [
              0.6666666666666666,
              "#ed7953"
             ],
             [
              0.7777777777777778,
              "#fb9f3a"
             ],
             [
              0.8888888888888888,
              "#fdca26"
             ],
             [
              1,
              "#f0f921"
             ]
            ],
            "type": "contour"
           }
          ],
          "contourcarpet": [
           {
            "colorbar": {
             "outlinewidth": 0,
             "ticks": ""
            },
            "type": "contourcarpet"
           }
          ],
          "heatmap": [
           {
            "colorbar": {
             "outlinewidth": 0,
             "ticks": ""
            },
            "colorscale": [
             [
              0,
              "#0d0887"
             ],
             [
              0.1111111111111111,
              "#46039f"
             ],
             [
              0.2222222222222222,
              "#7201a8"
             ],
             [
              0.3333333333333333,
              "#9c179e"
             ],
             [
              0.4444444444444444,
              "#bd3786"
             ],
             [
              0.5555555555555556,
              "#d8576b"
             ],
             [
              0.6666666666666666,
              "#ed7953"
             ],
             [
              0.7777777777777778,
              "#fb9f3a"
             ],
             [
              0.8888888888888888,
              "#fdca26"
             ],
             [
              1,
              "#f0f921"
             ]
            ],
            "type": "heatmap"
           }
          ],
          "heatmapgl": [
           {
            "colorbar": {
             "outlinewidth": 0,
             "ticks": ""
            },
            "colorscale": [
             [
              0,
              "#0d0887"
             ],
             [
              0.1111111111111111,
              "#46039f"
             ],
             [
              0.2222222222222222,
              "#7201a8"
             ],
             [
              0.3333333333333333,
              "#9c179e"
             ],
             [
              0.4444444444444444,
              "#bd3786"
             ],
             [
              0.5555555555555556,
              "#d8576b"
             ],
             [
              0.6666666666666666,
              "#ed7953"
             ],
             [
              0.7777777777777778,
              "#fb9f3a"
             ],
             [
              0.8888888888888888,
              "#fdca26"
             ],
             [
              1,
              "#f0f921"
             ]
            ],
            "type": "heatmapgl"
           }
          ],
          "histogram": [
           {
            "marker": {
             "pattern": {
              "fillmode": "overlay",
              "size": 10,
              "solidity": 0.2
             }
            },
            "type": "histogram"
           }
          ],
          "histogram2d": [
           {
            "colorbar": {
             "outlinewidth": 0,
             "ticks": ""
            },
            "colorscale": [
             [
              0,
              "#0d0887"
             ],
             [
              0.1111111111111111,
              "#46039f"
             ],
             [
              0.2222222222222222,
              "#7201a8"
             ],
             [
              0.3333333333333333,
              "#9c179e"
             ],
             [
              0.4444444444444444,
              "#bd3786"
             ],
             [
              0.5555555555555556,
              "#d8576b"
             ],
             [
              0.6666666666666666,
              "#ed7953"
             ],
             [
              0.7777777777777778,
              "#fb9f3a"
             ],
             [
              0.8888888888888888,
              "#fdca26"
             ],
             [
              1,
              "#f0f921"
             ]
            ],
            "type": "histogram2d"
           }
          ],
          "histogram2dcontour": [
           {
            "colorbar": {
             "outlinewidth": 0,
             "ticks": ""
            },
            "colorscale": [
             [
              0,
              "#0d0887"
             ],
             [
              0.1111111111111111,
              "#46039f"
             ],
             [
              0.2222222222222222,
              "#7201a8"
             ],
             [
              0.3333333333333333,
              "#9c179e"
             ],
             [
              0.4444444444444444,
              "#bd3786"
             ],
             [
              0.5555555555555556,
              "#d8576b"
             ],
             [
              0.6666666666666666,
              "#ed7953"
             ],
             [
              0.7777777777777778,
              "#fb9f3a"
             ],
             [
              0.8888888888888888,
              "#fdca26"
             ],
             [
              1,
              "#f0f921"
             ]
            ],
            "type": "histogram2dcontour"
           }
          ],
          "mesh3d": [
           {
            "colorbar": {
             "outlinewidth": 0,
             "ticks": ""
            },
            "type": "mesh3d"
           }
          ],
          "parcoords": [
           {
            "line": {
             "colorbar": {
              "outlinewidth": 0,
              "ticks": ""
             }
            },
            "type": "parcoords"
           }
          ],
          "pie": [
           {
            "automargin": true,
            "type": "pie"
           }
          ],
          "scatter": [
           {
            "marker": {
             "colorbar": {
              "outlinewidth": 0,
              "ticks": ""
             }
            },
            "type": "scatter"
           }
          ],
          "scatter3d": [
           {
            "line": {
             "colorbar": {
              "outlinewidth": 0,
              "ticks": ""
             }
            },
            "marker": {
             "colorbar": {
              "outlinewidth": 0,
              "ticks": ""
             }
            },
            "type": "scatter3d"
           }
          ],
          "scattercarpet": [
           {
            "marker": {
             "colorbar": {
              "outlinewidth": 0,
              "ticks": ""
             }
            },
            "type": "scattercarpet"
           }
          ],
          "scattergeo": [
           {
            "marker": {
             "colorbar": {
              "outlinewidth": 0,
              "ticks": ""
             }
            },
            "type": "scattergeo"
           }
          ],
          "scattergl": [
           {
            "marker": {
             "colorbar": {
              "outlinewidth": 0,
              "ticks": ""
             }
            },
            "type": "scattergl"
           }
          ],
          "scattermapbox": [
           {
            "marker": {
             "colorbar": {
              "outlinewidth": 0,
              "ticks": ""
             }
            },
            "type": "scattermapbox"
           }
          ],
          "scatterpolar": [
           {
            "marker": {
             "colorbar": {
              "outlinewidth": 0,
              "ticks": ""
             }
            },
            "type": "scatterpolar"
           }
          ],
          "scatterpolargl": [
           {
            "marker": {
             "colorbar": {
              "outlinewidth": 0,
              "ticks": ""
             }
            },
            "type": "scatterpolargl"
           }
          ],
          "scatterternary": [
           {
            "marker": {
             "colorbar": {
              "outlinewidth": 0,
              "ticks": ""
             }
            },
            "type": "scatterternary"
           }
          ],
          "surface": [
           {
            "colorbar": {
             "outlinewidth": 0,
             "ticks": ""
            },
            "colorscale": [
             [
              0,
              "#0d0887"
             ],
             [
              0.1111111111111111,
              "#46039f"
             ],
             [
              0.2222222222222222,
              "#7201a8"
             ],
             [
              0.3333333333333333,
              "#9c179e"
             ],
             [
              0.4444444444444444,
              "#bd3786"
             ],
             [
              0.5555555555555556,
              "#d8576b"
             ],
             [
              0.6666666666666666,
              "#ed7953"
             ],
             [
              0.7777777777777778,
              "#fb9f3a"
             ],
             [
              0.8888888888888888,
              "#fdca26"
             ],
             [
              1,
              "#f0f921"
             ]
            ],
            "type": "surface"
           }
          ],
          "table": [
           {
            "cells": {
             "fill": {
              "color": "#EBF0F8"
             },
             "line": {
              "color": "white"
             }
            },
            "header": {
             "fill": {
              "color": "#C8D4E3"
             },
             "line": {
              "color": "white"
             }
            },
            "type": "table"
           }
          ]
         },
         "layout": {
          "annotationdefaults": {
           "arrowcolor": "#2a3f5f",
           "arrowhead": 0,
           "arrowwidth": 1
          },
          "autotypenumbers": "strict",
          "coloraxis": {
           "colorbar": {
            "outlinewidth": 0,
            "ticks": ""
           }
          },
          "colorscale": {
           "diverging": [
            [
             0,
             "#8e0152"
            ],
            [
             0.1,
             "#c51b7d"
            ],
            [
             0.2,
             "#de77ae"
            ],
            [
             0.3,
             "#f1b6da"
            ],
            [
             0.4,
             "#fde0ef"
            ],
            [
             0.5,
             "#f7f7f7"
            ],
            [
             0.6,
             "#e6f5d0"
            ],
            [
             0.7,
             "#b8e186"
            ],
            [
             0.8,
             "#7fbc41"
            ],
            [
             0.9,
             "#4d9221"
            ],
            [
             1,
             "#276419"
            ]
           ],
           "sequential": [
            [
             0,
             "#0d0887"
            ],
            [
             0.1111111111111111,
             "#46039f"
            ],
            [
             0.2222222222222222,
             "#7201a8"
            ],
            [
             0.3333333333333333,
             "#9c179e"
            ],
            [
             0.4444444444444444,
             "#bd3786"
            ],
            [
             0.5555555555555556,
             "#d8576b"
            ],
            [
             0.6666666666666666,
             "#ed7953"
            ],
            [
             0.7777777777777778,
             "#fb9f3a"
            ],
            [
             0.8888888888888888,
             "#fdca26"
            ],
            [
             1,
             "#f0f921"
            ]
           ],
           "sequentialminus": [
            [
             0,
             "#0d0887"
            ],
            [
             0.1111111111111111,
             "#46039f"
            ],
            [
             0.2222222222222222,
             "#7201a8"
            ],
            [
             0.3333333333333333,
             "#9c179e"
            ],
            [
             0.4444444444444444,
             "#bd3786"
            ],
            [
             0.5555555555555556,
             "#d8576b"
            ],
            [
             0.6666666666666666,
             "#ed7953"
            ],
            [
             0.7777777777777778,
             "#fb9f3a"
            ],
            [
             0.8888888888888888,
             "#fdca26"
            ],
            [
             1,
             "#f0f921"
            ]
           ]
          },
          "colorway": [
           "#636efa",
           "#EF553B",
           "#00cc96",
           "#ab63fa",
           "#FFA15A",
           "#19d3f3",
           "#FF6692",
           "#B6E880",
           "#FF97FF",
           "#FECB52"
          ],
          "font": {
           "color": "#2a3f5f"
          },
          "geo": {
           "bgcolor": "white",
           "lakecolor": "white",
           "landcolor": "#E5ECF6",
           "showlakes": true,
           "showland": true,
           "subunitcolor": "white"
          },
          "hoverlabel": {
           "align": "left"
          },
          "hovermode": "closest",
          "mapbox": {
           "style": "light"
          },
          "paper_bgcolor": "white",
          "plot_bgcolor": "#E5ECF6",
          "polar": {
           "angularaxis": {
            "gridcolor": "white",
            "linecolor": "white",
            "ticks": ""
           },
           "bgcolor": "#E5ECF6",
           "radialaxis": {
            "gridcolor": "white",
            "linecolor": "white",
            "ticks": ""
           }
          },
          "scene": {
           "xaxis": {
            "backgroundcolor": "#E5ECF6",
            "gridcolor": "white",
            "gridwidth": 2,
            "linecolor": "white",
            "showbackground": true,
            "ticks": "",
            "zerolinecolor": "white"
           },
           "yaxis": {
            "backgroundcolor": "#E5ECF6",
            "gridcolor": "white",
            "gridwidth": 2,
            "linecolor": "white",
            "showbackground": true,
            "ticks": "",
            "zerolinecolor": "white"
           },
           "zaxis": {
            "backgroundcolor": "#E5ECF6",
            "gridcolor": "white",
            "gridwidth": 2,
            "linecolor": "white",
            "showbackground": true,
            "ticks": "",
            "zerolinecolor": "white"
           }
          },
          "shapedefaults": {
           "line": {
            "color": "#2a3f5f"
           }
          },
          "ternary": {
           "aaxis": {
            "gridcolor": "white",
            "linecolor": "white",
            "ticks": ""
           },
           "baxis": {
            "gridcolor": "white",
            "linecolor": "white",
            "ticks": ""
           },
           "bgcolor": "#E5ECF6",
           "caxis": {
            "gridcolor": "white",
            "linecolor": "white",
            "ticks": ""
           }
          },
          "title": {
           "x": 0.05
          },
          "xaxis": {
           "automargin": true,
           "gridcolor": "white",
           "linecolor": "white",
           "ticks": "",
           "title": {
            "standoff": 15
           },
           "zerolinecolor": "white",
           "zerolinewidth": 2
          },
          "yaxis": {
           "automargin": true,
           "gridcolor": "white",
           "linecolor": "white",
           "ticks": "",
           "title": {
            "standoff": 15
           },
           "zerolinecolor": "white",
           "zerolinewidth": 2
          }
         }
        },
        "title": {
         "font": {
          "color": "#4D5663"
         }
        },
        "xaxis": {
         "gridcolor": "#E1E5ED",
         "showgrid": true,
         "tickfont": {
          "color": "#4D5663"
         },
         "title": {
          "font": {
           "color": "#4D5663"
          },
          "text": ""
         },
         "zerolinecolor": "#E1E5ED"
        },
        "yaxis": {
         "gridcolor": "#E1E5ED",
         "showgrid": true,
         "tickfont": {
          "color": "#4D5663"
         },
         "title": {
          "font": {
           "color": "#4D5663"
          },
          "text": ""
         },
         "zerolinecolor": "#E1E5ED"
        }
       }
      },
      "text/html": [
       "<div>                            <div id=\"b00649b3-876e-4030-9d9c-72e5e5a96263\" class=\"plotly-graph-div\" style=\"height:525px; width:100%;\"></div>            <script type=\"text/javascript\">                require([\"plotly\"], function(Plotly) {                    window.PLOTLYENV=window.PLOTLYENV || {};\n",
       "                    window.PLOTLYENV.BASE_URL='https://plot.ly';                                    if (document.getElementById(\"b00649b3-876e-4030-9d9c-72e5e5a96263\")) {                    Plotly.newPlot(                        \"b00649b3-876e-4030-9d9c-72e5e5a96263\",                        [{\"marker\":{\"color\":\"rgba(255, 153, 51, 1.0)\",\"line\":{\"width\":1.3},\"opacity\":0.8,\"size\":12,\"symbol\":\"circle\"},\"mode\":\"markers\",\"name\":\"Australia\",\"textfont\":{\"color\":\"#4D5663\"},\"type\":\"scatter\",\"x\":[33.125],\"y\":[4.7125]},{\"marker\":{\"color\":\"rgba(55, 128, 191, 1.0)\",\"line\":{\"width\":1.3},\"opacity\":0.8,\"size\":12,\"symbol\":\"circle\"},\"mode\":\"markers\",\"name\":\"Austria\",\"textfont\":{\"color\":\"#4D5663\"},\"type\":\"scatter\",\"x\":[8.0],\"y\":[4.95]},{\"marker\":{\"color\":\"rgba(50, 171, 96, 1.0)\",\"line\":{\"width\":1.3},\"opacity\":0.8,\"size\":12,\"symbol\":\"circle\"},\"mode\":\"markers\",\"name\":\"Belgium\",\"textfont\":{\"color\":\"#4D5663\"},\"type\":\"scatter\",\"x\":[4.0],\"y\":[4.95]},{\"marker\":{\"color\":\"rgba(128, 0, 128, 1.0)\",\"line\":{\"width\":1.3},\"opacity\":0.8,\"size\":12,\"symbol\":\"circle\"},\"mode\":\"markers\",\"name\":\"Channel Islands\",\"textfont\":{\"color\":\"#4D5663\"},\"type\":\"scatter\",\"x\":[13.333333333333334],\"y\":[4.95]},{\"marker\":{\"color\":\"rgba(219, 64, 82, 1.0)\",\"line\":{\"width\":1.3},\"opacity\":0.8,\"size\":12,\"symbol\":\"circle\"},\"mode\":\"markers\",\"name\":\"Cyprus\",\"textfont\":{\"color\":\"#4D5663\"},\"type\":\"scatter\",\"x\":[2.3333333333333335],\"y\":[4.75]},{\"marker\":{\"color\":\"rgba(0, 128, 128, 1.0)\",\"line\":{\"width\":1.3},\"opacity\":0.8,\"size\":12,\"symbol\":\"circle\"},\"mode\":\"markers\",\"name\":\"Denmark\",\"textfont\":{\"color\":\"#4D5663\"},\"type\":\"scatter\",\"x\":[12.0],\"y\":[4.95]},{\"marker\":{\"color\":\"rgba(255, 255, 51, 1.0)\",\"line\":{\"width\":1.3},\"opacity\":0.8,\"size\":12,\"symbol\":\"circle\"},\"mode\":\"markers\",\"name\":\"EIRE\",\"textfont\":{\"color\":\"#4D5663\"},\"type\":\"scatter\",\"x\":[21.210526315789473],\"y\":[4.739473684210527]},{\"marker\":{\"color\":\"rgba(128, 128, 0, 1.0)\",\"line\":{\"width\":1.3},\"opacity\":0.8,\"size\":12,\"symbol\":\"circle\"},\"mode\":\"markers\",\"name\":\"Finland\",\"textfont\":{\"color\":\"#4D5663\"},\"type\":\"scatter\",\"x\":[6.0],\"y\":[4.95]},{\"marker\":{\"color\":\"rgba(251, 128, 114, 1.0)\",\"line\":{\"width\":1.3},\"opacity\":0.8,\"size\":12,\"symbol\":\"circle\"},\"mode\":\"markers\",\"name\":\"France\",\"textfont\":{\"color\":\"#4D5663\"},\"type\":\"scatter\",\"x\":[5.7272727272727275],\"y\":[4.922727272727273]},{\"marker\":{\"color\":\"rgba(128, 177, 211, 1.0)\",\"line\":{\"width\":1.3},\"opacity\":0.8,\"size\":12,\"symbol\":\"circle\"},\"mode\":\"markers\",\"name\":\"Germany\",\"textfont\":{\"color\":\"#4D5663\"},\"type\":\"scatter\",\"x\":[6.8],\"y\":[4.890000000000001]},{\"marker\":{\"color\":\"rgba(128, 177, 211, 0.8999999999999999)\",\"line\":{\"width\":1.3},\"opacity\":0.8,\"size\":12,\"symbol\":\"circle\"},\"mode\":\"markers\",\"name\":\"Israel\",\"textfont\":{\"color\":\"#4D5663\"},\"type\":\"scatter\",\"x\":[1.0],\"y\":[4.95]},{\"marker\":{\"color\":\"rgba(255, 153, 51, 0.8999999999999999)\",\"line\":{\"width\":1.3},\"opacity\":0.8,\"size\":12,\"symbol\":\"circle\"},\"mode\":\"markers\",\"name\":\"Japan\",\"textfont\":{\"color\":\"#4D5663\"},\"type\":\"scatter\",\"x\":[56.666666666666664],\"y\":[4.183333333333334]},{\"marker\":{\"color\":\"rgba(55, 128, 191, 0.8999999999999999)\",\"line\":{\"width\":1.3},\"opacity\":0.8,\"size\":12,\"symbol\":\"circle\"},\"mode\":\"markers\",\"name\":\"Lebanon\",\"textfont\":{\"color\":\"#4D5663\"},\"type\":\"scatter\",\"x\":[15.0],\"y\":[4.65]},{\"marker\":{\"color\":\"rgba(50, 171, 96, 0.8999999999999999)\",\"line\":{\"width\":1.3},\"opacity\":0.8,\"size\":12,\"symbol\":\"circle\"},\"mode\":\"markers\",\"name\":\"Netherlands\",\"textfont\":{\"color\":\"#4D5663\"},\"type\":\"scatter\",\"x\":[50.0],\"y\":[4.15]},{\"marker\":{\"color\":\"rgba(128, 0, 128, 0.8999999999999999)\",\"line\":{\"width\":1.3},\"opacity\":0.8,\"size\":12,\"symbol\":\"circle\"},\"mode\":\"markers\",\"name\":\"Norway\",\"textfont\":{\"color\":\"#4D5663\"},\"type\":\"scatter\",\"x\":[6.0],\"y\":[4.95]},{\"marker\":{\"color\":\"rgba(219, 64, 82, 0.8999999999999999)\",\"line\":{\"width\":1.3},\"opacity\":0.8,\"size\":12,\"symbol\":\"circle\"},\"mode\":\"markers\",\"name\":\"Singapore\",\"textfont\":{\"color\":\"#4D5663\"},\"type\":\"scatter\",\"x\":[8.0],\"y\":[4.95]},{\"marker\":{\"color\":\"rgba(0, 128, 128, 0.8999999999999999)\",\"line\":{\"width\":1.3},\"opacity\":0.8,\"size\":12,\"symbol\":\"circle\"},\"mode\":\"markers\",\"name\":\"South Africa\",\"textfont\":{\"color\":\"#4D5663\"},\"type\":\"scatter\",\"x\":[4.0],\"y\":[4.95]},{\"marker\":{\"color\":\"rgba(255, 255, 51, 0.8999999999999999)\",\"line\":{\"width\":1.3},\"opacity\":0.8,\"size\":12,\"symbol\":\"circle\"},\"mode\":\"markers\",\"name\":\"Spain\",\"textfont\":{\"color\":\"#4D5663\"},\"type\":\"scatter\",\"x\":[4.75],\"y\":[4.8375]},{\"marker\":{\"color\":\"rgba(128, 128, 0, 0.8999999999999999)\",\"line\":{\"width\":1.3},\"opacity\":0.8,\"size\":12,\"symbol\":\"circle\"},\"mode\":\"markers\",\"name\":\"Switzerland\",\"textfont\":{\"color\":\"#4D5663\"},\"type\":\"scatter\",\"x\":[17.2],\"y\":[4.790000000000001]},{\"marker\":{\"color\":\"rgba(251, 128, 114, 0.8999999999999999)\",\"line\":{\"width\":1.3},\"opacity\":0.8,\"size\":12,\"symbol\":\"circle\"},\"mode\":\"markers\",\"name\":\"United Kingdom\",\"textfont\":{\"color\":\"#4D5663\"},\"type\":\"scatter\",\"x\":[10.705432287681713],\"y\":[4.880925784238714]}],                        {\"legend\":{\"bgcolor\":\"#F5F6F9\",\"font\":{\"color\":\"#4D5663\"}},\"paper_bgcolor\":\"#F5F6F9\",\"plot_bgcolor\":\"#F5F6F9\",\"template\":{\"data\":{\"bar\":[{\"error_x\":{\"color\":\"#2a3f5f\"},\"error_y\":{\"color\":\"#2a3f5f\"},\"marker\":{\"line\":{\"color\":\"#E5ECF6\",\"width\":0.5},\"pattern\":{\"fillmode\":\"overlay\",\"size\":10,\"solidity\":0.2}},\"type\":\"bar\"}],\"barpolar\":[{\"marker\":{\"line\":{\"color\":\"#E5ECF6\",\"width\":0.5},\"pattern\":{\"fillmode\":\"overlay\",\"size\":10,\"solidity\":0.2}},\"type\":\"barpolar\"}],\"carpet\":[{\"aaxis\":{\"endlinecolor\":\"#2a3f5f\",\"gridcolor\":\"white\",\"linecolor\":\"white\",\"minorgridcolor\":\"white\",\"startlinecolor\":\"#2a3f5f\"},\"baxis\":{\"endlinecolor\":\"#2a3f5f\",\"gridcolor\":\"white\",\"linecolor\":\"white\",\"minorgridcolor\":\"white\",\"startlinecolor\":\"#2a3f5f\"},\"type\":\"carpet\"}],\"choropleth\":[{\"colorbar\":{\"outlinewidth\":0,\"ticks\":\"\"},\"type\":\"choropleth\"}],\"contour\":[{\"colorbar\":{\"outlinewidth\":0,\"ticks\":\"\"},\"colorscale\":[[0.0,\"#0d0887\"],[0.1111111111111111,\"#46039f\"],[0.2222222222222222,\"#7201a8\"],[0.3333333333333333,\"#9c179e\"],[0.4444444444444444,\"#bd3786\"],[0.5555555555555556,\"#d8576b\"],[0.6666666666666666,\"#ed7953\"],[0.7777777777777778,\"#fb9f3a\"],[0.8888888888888888,\"#fdca26\"],[1.0,\"#f0f921\"]],\"type\":\"contour\"}],\"contourcarpet\":[{\"colorbar\":{\"outlinewidth\":0,\"ticks\":\"\"},\"type\":\"contourcarpet\"}],\"heatmap\":[{\"colorbar\":{\"outlinewidth\":0,\"ticks\":\"\"},\"colorscale\":[[0.0,\"#0d0887\"],[0.1111111111111111,\"#46039f\"],[0.2222222222222222,\"#7201a8\"],[0.3333333333333333,\"#9c179e\"],[0.4444444444444444,\"#bd3786\"],[0.5555555555555556,\"#d8576b\"],[0.6666666666666666,\"#ed7953\"],[0.7777777777777778,\"#fb9f3a\"],[0.8888888888888888,\"#fdca26\"],[1.0,\"#f0f921\"]],\"type\":\"heatmap\"}],\"heatmapgl\":[{\"colorbar\":{\"outlinewidth\":0,\"ticks\":\"\"},\"colorscale\":[[0.0,\"#0d0887\"],[0.1111111111111111,\"#46039f\"],[0.2222222222222222,\"#7201a8\"],[0.3333333333333333,\"#9c179e\"],[0.4444444444444444,\"#bd3786\"],[0.5555555555555556,\"#d8576b\"],[0.6666666666666666,\"#ed7953\"],[0.7777777777777778,\"#fb9f3a\"],[0.8888888888888888,\"#fdca26\"],[1.0,\"#f0f921\"]],\"type\":\"heatmapgl\"}],\"histogram\":[{\"marker\":{\"pattern\":{\"fillmode\":\"overlay\",\"size\":10,\"solidity\":0.2}},\"type\":\"histogram\"}],\"histogram2d\":[{\"colorbar\":{\"outlinewidth\":0,\"ticks\":\"\"},\"colorscale\":[[0.0,\"#0d0887\"],[0.1111111111111111,\"#46039f\"],[0.2222222222222222,\"#7201a8\"],[0.3333333333333333,\"#9c179e\"],[0.4444444444444444,\"#bd3786\"],[0.5555555555555556,\"#d8576b\"],[0.6666666666666666,\"#ed7953\"],[0.7777777777777778,\"#fb9f3a\"],[0.8888888888888888,\"#fdca26\"],[1.0,\"#f0f921\"]],\"type\":\"histogram2d\"}],\"histogram2dcontour\":[{\"colorbar\":{\"outlinewidth\":0,\"ticks\":\"\"},\"colorscale\":[[0.0,\"#0d0887\"],[0.1111111111111111,\"#46039f\"],[0.2222222222222222,\"#7201a8\"],[0.3333333333333333,\"#9c179e\"],[0.4444444444444444,\"#bd3786\"],[0.5555555555555556,\"#d8576b\"],[0.6666666666666666,\"#ed7953\"],[0.7777777777777778,\"#fb9f3a\"],[0.8888888888888888,\"#fdca26\"],[1.0,\"#f0f921\"]],\"type\":\"histogram2dcontour\"}],\"mesh3d\":[{\"colorbar\":{\"outlinewidth\":0,\"ticks\":\"\"},\"type\":\"mesh3d\"}],\"parcoords\":[{\"line\":{\"colorbar\":{\"outlinewidth\":0,\"ticks\":\"\"}},\"type\":\"parcoords\"}],\"pie\":[{\"automargin\":true,\"type\":\"pie\"}],\"scatter\":[{\"marker\":{\"colorbar\":{\"outlinewidth\":0,\"ticks\":\"\"}},\"type\":\"scatter\"}],\"scatter3d\":[{\"line\":{\"colorbar\":{\"outlinewidth\":0,\"ticks\":\"\"}},\"marker\":{\"colorbar\":{\"outlinewidth\":0,\"ticks\":\"\"}},\"type\":\"scatter3d\"}],\"scattercarpet\":[{\"marker\":{\"colorbar\":{\"outlinewidth\":0,\"ticks\":\"\"}},\"type\":\"scattercarpet\"}],\"scattergeo\":[{\"marker\":{\"colorbar\":{\"outlinewidth\":0,\"ticks\":\"\"}},\"type\":\"scattergeo\"}],\"scattergl\":[{\"marker\":{\"colorbar\":{\"outlinewidth\":0,\"ticks\":\"\"}},\"type\":\"scattergl\"}],\"scattermapbox\":[{\"marker\":{\"colorbar\":{\"outlinewidth\":0,\"ticks\":\"\"}},\"type\":\"scattermapbox\"}],\"scatterpolar\":[{\"marker\":{\"colorbar\":{\"outlinewidth\":0,\"ticks\":\"\"}},\"type\":\"scatterpolar\"}],\"scatterpolargl\":[{\"marker\":{\"colorbar\":{\"outlinewidth\":0,\"ticks\":\"\"}},\"type\":\"scatterpolargl\"}],\"scatterternary\":[{\"marker\":{\"colorbar\":{\"outlinewidth\":0,\"ticks\":\"\"}},\"type\":\"scatterternary\"}],\"surface\":[{\"colorbar\":{\"outlinewidth\":0,\"ticks\":\"\"},\"colorscale\":[[0.0,\"#0d0887\"],[0.1111111111111111,\"#46039f\"],[0.2222222222222222,\"#7201a8\"],[0.3333333333333333,\"#9c179e\"],[0.4444444444444444,\"#bd3786\"],[0.5555555555555556,\"#d8576b\"],[0.6666666666666666,\"#ed7953\"],[0.7777777777777778,\"#fb9f3a\"],[0.8888888888888888,\"#fdca26\"],[1.0,\"#f0f921\"]],\"type\":\"surface\"}],\"table\":[{\"cells\":{\"fill\":{\"color\":\"#EBF0F8\"},\"line\":{\"color\":\"white\"}},\"header\":{\"fill\":{\"color\":\"#C8D4E3\"},\"line\":{\"color\":\"white\"}},\"type\":\"table\"}]},\"layout\":{\"annotationdefaults\":{\"arrowcolor\":\"#2a3f5f\",\"arrowhead\":0,\"arrowwidth\":1},\"autotypenumbers\":\"strict\",\"coloraxis\":{\"colorbar\":{\"outlinewidth\":0,\"ticks\":\"\"}},\"colorscale\":{\"diverging\":[[0,\"#8e0152\"],[0.1,\"#c51b7d\"],[0.2,\"#de77ae\"],[0.3,\"#f1b6da\"],[0.4,\"#fde0ef\"],[0.5,\"#f7f7f7\"],[0.6,\"#e6f5d0\"],[0.7,\"#b8e186\"],[0.8,\"#7fbc41\"],[0.9,\"#4d9221\"],[1,\"#276419\"]],\"sequential\":[[0.0,\"#0d0887\"],[0.1111111111111111,\"#46039f\"],[0.2222222222222222,\"#7201a8\"],[0.3333333333333333,\"#9c179e\"],[0.4444444444444444,\"#bd3786\"],[0.5555555555555556,\"#d8576b\"],[0.6666666666666666,\"#ed7953\"],[0.7777777777777778,\"#fb9f3a\"],[0.8888888888888888,\"#fdca26\"],[1.0,\"#f0f921\"]],\"sequentialminus\":[[0.0,\"#0d0887\"],[0.1111111111111111,\"#46039f\"],[0.2222222222222222,\"#7201a8\"],[0.3333333333333333,\"#9c179e\"],[0.4444444444444444,\"#bd3786\"],[0.5555555555555556,\"#d8576b\"],[0.6666666666666666,\"#ed7953\"],[0.7777777777777778,\"#fb9f3a\"],[0.8888888888888888,\"#fdca26\"],[1.0,\"#f0f921\"]]},\"colorway\":[\"#636efa\",\"#EF553B\",\"#00cc96\",\"#ab63fa\",\"#FFA15A\",\"#19d3f3\",\"#FF6692\",\"#B6E880\",\"#FF97FF\",\"#FECB52\"],\"font\":{\"color\":\"#2a3f5f\"},\"geo\":{\"bgcolor\":\"white\",\"lakecolor\":\"white\",\"landcolor\":\"#E5ECF6\",\"showlakes\":true,\"showland\":true,\"subunitcolor\":\"white\"},\"hoverlabel\":{\"align\":\"left\"},\"hovermode\":\"closest\",\"mapbox\":{\"style\":\"light\"},\"paper_bgcolor\":\"white\",\"plot_bgcolor\":\"#E5ECF6\",\"polar\":{\"angularaxis\":{\"gridcolor\":\"white\",\"linecolor\":\"white\",\"ticks\":\"\"},\"bgcolor\":\"#E5ECF6\",\"radialaxis\":{\"gridcolor\":\"white\",\"linecolor\":\"white\",\"ticks\":\"\"}},\"scene\":{\"xaxis\":{\"backgroundcolor\":\"#E5ECF6\",\"gridcolor\":\"white\",\"gridwidth\":2,\"linecolor\":\"white\",\"showbackground\":true,\"ticks\":\"\",\"zerolinecolor\":\"white\"},\"yaxis\":{\"backgroundcolor\":\"#E5ECF6\",\"gridcolor\":\"white\",\"gridwidth\":2,\"linecolor\":\"white\",\"showbackground\":true,\"ticks\":\"\",\"zerolinecolor\":\"white\"},\"zaxis\":{\"backgroundcolor\":\"#E5ECF6\",\"gridcolor\":\"white\",\"gridwidth\":2,\"linecolor\":\"white\",\"showbackground\":true,\"ticks\":\"\",\"zerolinecolor\":\"white\"}},\"shapedefaults\":{\"line\":{\"color\":\"#2a3f5f\"}},\"ternary\":{\"aaxis\":{\"gridcolor\":\"white\",\"linecolor\":\"white\",\"ticks\":\"\"},\"baxis\":{\"gridcolor\":\"white\",\"linecolor\":\"white\",\"ticks\":\"\"},\"bgcolor\":\"#E5ECF6\",\"caxis\":{\"gridcolor\":\"white\",\"linecolor\":\"white\",\"ticks\":\"\"}},\"title\":{\"x\":0.05},\"xaxis\":{\"automargin\":true,\"gridcolor\":\"white\",\"linecolor\":\"white\",\"ticks\":\"\",\"title\":{\"standoff\":15},\"zerolinecolor\":\"white\",\"zerolinewidth\":2},\"yaxis\":{\"automargin\":true,\"gridcolor\":\"white\",\"linecolor\":\"white\",\"ticks\":\"\",\"title\":{\"standoff\":15},\"zerolinecolor\":\"white\",\"zerolinewidth\":2}}},\"title\":{\"font\":{\"color\":\"#4D5663\"}},\"xaxis\":{\"gridcolor\":\"#E1E5ED\",\"showgrid\":true,\"tickfont\":{\"color\":\"#4D5663\"},\"title\":{\"font\":{\"color\":\"#4D5663\"},\"text\":\"\"},\"zerolinecolor\":\"#E1E5ED\"},\"yaxis\":{\"gridcolor\":\"#E1E5ED\",\"showgrid\":true,\"tickfont\":{\"color\":\"#4D5663\"},\"title\":{\"font\":{\"color\":\"#4D5663\"},\"text\":\"\"},\"zerolinecolor\":\"#E1E5ED\"}},                        {\"showLink\": true, \"linkText\": \"Export to plot.ly\", \"plotlyServerURL\": \"https://plot.ly\", \"responsive\": true}                    ).then(function(){\n",
       "                            \n",
       "var gd = document.getElementById('b00649b3-876e-4030-9d9c-72e5e5a96263');\n",
       "var x = new MutationObserver(function (mutations, observer) {{\n",
       "        var display = window.getComputedStyle(gd).display;\n",
       "        if (!display || display === 'none') {{\n",
       "            console.log([gd, 'removed!']);\n",
       "            Plotly.purge(gd);\n",
       "            observer.disconnect();\n",
       "        }}\n",
       "}});\n",
       "\n",
       "// Listen for the removal of the full notebook cells\n",
       "var notebookContainer = gd.closest('#notebook-container');\n",
       "if (notebookContainer) {{\n",
       "    x.observe(notebookContainer, {childList: true});\n",
       "}}\n",
       "\n",
       "// Listen for the clearing of the current output cell\n",
       "var outputEl = gd.closest('.output');\n",
       "if (outputEl) {{\n",
       "    x.observe(outputEl, {childList: true});\n",
       "}}\n",
       "\n",
       "                        })                };                });            </script>        </div>"
      ]
     },
     "metadata": {},
     "output_type": "display_data"
    }
   ],
   "source": [
    "data_scatter.iplot(kind='scatter', \n",
    "                   x='Quantity', \n",
    "                   y='UnitPrice', \n",
    "                   categories='Country')"
   ]
  },
  {
   "cell_type": "markdown",
   "metadata": {},
   "source": [
    "## 4. Create a set of interactive histograms showing the distributions of quantity per invoice for the following countries: EIRE, Germany, France, and Netherlands."
   ]
  },
  {
   "cell_type": "code",
   "execution_count": 56,
   "metadata": {},
   "outputs": [
    {
     "data": {
      "application/vnd.plotly.v1+json": {
       "config": {
        "linkText": "Export to plot.ly",
        "plotlyServerURL": "https://plot.ly",
        "showLink": true
       },
       "data": [
        {
         "histfunc": "count",
         "histnorm": "",
         "marker": {
          "color": "rgba(255, 153, 51, 1.0)",
          "line": {
           "color": "#4D5663",
           "width": 1.3
          }
         },
         "name": "EIRE",
         "opacity": 0.8,
         "orientation": "v",
         "type": "histogram",
         "x": [
          62814152,
          376299837,
          178892885,
          387938743,
          23383100,
          568361554,
          1704139,
          160971258,
          9006575,
          184926756,
          null,
          1010865309,
          null,
          null,
          67571265,
          null,
          26001332,
          48546853,
          null,
          396993322,
          34726520,
          552262,
          12347631,
          11198098,
          1111894,
          58952334,
          9021055,
          null,
          null,
          116490190,
          12241593,
          560445,
          null,
          6162996,
          9532403,
          49303139,
          1124634,
          3393004,
          556060,
          null,
          null,
          40474720,
          17347750,
          2231053,
          545320,
          15053278,
          null,
          4527550,
          null,
          33374798,
          556927,
          561901,
          1660494,
          null,
          541220,
          541220,
          13937422,
          8966471,
          561901,
          3340740,
          15686360,
          null,
          null,
          574874,
          7833572,
          1088150,
          561901,
          1127114,
          541220,
          544690,
          1123802,
          1127114,
          null,
          null,
          571313,
          null,
          null,
          571937,
          null,
          565412,
          null,
          536890,
          null,
          null
         ],
         "xaxis": "x",
         "yaxis": "y"
        },
        {
         "histfunc": "count",
         "histnorm": "",
         "marker": {
          "color": "rgba(55, 128, 191, 1.0)",
          "line": {
           "color": "#4D5663",
           "width": 1.3
          }
         },
         "name": "France",
         "opacity": 0.8,
         "orientation": "v",
         "type": "histogram",
         "x": [
          142016505,
          276518390,
          164985941,
          342729887,
          57600425,
          630110550,
          3446311,
          278663886,
          8301994,
          431542963,
          578277,
          1171189162,
          578541,
          4983312,
          76803848,
          null,
          19541662,
          105903907,
          null,
          458206388,
          51647753,
          4420623,
          15059072,
          5085065,
          null,
          62710168,
          8457826,
          null,
          null,
          71466601,
          6188161,
          null,
          1703268,
          8884602,
          3349316,
          27554279,
          2292612,
          5062222,
          2274990,
          564670,
          null,
          18401053,
          3343951,
          4487010,
          null,
          12301077,
          null,
          null,
          null,
          3895074,
          569097,
          null,
          2791773,
          562207,
          null,
          null,
          539407,
          1652523,
          null,
          1130354,
          557627,
          1158383,
          null,
          null,
          564897,
          1146306,
          null,
          556463,
          null,
          null,
          null,
          null,
          null,
          null,
          null,
          540789,
          null,
          null,
          573153,
          null,
          null,
          null,
          null,
          null
         ],
         "xaxis": "x2",
         "yaxis": "y2"
        },
        {
         "histfunc": "count",
         "histnorm": "",
         "marker": {
          "color": "rgba(50, 171, 96, 1.0)",
          "line": {
           "color": "#4D5663",
           "width": 1.3
          }
         },
         "name": "Germany",
         "opacity": 0.8,
         "orientation": "v",
         "type": "histogram",
         "x": [
          84181437,
          250789148,
          182757384,
          382182925,
          43515220,
          691431312,
          1121414,
          316985366,
          10667438,
          389015827,
          575886,
          1393003665,
          null,
          4466357,
          88990176,
          null,
          35438490,
          110777177,
          3372821,
          462635595,
          102753212,
          2788796,
          19943418,
          15007043,
          null,
          58570020,
          12859574,
          581179,
          1144268,
          83192350,
          10636385,
          null,
          577168,
          17885247,
          2292332,
          11819588,
          2285425,
          2267801,
          null,
          null,
          null,
          10138352,
          12231515,
          564337,
          null,
          4444989,
          2836490,
          5097887,
          null,
          9028032,
          null,
          null,
          null,
          null,
          null,
          null,
          1126516,
          1114826,
          null,
          null,
          null,
          null,
          null,
          null,
          2229507,
          557055,
          null,
          null,
          null,
          null,
          null,
          570082,
          null,
          null,
          null,
          null,
          552978,
          null,
          null,
          null,
          null,
          null,
          null,
          null
         ],
         "xaxis": "x3",
         "yaxis": "y3"
        },
        {
         "histfunc": "count",
         "histnorm": "",
         "marker": {
          "color": "rgba(128, 0, 128, 1.0)",
          "line": {
           "color": "#4D5663",
           "width": 1.3
          }
         },
         "name": "Netherlands",
         "opacity": 0.8,
         "orientation": "v",
         "type": "histogram",
         "x": [
          85081392,
          20422329,
          7924545,
          21757683,
          567795,
          22767895,
          null,
          15678647,
          570191,
          13514924,
          null,
          101500007,
          null,
          null,
          26968607,
          573002,
          4381713,
          9465534,
          null,
          83815626,
          4503371,
          null,
          4996911,
          10694280,
          null,
          28083457,
          12898092,
          null,
          null,
          88159348,
          27241477,
          null,
          null,
          24790172,
          17855688,
          93227142,
          null,
          5102632,
          null,
          null,
          567280,
          125074700,
          119811551,
          7747963,
          null,
          41764117,
          null,
          16289645,
          581338,
          90984785,
          null,
          null,
          2831854,
          null,
          572123,
          1669395,
          31221178,
          39246257,
          null,
          8298208,
          21342737,
          554827,
          5063361,
          null,
          25008118,
          4462430,
          2789363,
          1688549,
          3885916,
          4558543,
          null,
          1131023,
          1129300,
          1117535,
          null,
          1723053,
          null,
          1096022,
          null,
          554642,
          552883,
          1122745,
          572052,
          573003
         ],
         "xaxis": "x4",
         "yaxis": "y4"
        }
       ],
       "layout": {
        "barmode": "overlay",
        "legend": {
         "bgcolor": "#F5F6F9",
         "font": {
          "color": "#4D5663"
         }
        },
        "paper_bgcolor": "#F5F6F9",
        "plot_bgcolor": "#F5F6F9",
        "template": {
         "data": {
          "bar": [
           {
            "error_x": {
             "color": "#2a3f5f"
            },
            "error_y": {
             "color": "#2a3f5f"
            },
            "marker": {
             "line": {
              "color": "#E5ECF6",
              "width": 0.5
             },
             "pattern": {
              "fillmode": "overlay",
              "size": 10,
              "solidity": 0.2
             }
            },
            "type": "bar"
           }
          ],
          "barpolar": [
           {
            "marker": {
             "line": {
              "color": "#E5ECF6",
              "width": 0.5
             },
             "pattern": {
              "fillmode": "overlay",
              "size": 10,
              "solidity": 0.2
             }
            },
            "type": "barpolar"
           }
          ],
          "carpet": [
           {
            "aaxis": {
             "endlinecolor": "#2a3f5f",
             "gridcolor": "white",
             "linecolor": "white",
             "minorgridcolor": "white",
             "startlinecolor": "#2a3f5f"
            },
            "baxis": {
             "endlinecolor": "#2a3f5f",
             "gridcolor": "white",
             "linecolor": "white",
             "minorgridcolor": "white",
             "startlinecolor": "#2a3f5f"
            },
            "type": "carpet"
           }
          ],
          "choropleth": [
           {
            "colorbar": {
             "outlinewidth": 0,
             "ticks": ""
            },
            "type": "choropleth"
           }
          ],
          "contour": [
           {
            "colorbar": {
             "outlinewidth": 0,
             "ticks": ""
            },
            "colorscale": [
             [
              0,
              "#0d0887"
             ],
             [
              0.1111111111111111,
              "#46039f"
             ],
             [
              0.2222222222222222,
              "#7201a8"
             ],
             [
              0.3333333333333333,
              "#9c179e"
             ],
             [
              0.4444444444444444,
              "#bd3786"
             ],
             [
              0.5555555555555556,
              "#d8576b"
             ],
             [
              0.6666666666666666,
              "#ed7953"
             ],
             [
              0.7777777777777778,
              "#fb9f3a"
             ],
             [
              0.8888888888888888,
              "#fdca26"
             ],
             [
              1,
              "#f0f921"
             ]
            ],
            "type": "contour"
           }
          ],
          "contourcarpet": [
           {
            "colorbar": {
             "outlinewidth": 0,
             "ticks": ""
            },
            "type": "contourcarpet"
           }
          ],
          "heatmap": [
           {
            "colorbar": {
             "outlinewidth": 0,
             "ticks": ""
            },
            "colorscale": [
             [
              0,
              "#0d0887"
             ],
             [
              0.1111111111111111,
              "#46039f"
             ],
             [
              0.2222222222222222,
              "#7201a8"
             ],
             [
              0.3333333333333333,
              "#9c179e"
             ],
             [
              0.4444444444444444,
              "#bd3786"
             ],
             [
              0.5555555555555556,
              "#d8576b"
             ],
             [
              0.6666666666666666,
              "#ed7953"
             ],
             [
              0.7777777777777778,
              "#fb9f3a"
             ],
             [
              0.8888888888888888,
              "#fdca26"
             ],
             [
              1,
              "#f0f921"
             ]
            ],
            "type": "heatmap"
           }
          ],
          "heatmapgl": [
           {
            "colorbar": {
             "outlinewidth": 0,
             "ticks": ""
            },
            "colorscale": [
             [
              0,
              "#0d0887"
             ],
             [
              0.1111111111111111,
              "#46039f"
             ],
             [
              0.2222222222222222,
              "#7201a8"
             ],
             [
              0.3333333333333333,
              "#9c179e"
             ],
             [
              0.4444444444444444,
              "#bd3786"
             ],
             [
              0.5555555555555556,
              "#d8576b"
             ],
             [
              0.6666666666666666,
              "#ed7953"
             ],
             [
              0.7777777777777778,
              "#fb9f3a"
             ],
             [
              0.8888888888888888,
              "#fdca26"
             ],
             [
              1,
              "#f0f921"
             ]
            ],
            "type": "heatmapgl"
           }
          ],
          "histogram": [
           {
            "marker": {
             "pattern": {
              "fillmode": "overlay",
              "size": 10,
              "solidity": 0.2
             }
            },
            "type": "histogram"
           }
          ],
          "histogram2d": [
           {
            "colorbar": {
             "outlinewidth": 0,
             "ticks": ""
            },
            "colorscale": [
             [
              0,
              "#0d0887"
             ],
             [
              0.1111111111111111,
              "#46039f"
             ],
             [
              0.2222222222222222,
              "#7201a8"
             ],
             [
              0.3333333333333333,
              "#9c179e"
             ],
             [
              0.4444444444444444,
              "#bd3786"
             ],
             [
              0.5555555555555556,
              "#d8576b"
             ],
             [
              0.6666666666666666,
              "#ed7953"
             ],
             [
              0.7777777777777778,
              "#fb9f3a"
             ],
             [
              0.8888888888888888,
              "#fdca26"
             ],
             [
              1,
              "#f0f921"
             ]
            ],
            "type": "histogram2d"
           }
          ],
          "histogram2dcontour": [
           {
            "colorbar": {
             "outlinewidth": 0,
             "ticks": ""
            },
            "colorscale": [
             [
              0,
              "#0d0887"
             ],
             [
              0.1111111111111111,
              "#46039f"
             ],
             [
              0.2222222222222222,
              "#7201a8"
             ],
             [
              0.3333333333333333,
              "#9c179e"
             ],
             [
              0.4444444444444444,
              "#bd3786"
             ],
             [
              0.5555555555555556,
              "#d8576b"
             ],
             [
              0.6666666666666666,
              "#ed7953"
             ],
             [
              0.7777777777777778,
              "#fb9f3a"
             ],
             [
              0.8888888888888888,
              "#fdca26"
             ],
             [
              1,
              "#f0f921"
             ]
            ],
            "type": "histogram2dcontour"
           }
          ],
          "mesh3d": [
           {
            "colorbar": {
             "outlinewidth": 0,
             "ticks": ""
            },
            "type": "mesh3d"
           }
          ],
          "parcoords": [
           {
            "line": {
             "colorbar": {
              "outlinewidth": 0,
              "ticks": ""
             }
            },
            "type": "parcoords"
           }
          ],
          "pie": [
           {
            "automargin": true,
            "type": "pie"
           }
          ],
          "scatter": [
           {
            "marker": {
             "colorbar": {
              "outlinewidth": 0,
              "ticks": ""
             }
            },
            "type": "scatter"
           }
          ],
          "scatter3d": [
           {
            "line": {
             "colorbar": {
              "outlinewidth": 0,
              "ticks": ""
             }
            },
            "marker": {
             "colorbar": {
              "outlinewidth": 0,
              "ticks": ""
             }
            },
            "type": "scatter3d"
           }
          ],
          "scattercarpet": [
           {
            "marker": {
             "colorbar": {
              "outlinewidth": 0,
              "ticks": ""
             }
            },
            "type": "scattercarpet"
           }
          ],
          "scattergeo": [
           {
            "marker": {
             "colorbar": {
              "outlinewidth": 0,
              "ticks": ""
             }
            },
            "type": "scattergeo"
           }
          ],
          "scattergl": [
           {
            "marker": {
             "colorbar": {
              "outlinewidth": 0,
              "ticks": ""
             }
            },
            "type": "scattergl"
           }
          ],
          "scattermapbox": [
           {
            "marker": {
             "colorbar": {
              "outlinewidth": 0,
              "ticks": ""
             }
            },
            "type": "scattermapbox"
           }
          ],
          "scatterpolar": [
           {
            "marker": {
             "colorbar": {
              "outlinewidth": 0,
              "ticks": ""
             }
            },
            "type": "scatterpolar"
           }
          ],
          "scatterpolargl": [
           {
            "marker": {
             "colorbar": {
              "outlinewidth": 0,
              "ticks": ""
             }
            },
            "type": "scatterpolargl"
           }
          ],
          "scatterternary": [
           {
            "marker": {
             "colorbar": {
              "outlinewidth": 0,
              "ticks": ""
             }
            },
            "type": "scatterternary"
           }
          ],
          "surface": [
           {
            "colorbar": {
             "outlinewidth": 0,
             "ticks": ""
            },
            "colorscale": [
             [
              0,
              "#0d0887"
             ],
             [
              0.1111111111111111,
              "#46039f"
             ],
             [
              0.2222222222222222,
              "#7201a8"
             ],
             [
              0.3333333333333333,
              "#9c179e"
             ],
             [
              0.4444444444444444,
              "#bd3786"
             ],
             [
              0.5555555555555556,
              "#d8576b"
             ],
             [
              0.6666666666666666,
              "#ed7953"
             ],
             [
              0.7777777777777778,
              "#fb9f3a"
             ],
             [
              0.8888888888888888,
              "#fdca26"
             ],
             [
              1,
              "#f0f921"
             ]
            ],
            "type": "surface"
           }
          ],
          "table": [
           {
            "cells": {
             "fill": {
              "color": "#EBF0F8"
             },
             "line": {
              "color": "white"
             }
            },
            "header": {
             "fill": {
              "color": "#C8D4E3"
             },
             "line": {
              "color": "white"
             }
            },
            "type": "table"
           }
          ]
         },
         "layout": {
          "annotationdefaults": {
           "arrowcolor": "#2a3f5f",
           "arrowhead": 0,
           "arrowwidth": 1
          },
          "autotypenumbers": "strict",
          "coloraxis": {
           "colorbar": {
            "outlinewidth": 0,
            "ticks": ""
           }
          },
          "colorscale": {
           "diverging": [
            [
             0,
             "#8e0152"
            ],
            [
             0.1,
             "#c51b7d"
            ],
            [
             0.2,
             "#de77ae"
            ],
            [
             0.3,
             "#f1b6da"
            ],
            [
             0.4,
             "#fde0ef"
            ],
            [
             0.5,
             "#f7f7f7"
            ],
            [
             0.6,
             "#e6f5d0"
            ],
            [
             0.7,
             "#b8e186"
            ],
            [
             0.8,
             "#7fbc41"
            ],
            [
             0.9,
             "#4d9221"
            ],
            [
             1,
             "#276419"
            ]
           ],
           "sequential": [
            [
             0,
             "#0d0887"
            ],
            [
             0.1111111111111111,
             "#46039f"
            ],
            [
             0.2222222222222222,
             "#7201a8"
            ],
            [
             0.3333333333333333,
             "#9c179e"
            ],
            [
             0.4444444444444444,
             "#bd3786"
            ],
            [
             0.5555555555555556,
             "#d8576b"
            ],
            [
             0.6666666666666666,
             "#ed7953"
            ],
            [
             0.7777777777777778,
             "#fb9f3a"
            ],
            [
             0.8888888888888888,
             "#fdca26"
            ],
            [
             1,
             "#f0f921"
            ]
           ],
           "sequentialminus": [
            [
             0,
             "#0d0887"
            ],
            [
             0.1111111111111111,
             "#46039f"
            ],
            [
             0.2222222222222222,
             "#7201a8"
            ],
            [
             0.3333333333333333,
             "#9c179e"
            ],
            [
             0.4444444444444444,
             "#bd3786"
            ],
            [
             0.5555555555555556,
             "#d8576b"
            ],
            [
             0.6666666666666666,
             "#ed7953"
            ],
            [
             0.7777777777777778,
             "#fb9f3a"
            ],
            [
             0.8888888888888888,
             "#fdca26"
            ],
            [
             1,
             "#f0f921"
            ]
           ]
          },
          "colorway": [
           "#636efa",
           "#EF553B",
           "#00cc96",
           "#ab63fa",
           "#FFA15A",
           "#19d3f3",
           "#FF6692",
           "#B6E880",
           "#FF97FF",
           "#FECB52"
          ],
          "font": {
           "color": "#2a3f5f"
          },
          "geo": {
           "bgcolor": "white",
           "lakecolor": "white",
           "landcolor": "#E5ECF6",
           "showlakes": true,
           "showland": true,
           "subunitcolor": "white"
          },
          "hoverlabel": {
           "align": "left"
          },
          "hovermode": "closest",
          "mapbox": {
           "style": "light"
          },
          "paper_bgcolor": "white",
          "plot_bgcolor": "#E5ECF6",
          "polar": {
           "angularaxis": {
            "gridcolor": "white",
            "linecolor": "white",
            "ticks": ""
           },
           "bgcolor": "#E5ECF6",
           "radialaxis": {
            "gridcolor": "white",
            "linecolor": "white",
            "ticks": ""
           }
          },
          "scene": {
           "xaxis": {
            "backgroundcolor": "#E5ECF6",
            "gridcolor": "white",
            "gridwidth": 2,
            "linecolor": "white",
            "showbackground": true,
            "ticks": "",
            "zerolinecolor": "white"
           },
           "yaxis": {
            "backgroundcolor": "#E5ECF6",
            "gridcolor": "white",
            "gridwidth": 2,
            "linecolor": "white",
            "showbackground": true,
            "ticks": "",
            "zerolinecolor": "white"
           },
           "zaxis": {
            "backgroundcolor": "#E5ECF6",
            "gridcolor": "white",
            "gridwidth": 2,
            "linecolor": "white",
            "showbackground": true,
            "ticks": "",
            "zerolinecolor": "white"
           }
          },
          "shapedefaults": {
           "line": {
            "color": "#2a3f5f"
           }
          },
          "ternary": {
           "aaxis": {
            "gridcolor": "white",
            "linecolor": "white",
            "ticks": ""
           },
           "baxis": {
            "gridcolor": "white",
            "linecolor": "white",
            "ticks": ""
           },
           "bgcolor": "#E5ECF6",
           "caxis": {
            "gridcolor": "white",
            "linecolor": "white",
            "ticks": ""
           }
          },
          "title": {
           "x": 0.05
          },
          "xaxis": {
           "automargin": true,
           "gridcolor": "white",
           "linecolor": "white",
           "ticks": "",
           "title": {
            "standoff": 15
           },
           "zerolinecolor": "white",
           "zerolinewidth": 2
          },
          "yaxis": {
           "automargin": true,
           "gridcolor": "white",
           "linecolor": "white",
           "ticks": "",
           "title": {
            "standoff": 15
           },
           "zerolinecolor": "white",
           "zerolinewidth": 2
          }
         }
        },
        "title": {
         "font": {
          "color": "#4D5663"
         }
        },
        "xaxis": {
         "anchor": "y",
         "domain": [
          0,
          0.45
         ],
         "gridcolor": "#E1E5ED",
         "showgrid": true,
         "tickfont": {
          "color": "#4D5663"
         },
         "title": {
          "font": {
           "color": "#4D5663"
          },
          "text": ""
         },
         "zerolinecolor": "#E1E5ED"
        },
        "xaxis2": {
         "anchor": "y2",
         "domain": [
          0.55,
          1
         ],
         "gridcolor": "#E1E5ED",
         "showgrid": true,
         "tickfont": {
          "color": "#4D5663"
         },
         "title": {
          "font": {
           "color": "#4D5663"
          },
          "text": ""
         },
         "zerolinecolor": "#E1E5ED"
        },
        "xaxis3": {
         "anchor": "y3",
         "domain": [
          0,
          0.45
         ],
         "gridcolor": "#E1E5ED",
         "showgrid": true,
         "tickfont": {
          "color": "#4D5663"
         },
         "title": {
          "font": {
           "color": "#4D5663"
          },
          "text": ""
         },
         "zerolinecolor": "#E1E5ED"
        },
        "xaxis4": {
         "anchor": "y4",
         "domain": [
          0.55,
          1
         ],
         "gridcolor": "#E1E5ED",
         "showgrid": true,
         "tickfont": {
          "color": "#4D5663"
         },
         "title": {
          "font": {
           "color": "#4D5663"
          },
          "text": ""
         },
         "zerolinecolor": "#E1E5ED"
        },
        "yaxis": {
         "anchor": "x",
         "domain": [
          0.575,
          1
         ],
         "gridcolor": "#E1E5ED",
         "showgrid": true,
         "tickfont": {
          "color": "#4D5663"
         },
         "title": {
          "font": {
           "color": "#4D5663"
          },
          "text": ""
         },
         "zerolinecolor": "#E1E5ED"
        },
        "yaxis2": {
         "anchor": "x2",
         "domain": [
          0.575,
          1
         ],
         "gridcolor": "#E1E5ED",
         "showgrid": true,
         "tickfont": {
          "color": "#4D5663"
         },
         "title": {
          "font": {
           "color": "#4D5663"
          },
          "text": ""
         },
         "zerolinecolor": "#E1E5ED"
        },
        "yaxis3": {
         "anchor": "x3",
         "domain": [
          0,
          0.425
         ],
         "gridcolor": "#E1E5ED",
         "showgrid": true,
         "tickfont": {
          "color": "#4D5663"
         },
         "title": {
          "font": {
           "color": "#4D5663"
          },
          "text": ""
         },
         "zerolinecolor": "#E1E5ED"
        },
        "yaxis4": {
         "anchor": "x4",
         "domain": [
          0,
          0.425
         ],
         "gridcolor": "#E1E5ED",
         "showgrid": true,
         "tickfont": {
          "color": "#4D5663"
         },
         "title": {
          "font": {
           "color": "#4D5663"
          },
          "text": ""
         },
         "zerolinecolor": "#E1E5ED"
        }
       }
      },
      "text/html": [
       "<div>                            <div id=\"0c3249d0-33a8-4ac9-b0d6-b41fabc6c740\" class=\"plotly-graph-div\" style=\"height:525px; width:100%;\"></div>            <script type=\"text/javascript\">                require([\"plotly\"], function(Plotly) {                    window.PLOTLYENV=window.PLOTLYENV || {};\n",
       "                    window.PLOTLYENV.BASE_URL='https://plot.ly';                                    if (document.getElementById(\"0c3249d0-33a8-4ac9-b0d6-b41fabc6c740\")) {                    Plotly.newPlot(                        \"0c3249d0-33a8-4ac9-b0d6-b41fabc6c740\",                        [{\"histfunc\":\"count\",\"histnorm\":\"\",\"marker\":{\"color\":\"rgba(255, 153, 51, 1.0)\",\"line\":{\"color\":\"#4D5663\",\"width\":1.3}},\"name\":\"EIRE\",\"opacity\":0.8,\"orientation\":\"v\",\"type\":\"histogram\",\"x\":[62814152.0,376299837.0,178892885.0,387938743.0,23383100.0,568361554.0,1704139.0,160971258.0,9006575.0,184926756.0,null,1010865309.0,null,null,67571265.0,null,26001332.0,48546853.0,null,396993322.0,34726520.0,552262.0,12347631.0,11198098.0,1111894.0,58952334.0,9021055.0,null,null,116490190.0,12241593.0,560445.0,null,6162996.0,9532403.0,49303139.0,1124634.0,3393004.0,556060.0,null,null,40474720.0,17347750.0,2231053.0,545320.0,15053278.0,null,4527550.0,null,33374798.0,556927.0,561901.0,1660494.0,null,541220.0,541220.0,13937422.0,8966471.0,561901.0,3340740.0,15686360.0,null,null,574874.0,7833572.0,1088150.0,561901.0,1127114.0,541220.0,544690.0,1123802.0,1127114.0,null,null,571313.0,null,null,571937.0,null,565412.0,null,536890.0,null,null],\"xaxis\":\"x\",\"yaxis\":\"y\"},{\"histfunc\":\"count\",\"histnorm\":\"\",\"marker\":{\"color\":\"rgba(55, 128, 191, 1.0)\",\"line\":{\"color\":\"#4D5663\",\"width\":1.3}},\"name\":\"France\",\"opacity\":0.8,\"orientation\":\"v\",\"type\":\"histogram\",\"x\":[142016505.0,276518390.0,164985941.0,342729887.0,57600425.0,630110550.0,3446311.0,278663886.0,8301994.0,431542963.0,578277.0,1171189162.0,578541.0,4983312.0,76803848.0,null,19541662.0,105903907.0,null,458206388.0,51647753.0,4420623.0,15059072.0,5085065.0,null,62710168.0,8457826.0,null,null,71466601.0,6188161.0,null,1703268.0,8884602.0,3349316.0,27554279.0,2292612.0,5062222.0,2274990.0,564670.0,null,18401053.0,3343951.0,4487010.0,null,12301077.0,null,null,null,3895074.0,569097.0,null,2791773.0,562207.0,null,null,539407.0,1652523.0,null,1130354.0,557627.0,1158383.0,null,null,564897.0,1146306.0,null,556463.0,null,null,null,null,null,null,null,540789.0,null,null,573153.0,null,null,null,null,null],\"xaxis\":\"x2\",\"yaxis\":\"y2\"},{\"histfunc\":\"count\",\"histnorm\":\"\",\"marker\":{\"color\":\"rgba(50, 171, 96, 1.0)\",\"line\":{\"color\":\"#4D5663\",\"width\":1.3}},\"name\":\"Germany\",\"opacity\":0.8,\"orientation\":\"v\",\"type\":\"histogram\",\"x\":[84181437.0,250789148.0,182757384.0,382182925.0,43515220.0,691431312.0,1121414.0,316985366.0,10667438.0,389015827.0,575886.0,1393003665.0,null,4466357.0,88990176.0,null,35438490.0,110777177.0,3372821.0,462635595.0,102753212.0,2788796.0,19943418.0,15007043.0,null,58570020.0,12859574.0,581179.0,1144268.0,83192350.0,10636385.0,null,577168.0,17885247.0,2292332.0,11819588.0,2285425.0,2267801.0,null,null,null,10138352.0,12231515.0,564337.0,null,4444989.0,2836490.0,5097887.0,null,9028032.0,null,null,null,null,null,null,1126516.0,1114826.0,null,null,null,null,null,null,2229507.0,557055.0,null,null,null,null,null,570082.0,null,null,null,null,552978.0,null,null,null,null,null,null,null],\"xaxis\":\"x3\",\"yaxis\":\"y3\"},{\"histfunc\":\"count\",\"histnorm\":\"\",\"marker\":{\"color\":\"rgba(128, 0, 128, 1.0)\",\"line\":{\"color\":\"#4D5663\",\"width\":1.3}},\"name\":\"Netherlands\",\"opacity\":0.8,\"orientation\":\"v\",\"type\":\"histogram\",\"x\":[85081392.0,20422329.0,7924545.0,21757683.0,567795.0,22767895.0,null,15678647.0,570191.0,13514924.0,null,101500007.0,null,null,26968607.0,573002.0,4381713.0,9465534.0,null,83815626.0,4503371.0,null,4996911.0,10694280.0,null,28083457.0,12898092.0,null,null,88159348.0,27241477.0,null,null,24790172.0,17855688.0,93227142.0,null,5102632.0,null,null,567280.0,125074700.0,119811551.0,7747963.0,null,41764117.0,null,16289645.0,581338.0,90984785.0,null,null,2831854.0,null,572123.0,1669395.0,31221178.0,39246257.0,null,8298208.0,21342737.0,554827.0,5063361.0,null,25008118.0,4462430.0,2789363.0,1688549.0,3885916.0,4558543.0,null,1131023.0,1129300.0,1117535.0,null,1723053.0,null,1096022.0,null,554642.0,552883.0,1122745.0,572052.0,573003.0],\"xaxis\":\"x4\",\"yaxis\":\"y4\"}],                        {\"barmode\":\"overlay\",\"legend\":{\"bgcolor\":\"#F5F6F9\",\"font\":{\"color\":\"#4D5663\"}},\"paper_bgcolor\":\"#F5F6F9\",\"plot_bgcolor\":\"#F5F6F9\",\"template\":{\"data\":{\"bar\":[{\"error_x\":{\"color\":\"#2a3f5f\"},\"error_y\":{\"color\":\"#2a3f5f\"},\"marker\":{\"line\":{\"color\":\"#E5ECF6\",\"width\":0.5},\"pattern\":{\"fillmode\":\"overlay\",\"size\":10,\"solidity\":0.2}},\"type\":\"bar\"}],\"barpolar\":[{\"marker\":{\"line\":{\"color\":\"#E5ECF6\",\"width\":0.5},\"pattern\":{\"fillmode\":\"overlay\",\"size\":10,\"solidity\":0.2}},\"type\":\"barpolar\"}],\"carpet\":[{\"aaxis\":{\"endlinecolor\":\"#2a3f5f\",\"gridcolor\":\"white\",\"linecolor\":\"white\",\"minorgridcolor\":\"white\",\"startlinecolor\":\"#2a3f5f\"},\"baxis\":{\"endlinecolor\":\"#2a3f5f\",\"gridcolor\":\"white\",\"linecolor\":\"white\",\"minorgridcolor\":\"white\",\"startlinecolor\":\"#2a3f5f\"},\"type\":\"carpet\"}],\"choropleth\":[{\"colorbar\":{\"outlinewidth\":0,\"ticks\":\"\"},\"type\":\"choropleth\"}],\"contour\":[{\"colorbar\":{\"outlinewidth\":0,\"ticks\":\"\"},\"colorscale\":[[0.0,\"#0d0887\"],[0.1111111111111111,\"#46039f\"],[0.2222222222222222,\"#7201a8\"],[0.3333333333333333,\"#9c179e\"],[0.4444444444444444,\"#bd3786\"],[0.5555555555555556,\"#d8576b\"],[0.6666666666666666,\"#ed7953\"],[0.7777777777777778,\"#fb9f3a\"],[0.8888888888888888,\"#fdca26\"],[1.0,\"#f0f921\"]],\"type\":\"contour\"}],\"contourcarpet\":[{\"colorbar\":{\"outlinewidth\":0,\"ticks\":\"\"},\"type\":\"contourcarpet\"}],\"heatmap\":[{\"colorbar\":{\"outlinewidth\":0,\"ticks\":\"\"},\"colorscale\":[[0.0,\"#0d0887\"],[0.1111111111111111,\"#46039f\"],[0.2222222222222222,\"#7201a8\"],[0.3333333333333333,\"#9c179e\"],[0.4444444444444444,\"#bd3786\"],[0.5555555555555556,\"#d8576b\"],[0.6666666666666666,\"#ed7953\"],[0.7777777777777778,\"#fb9f3a\"],[0.8888888888888888,\"#fdca26\"],[1.0,\"#f0f921\"]],\"type\":\"heatmap\"}],\"heatmapgl\":[{\"colorbar\":{\"outlinewidth\":0,\"ticks\":\"\"},\"colorscale\":[[0.0,\"#0d0887\"],[0.1111111111111111,\"#46039f\"],[0.2222222222222222,\"#7201a8\"],[0.3333333333333333,\"#9c179e\"],[0.4444444444444444,\"#bd3786\"],[0.5555555555555556,\"#d8576b\"],[0.6666666666666666,\"#ed7953\"],[0.7777777777777778,\"#fb9f3a\"],[0.8888888888888888,\"#fdca26\"],[1.0,\"#f0f921\"]],\"type\":\"heatmapgl\"}],\"histogram\":[{\"marker\":{\"pattern\":{\"fillmode\":\"overlay\",\"size\":10,\"solidity\":0.2}},\"type\":\"histogram\"}],\"histogram2d\":[{\"colorbar\":{\"outlinewidth\":0,\"ticks\":\"\"},\"colorscale\":[[0.0,\"#0d0887\"],[0.1111111111111111,\"#46039f\"],[0.2222222222222222,\"#7201a8\"],[0.3333333333333333,\"#9c179e\"],[0.4444444444444444,\"#bd3786\"],[0.5555555555555556,\"#d8576b\"],[0.6666666666666666,\"#ed7953\"],[0.7777777777777778,\"#fb9f3a\"],[0.8888888888888888,\"#fdca26\"],[1.0,\"#f0f921\"]],\"type\":\"histogram2d\"}],\"histogram2dcontour\":[{\"colorbar\":{\"outlinewidth\":0,\"ticks\":\"\"},\"colorscale\":[[0.0,\"#0d0887\"],[0.1111111111111111,\"#46039f\"],[0.2222222222222222,\"#7201a8\"],[0.3333333333333333,\"#9c179e\"],[0.4444444444444444,\"#bd3786\"],[0.5555555555555556,\"#d8576b\"],[0.6666666666666666,\"#ed7953\"],[0.7777777777777778,\"#fb9f3a\"],[0.8888888888888888,\"#fdca26\"],[1.0,\"#f0f921\"]],\"type\":\"histogram2dcontour\"}],\"mesh3d\":[{\"colorbar\":{\"outlinewidth\":0,\"ticks\":\"\"},\"type\":\"mesh3d\"}],\"parcoords\":[{\"line\":{\"colorbar\":{\"outlinewidth\":0,\"ticks\":\"\"}},\"type\":\"parcoords\"}],\"pie\":[{\"automargin\":true,\"type\":\"pie\"}],\"scatter\":[{\"marker\":{\"colorbar\":{\"outlinewidth\":0,\"ticks\":\"\"}},\"type\":\"scatter\"}],\"scatter3d\":[{\"line\":{\"colorbar\":{\"outlinewidth\":0,\"ticks\":\"\"}},\"marker\":{\"colorbar\":{\"outlinewidth\":0,\"ticks\":\"\"}},\"type\":\"scatter3d\"}],\"scattercarpet\":[{\"marker\":{\"colorbar\":{\"outlinewidth\":0,\"ticks\":\"\"}},\"type\":\"scattercarpet\"}],\"scattergeo\":[{\"marker\":{\"colorbar\":{\"outlinewidth\":0,\"ticks\":\"\"}},\"type\":\"scattergeo\"}],\"scattergl\":[{\"marker\":{\"colorbar\":{\"outlinewidth\":0,\"ticks\":\"\"}},\"type\":\"scattergl\"}],\"scattermapbox\":[{\"marker\":{\"colorbar\":{\"outlinewidth\":0,\"ticks\":\"\"}},\"type\":\"scattermapbox\"}],\"scatterpolar\":[{\"marker\":{\"colorbar\":{\"outlinewidth\":0,\"ticks\":\"\"}},\"type\":\"scatterpolar\"}],\"scatterpolargl\":[{\"marker\":{\"colorbar\":{\"outlinewidth\":0,\"ticks\":\"\"}},\"type\":\"scatterpolargl\"}],\"scatterternary\":[{\"marker\":{\"colorbar\":{\"outlinewidth\":0,\"ticks\":\"\"}},\"type\":\"scatterternary\"}],\"surface\":[{\"colorbar\":{\"outlinewidth\":0,\"ticks\":\"\"},\"colorscale\":[[0.0,\"#0d0887\"],[0.1111111111111111,\"#46039f\"],[0.2222222222222222,\"#7201a8\"],[0.3333333333333333,\"#9c179e\"],[0.4444444444444444,\"#bd3786\"],[0.5555555555555556,\"#d8576b\"],[0.6666666666666666,\"#ed7953\"],[0.7777777777777778,\"#fb9f3a\"],[0.8888888888888888,\"#fdca26\"],[1.0,\"#f0f921\"]],\"type\":\"surface\"}],\"table\":[{\"cells\":{\"fill\":{\"color\":\"#EBF0F8\"},\"line\":{\"color\":\"white\"}},\"header\":{\"fill\":{\"color\":\"#C8D4E3\"},\"line\":{\"color\":\"white\"}},\"type\":\"table\"}]},\"layout\":{\"annotationdefaults\":{\"arrowcolor\":\"#2a3f5f\",\"arrowhead\":0,\"arrowwidth\":1},\"autotypenumbers\":\"strict\",\"coloraxis\":{\"colorbar\":{\"outlinewidth\":0,\"ticks\":\"\"}},\"colorscale\":{\"diverging\":[[0,\"#8e0152\"],[0.1,\"#c51b7d\"],[0.2,\"#de77ae\"],[0.3,\"#f1b6da\"],[0.4,\"#fde0ef\"],[0.5,\"#f7f7f7\"],[0.6,\"#e6f5d0\"],[0.7,\"#b8e186\"],[0.8,\"#7fbc41\"],[0.9,\"#4d9221\"],[1,\"#276419\"]],\"sequential\":[[0.0,\"#0d0887\"],[0.1111111111111111,\"#46039f\"],[0.2222222222222222,\"#7201a8\"],[0.3333333333333333,\"#9c179e\"],[0.4444444444444444,\"#bd3786\"],[0.5555555555555556,\"#d8576b\"],[0.6666666666666666,\"#ed7953\"],[0.7777777777777778,\"#fb9f3a\"],[0.8888888888888888,\"#fdca26\"],[1.0,\"#f0f921\"]],\"sequentialminus\":[[0.0,\"#0d0887\"],[0.1111111111111111,\"#46039f\"],[0.2222222222222222,\"#7201a8\"],[0.3333333333333333,\"#9c179e\"],[0.4444444444444444,\"#bd3786\"],[0.5555555555555556,\"#d8576b\"],[0.6666666666666666,\"#ed7953\"],[0.7777777777777778,\"#fb9f3a\"],[0.8888888888888888,\"#fdca26\"],[1.0,\"#f0f921\"]]},\"colorway\":[\"#636efa\",\"#EF553B\",\"#00cc96\",\"#ab63fa\",\"#FFA15A\",\"#19d3f3\",\"#FF6692\",\"#B6E880\",\"#FF97FF\",\"#FECB52\"],\"font\":{\"color\":\"#2a3f5f\"},\"geo\":{\"bgcolor\":\"white\",\"lakecolor\":\"white\",\"landcolor\":\"#E5ECF6\",\"showlakes\":true,\"showland\":true,\"subunitcolor\":\"white\"},\"hoverlabel\":{\"align\":\"left\"},\"hovermode\":\"closest\",\"mapbox\":{\"style\":\"light\"},\"paper_bgcolor\":\"white\",\"plot_bgcolor\":\"#E5ECF6\",\"polar\":{\"angularaxis\":{\"gridcolor\":\"white\",\"linecolor\":\"white\",\"ticks\":\"\"},\"bgcolor\":\"#E5ECF6\",\"radialaxis\":{\"gridcolor\":\"white\",\"linecolor\":\"white\",\"ticks\":\"\"}},\"scene\":{\"xaxis\":{\"backgroundcolor\":\"#E5ECF6\",\"gridcolor\":\"white\",\"gridwidth\":2,\"linecolor\":\"white\",\"showbackground\":true,\"ticks\":\"\",\"zerolinecolor\":\"white\"},\"yaxis\":{\"backgroundcolor\":\"#E5ECF6\",\"gridcolor\":\"white\",\"gridwidth\":2,\"linecolor\":\"white\",\"showbackground\":true,\"ticks\":\"\",\"zerolinecolor\":\"white\"},\"zaxis\":{\"backgroundcolor\":\"#E5ECF6\",\"gridcolor\":\"white\",\"gridwidth\":2,\"linecolor\":\"white\",\"showbackground\":true,\"ticks\":\"\",\"zerolinecolor\":\"white\"}},\"shapedefaults\":{\"line\":{\"color\":\"#2a3f5f\"}},\"ternary\":{\"aaxis\":{\"gridcolor\":\"white\",\"linecolor\":\"white\",\"ticks\":\"\"},\"baxis\":{\"gridcolor\":\"white\",\"linecolor\":\"white\",\"ticks\":\"\"},\"bgcolor\":\"#E5ECF6\",\"caxis\":{\"gridcolor\":\"white\",\"linecolor\":\"white\",\"ticks\":\"\"}},\"title\":{\"x\":0.05},\"xaxis\":{\"automargin\":true,\"gridcolor\":\"white\",\"linecolor\":\"white\",\"ticks\":\"\",\"title\":{\"standoff\":15},\"zerolinecolor\":\"white\",\"zerolinewidth\":2},\"yaxis\":{\"automargin\":true,\"gridcolor\":\"white\",\"linecolor\":\"white\",\"ticks\":\"\",\"title\":{\"standoff\":15},\"zerolinecolor\":\"white\",\"zerolinewidth\":2}}},\"title\":{\"font\":{\"color\":\"#4D5663\"}},\"xaxis\":{\"anchor\":\"y\",\"domain\":[0.0,0.45],\"gridcolor\":\"#E1E5ED\",\"showgrid\":true,\"tickfont\":{\"color\":\"#4D5663\"},\"title\":{\"font\":{\"color\":\"#4D5663\"},\"text\":\"\"},\"zerolinecolor\":\"#E1E5ED\"},\"xaxis2\":{\"anchor\":\"y2\",\"domain\":[0.55,1.0],\"gridcolor\":\"#E1E5ED\",\"showgrid\":true,\"tickfont\":{\"color\":\"#4D5663\"},\"title\":{\"font\":{\"color\":\"#4D5663\"},\"text\":\"\"},\"zerolinecolor\":\"#E1E5ED\"},\"xaxis3\":{\"anchor\":\"y3\",\"domain\":[0.0,0.45],\"gridcolor\":\"#E1E5ED\",\"showgrid\":true,\"tickfont\":{\"color\":\"#4D5663\"},\"title\":{\"font\":{\"color\":\"#4D5663\"},\"text\":\"\"},\"zerolinecolor\":\"#E1E5ED\"},\"xaxis4\":{\"anchor\":\"y4\",\"domain\":[0.55,1.0],\"gridcolor\":\"#E1E5ED\",\"showgrid\":true,\"tickfont\":{\"color\":\"#4D5663\"},\"title\":{\"font\":{\"color\":\"#4D5663\"},\"text\":\"\"},\"zerolinecolor\":\"#E1E5ED\"},\"yaxis\":{\"anchor\":\"x\",\"domain\":[0.575,1.0],\"gridcolor\":\"#E1E5ED\",\"showgrid\":true,\"tickfont\":{\"color\":\"#4D5663\"},\"title\":{\"font\":{\"color\":\"#4D5663\"},\"text\":\"\"},\"zerolinecolor\":\"#E1E5ED\"},\"yaxis2\":{\"anchor\":\"x2\",\"domain\":[0.575,1.0],\"gridcolor\":\"#E1E5ED\",\"showgrid\":true,\"tickfont\":{\"color\":\"#4D5663\"},\"title\":{\"font\":{\"color\":\"#4D5663\"},\"text\":\"\"},\"zerolinecolor\":\"#E1E5ED\"},\"yaxis3\":{\"anchor\":\"x3\",\"domain\":[0.0,0.425],\"gridcolor\":\"#E1E5ED\",\"showgrid\":true,\"tickfont\":{\"color\":\"#4D5663\"},\"title\":{\"font\":{\"color\":\"#4D5663\"},\"text\":\"\"},\"zerolinecolor\":\"#E1E5ED\"},\"yaxis4\":{\"anchor\":\"x4\",\"domain\":[0.0,0.425],\"gridcolor\":\"#E1E5ED\",\"showgrid\":true,\"tickfont\":{\"color\":\"#4D5663\"},\"title\":{\"font\":{\"color\":\"#4D5663\"},\"text\":\"\"},\"zerolinecolor\":\"#E1E5ED\"}},                        {\"showLink\": true, \"linkText\": \"Export to plot.ly\", \"plotlyServerURL\": \"https://plot.ly\", \"responsive\": true}                    ).then(function(){\n",
       "                            \n",
       "var gd = document.getElementById('0c3249d0-33a8-4ac9-b0d6-b41fabc6c740');\n",
       "var x = new MutationObserver(function (mutations, observer) {{\n",
       "        var display = window.getComputedStyle(gd).display;\n",
       "        if (!display || display === 'none') {{\n",
       "            console.log([gd, 'removed!']);\n",
       "            Plotly.purge(gd);\n",
       "            observer.disconnect();\n",
       "        }}\n",
       "}});\n",
       "\n",
       "// Listen for the removal of the full notebook cells\n",
       "var notebookContainer = gd.closest('#notebook-container');\n",
       "if (notebookContainer) {{\n",
       "    x.observe(notebookContainer, {childList: true});\n",
       "}}\n",
       "\n",
       "// Listen for the clearing of the current output cell\n",
       "var outputEl = gd.closest('.output');\n",
       "if (outputEl) {{\n",
       "    x.observe(outputEl, {childList: true});\n",
       "}}\n",
       "\n",
       "                        })                };                });            </script>        </div>"
      ]
     },
     "metadata": {},
     "output_type": "display_data"
    }
   ],
   "source": [
    "country_list= ['EIRE', 'Germany', 'France', 'Netherlands']\n",
    "data[data['Country'].isin(list_countries)].pivot_table(values = 'InvoiceNo',index= 'Quantity', columns= 'Country',aggfunc= 'sum').iplot(kind='hist', subplots=True)\n"
   ]
  },
  {
   "cell_type": "markdown",
   "metadata": {},
   "source": [
    "## 5. Create an interactive side-by-side bar chart showing the revenue by country listed below (bars) for each of the products listed below."
   ]
  },
  {
   "cell_type": "code",
   "execution_count": 57,
   "metadata": {},
   "outputs": [],
   "source": [
    "product_list = ['JUMBO BAG RED RETROSPOT', \n",
    "                'CREAM HANGING HEART T-LIGHT HOLDER',\n",
    "                'REGENCY CAKESTAND 3 TIER']\n",
    "\n",
    "country_list = ['EIRE', 'Germany', 'France', 'Netherlands']"
   ]
  },
  {
   "cell_type": "code",
   "execution_count": null,
   "metadata": {},
   "outputs": [],
   "source": []
  },
  {
   "cell_type": "markdown",
   "metadata": {},
   "source": [
    "## 6. Create an interactive line chart showing quantity sold by day for the United Kingdom. Add drop-down boxes for Year and Month that allow you to filter the date range that appears in the chart."
   ]
  },
  {
   "cell_type": "code",
   "execution_count": 59,
   "metadata": {},
   "outputs": [],
   "source": [
    "data['Year'] = pd.DatetimeIndex(data['InvoiceDate']).year\n",
    "data['Month'] = pd.DatetimeIndex(data['InvoiceDate']).month\n",
    "data['Day'] = pd.DatetimeIndex(data['InvoiceDate']).day\n",
    "uk = data[data['Country']=='United Kingdom']"
   ]
  },
  {
   "cell_type": "code",
   "execution_count": null,
   "metadata": {},
   "outputs": [],
   "source": []
  },
  {
   "cell_type": "markdown",
   "metadata": {},
   "source": [
    "## 7. Create an interactive scatter plot that plots number of invoices (x-axis) vs. number of customers (y-axis) and the plot points represent individual products. Add two sliders that control the x and y axis ranges."
   ]
  },
  {
   "cell_type": "code",
   "execution_count": 60,
   "metadata": {},
   "outputs": [],
   "source": [
    "agg_func = {'InvoiceNo':'nunique',\n",
    "            'Quantity':'sum',\n",
    "            'UnitPrice':'mean',\n",
    "            'Revenue':'sum',\n",
    "            'CustomerID':'nunique'}\n",
    "\n",
    "products = uk.groupby('Description').agg(agg_func)"
   ]
  },
  {
   "cell_type": "code",
   "execution_count": null,
   "metadata": {},
   "outputs": [],
   "source": [
    "products.reset_index(inplace=True)\n",
    "px.scatter(products,x=\"InvoiceNo\",\n",
    "           y=\"CustomerID\",\n",
    "           color=\"Description\",\n",
    "           animation_frame=\"CustomerID\",\n",
    "           animation_group=\"InvoiceNo\")"
   ]
  },
  {
   "cell_type": "markdown",
   "metadata": {},
   "source": [
    "## 8. Creat an interactive bar chart that shows revenue by product description. Add a text field widget that filters the results to show the product that contain the text entered in their description."
   ]
  },
  {
   "cell_type": "code",
   "execution_count": null,
   "metadata": {},
   "outputs": [],
   "source": []
  }
 ],
 "metadata": {
  "kernelspec": {
   "display_name": "Python 3 (ipykernel)",
   "language": "python",
   "name": "python3"
  },
  "language_info": {
   "codemirror_mode": {
    "name": "ipython",
    "version": 3
   },
   "file_extension": ".py",
   "mimetype": "text/x-python",
   "name": "python",
   "nbconvert_exporter": "python",
   "pygments_lexer": "ipython3",
   "version": "3.9.7"
  },
  "latex_envs": {
   "LaTeX_envs_menu_present": true,
   "autoclose": false,
   "autocomplete": true,
   "bibliofile": "biblio.bib",
   "cite_by": "apalike",
   "current_citInitial": 1,
   "eqLabelWithNumbers": true,
   "eqNumInitial": 1,
   "hotkeys": {
    "equation": "Ctrl-E",
    "itemize": "Ctrl-I"
   },
   "labels_anchors": false,
   "latex_user_defs": false,
   "report_style_numbering": false,
   "user_envs_cfg": false
  },
  "toc": {
   "base_numbering": 1,
   "nav_menu": {},
   "number_sections": true,
   "sideBar": true,
   "skip_h1_title": false,
   "title_cell": "Table of Contents",
   "title_sidebar": "Contents",
   "toc_cell": true,
   "toc_position": {},
   "toc_section_display": true,
   "toc_window_display": false
  },
  "varInspector": {
   "cols": {
    "lenName": 16,
    "lenType": 16,
    "lenVar": 40
   },
   "kernels_config": {
    "python": {
     "delete_cmd_postfix": "",
     "delete_cmd_prefix": "del ",
     "library": "var_list.py",
     "varRefreshCmd": "print(var_dic_list())"
    },
    "r": {
     "delete_cmd_postfix": ") ",
     "delete_cmd_prefix": "rm(",
     "library": "var_list.r",
     "varRefreshCmd": "cat(var_dic_list()) "
    }
   },
   "types_to_exclude": [
    "module",
    "function",
    "builtin_function_or_method",
    "instance",
    "_Feature"
   ],
   "window_display": false
  }
 },
 "nbformat": 4,
 "nbformat_minor": 2
}
